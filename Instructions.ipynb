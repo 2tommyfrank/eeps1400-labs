{
 "cells": [
  {
   "cell_type": "markdown",
   "id": "f607bad9-02db-4be0-b7a8-f8d188c20ddd",
   "metadata": {},
   "source": [
    "## Instructions"
   ]
  },
  {
   "cell_type": "markdown",
   "id": "b26baf66-204a-43a1-9c65-c7194e788a6e",
   "metadata": {},
   "source": [
    "In each section, read each text or code cell and then run it with Shift + Enter. If you're a quantitative student, you don't have to complete any of the sections marked (Qual). If you're a qualitative student, you don't have to complete any of the sections marked (Quant). Whenever you see *TO-DO* in a code block, that indicates a coding task to complete before you run that cell. You can always re-run a cell after you make changes to it.\n",
    "\n",
    "When you close the Jupter application and come back to it later, you need to re-run all the cells in the week you're working on. But if you're working on Week 2, for example, you don't need to run all the Week 1 cells again."
   ]
  }
 ],
 "metadata": {
  "kernelspec": {
   "display_name": "Python 3 (ipykernel)",
   "language": "python",
   "name": "python3"
  },
  "language_info": {
   "codemirror_mode": {
    "name": "ipython",
    "version": 3
   },
   "file_extension": ".py",
   "mimetype": "text/x-python",
   "name": "python",
   "nbconvert_exporter": "python",
   "pygments_lexer": "ipython3",
   "version": "3.12.3"
  }
 },
 "nbformat": 4,
 "nbformat_minor": 5
}
