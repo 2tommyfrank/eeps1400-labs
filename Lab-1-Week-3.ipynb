{
 "cells": [
  {
   "cell_type": "markdown",
   "id": "04312ae3-fb02-4bd6-80ce-d19d8131b8b4",
   "metadata": {},
   "source": [
    "# Week 3: Modeling the Ocean"
   ]
  },
  {
   "cell_type": "markdown",
   "id": "ef6f0ebc-5283-48fe-b0de-b90e368ccdb1",
   "metadata": {},
   "source": [
    "**Discussion**: Revisit the emissions pathways we introduced last week. On the radiative forcing plot, draw a pathway you think our world is likely to follow. Compare with your classmates and discuss your choice."
   ]
  },
  {
   "cell_type": "markdown",
   "id": "00b35193-fa3b-4a44-a82b-35f2a5dffba9",
   "metadata": {},
   "source": [
    "This week, we'll discuss how including the ocean impacts energy balance models, using a two-layer model introduced in [this paper](https://eartharxiv.org/repository/view/4581/). **Quantitative** students will model the ocean and atmosphere as a system of differential equations. **Qualitative** students will assess their confidence in the outputs of the models we developed in this lab."
   ]
  },
  {
   "cell_type": "markdown",
   "id": "195c0ecf-6b9e-4786-9b03-f63d5c8c0592",
   "metadata": {
    "jp-MarkdownHeadingCollapsed": true
   },
   "source": [
    "## Two-Layer Ocean Model (Quant.)"
   ]
  },
  {
   "cell_type": "code",
   "execution_count": null,
   "id": "192038ca-cdcf-46f1-adbf-c4a896e3c7f4",
   "metadata": {
    "jupyter": {
     "source_hidden": true
    }
   },
   "outputs": [],
   "source": [
    "import numpy as np # Mathematical functions\n",
    "import matplotlib.pyplot as plt # Making plots\n",
    "import pandas as pd # Tabular data\n",
    "\n",
    "def euler(time, initials, derivatives, *extra_inputs): # provided for you\n",
    "    from inspect import signature\n",
    "\n",
    "    # Validate time input\n",
    "    try: time.iloc[0]\n",
    "    except AttributeError: time = pd.Series(time)\n",
    "    if len(time) < 2:\n",
    "        raise ValueError(\"must have at least two time points to use Euler's method\")\n",
    "    for t in time:\n",
    "        try: float(t)\n",
    "        except ValueError: raise TypeError('time points must be numbers (' + str(t) + ' is not a number)')\n",
    "\n",
    "    # Validate initials input\n",
    "    try: initials.iloc[0]\n",
    "    except AttributeError: initials = pd.Series(initials)\n",
    "    for initial in initials:\n",
    "        try: float(initial)\n",
    "        except ValueError: raise TypeError('initial conditions must be numbers (' + str(initial) + ' is not a number)')\n",
    "\n",
    "    # Validate derivatives input\n",
    "    try: derivatives.iloc[0]\n",
    "    except AttributeError: derivatives = pd.Series(derivatives)\n",
    "    if len(initials) != len(derivatives):\n",
    "        raise ValueError('number of initial conditions is ' + str(len(initials)) + ', but number of differential equations is ' + str(len(derivatives)))\n",
    "    for deriv in derivatives:\n",
    "        if not callable(deriv):\n",
    "            raise TypeError('differential equations must be functions (' + str(deriv) + ' is not a function)')\n",
    "        if len(deriv.__name__) < 5 or deriv.__name__[0] != 'd' or deriv.__name__[-3:] != '_dt':\n",
    "            raise ValueError('differential equations must be named like dX_dt, not ' + deriv.__name__)\n",
    "    for (name, params) in [(deriv.__name__, list(signature(deriv).parameters.keys())) for deriv in derivatives]:\n",
    "        if len(params) < 1 + len(derivatives):\n",
    "            raise TypeError('each differential equation must have 1 input for time plus ' + str(len(derivatives)) + ' input(s) for the current values of each variable')\n",
    "        if params[0] != 't':\n",
    "            raise TypeError('the first input of ' + name + ' must be time (t)')\n",
    "        for i in range(len(derivatives)):\n",
    "            if params[i + 1] != derivatives.iloc[i].__name__[1:-3]:\n",
    "                raise TypeError('input #' + str(i + 1) + ' of ' + name + ' must be ' + derivatives.iloc[i].__name__[1:-3])\n",
    "        if len(params) != 1 + len(derivatives) + len(extra_inputs):\n",
    "            raise TypeError('euler was given ' + str(len(extra_inputs)) + ' extra input(s), but ' + name + ' has ' + str(len(params) - len(derivatives) - 1) + ' extra input(s)')\n",
    "\n",
    "    # Initialize output array and set initial conditions\n",
    "    names = [deriv.__name__[1:-3] for deriv in derivatives]\n",
    "    variables = {name: pd.Series(np.zeros(len(time)), index=time) for name in names}\n",
    "    for i in range(len(names)):\n",
    "        variables[names[i]].loc[time[0]] = initials.iloc[i]\n",
    "\n",
    "    # Step through output array, perform Euler's method\n",
    "    for t in range(0, len(time) - 1):\n",
    "        delta_t = time.iloc[t+1] - time.iloc[t]\n",
    "        current = [variables[name].loc[time.iloc[t]] for name in names]\n",
    "        for i in range(len(names)):\n",
    "            deriv = derivatives.iloc[i](time.iloc[t], *current, *extra_inputs)\n",
    "            try: float(deriv)\n",
    "            except ValueError: raise TypeError('differential equations must output numbers (' + str(deriv) + ' is not a number)')\n",
    "            variables[names[i]].loc[time.iloc[t+1]] = variables[names[i]].loc[time.iloc[t]] + delta_t * deriv\n",
    "    return pd.DataFrame(variables)"
   ]
  },
  {
   "cell_type": "markdown",
   "id": "54424533-8da1-4079-9e2f-5b4ab6eba7f8",
   "metadata": {},
   "source": [
    "Read pages 8-9 of the paper linked above. The top layer represents the Earth's surface and the upper ocean combined; the bottom layer represents the deep ocean. Make an autonomous model in Python that captures the important parts of the paper's model—it will need to be a system of differential equations. Then, make plots of the model's output for a few different initial conditions. To use the Euler method with a system of differential equations, you just have to put the initial conditions and differential equations in brackets, separated by commas. For example:\n",
    "\n",
    "    euler(t, [T1_initial, T2_initial], [dT1_dt, dT2_dt])"
   ]
  },
  {
   "cell_type": "code",
   "execution_count": null,
   "id": "f7334ea7-3fe7-4280-97e2-7d60b80bee1f",
   "metadata": {},
   "outputs": [],
   "source": [
    "# TO-DO: Define necessary constants\n"
   ]
  },
  {
   "cell_type": "code",
   "execution_count": null,
   "id": "f2e1e034-9ba8-4d82-9795-2b9d7ef93b94",
   "metadata": {},
   "outputs": [],
   "source": [
    "# TO-DO: Define the differential equations\n"
   ]
  },
  {
   "cell_type": "code",
   "execution_count": null,
   "id": "ea163dfa-a3eb-4906-b253-b91c6bfc6c67",
   "metadata": {},
   "outputs": [],
   "source": [
    "# TO-DO: Plot output\n"
   ]
  },
  {
   "cell_type": "markdown",
   "id": "61c9c700-b037-494b-ab44-48c837f8c0b5",
   "metadata": {},
   "source": [
    "Consider all the parameters to the model you defined as constants. All of these except for the Stefan-Boltzmann constant could vary (at least in theory), and our measurements of them are subject to error. Modify each parameter to see how its variation affects the model output. Write down each parameter's effect, including how the magnitude of the effect differs between parameters."
   ]
  },
  {
   "cell_type": "markdown",
   "id": "554f1569-1cdb-4e34-8f74-91ff321100f5",
   "metadata": {},
   "source": []
  },
  {
   "cell_type": "markdown",
   "id": "b159a46b-f4ac-4b42-9555-8ac465894caa",
   "metadata": {},
   "source": [
    "Find a reasonable set of parameter values that gives results similar to the real Earth. Explain how you arrived at your parameter choices."
   ]
  },
  {
   "cell_type": "markdown",
   "id": "6d37886a-65cd-445b-91d8-c93568f74dd0",
   "metadata": {},
   "source": []
  },
  {
   "cell_type": "markdown",
   "id": "d5d5bd85-bc1e-4cba-81ae-34409b0d7382",
   "metadata": {
    "jp-MarkdownHeadingCollapsed": true
   },
   "source": [
    "## Ocean Heat Uptake (Qual.)"
   ]
  },
  {
   "cell_type": "markdown",
   "id": "098b028b-a3ec-4744-b0aa-f683b680f973",
   "metadata": {},
   "source": [
    "<figure>\n",
    "    <img src=\"Lab1Images/fig7.png\" width=\"400\"/>\n",
    "    <figcaption>\n",
    "        <a href=\"https://eartharxiv.org/repository/view/4581/\">\n",
    "            Fig. 7: Energy balance diagram including the ocean (fig. 2 in the paper)\n",
    "        </a>\n",
    "    </figcaption>\n",
    "</figure>\n",
    "\n",
    "In around 200 words, answer the following questions about Figure 7.\n",
    "- Explain the different components of the model. Intuitively, what does each term represent?\n",
    "- Which heats up faster, land or ocean? Why?\n",
    "- What do we gain from including the ocean? Would it be worthwhile to include more ocean layers? What about atmospheric layers?"
   ]
  },
  {
   "cell_type": "markdown",
   "id": "0d5e4ab9-1e27-4694-a50e-0d974b7e8b3e",
   "metadata": {},
   "source": []
  },
  {
   "cell_type": "markdown",
   "id": "320e4a83-b79e-4546-b48b-9d326ae20f52",
   "metadata": {
    "jp-MarkdownHeadingCollapsed": true
   },
   "source": [
    "## Essay: Simplified Models (Qual.)"
   ]
  },
  {
   "cell_type": "markdown",
   "id": "98ded1c1-bdb8-4319-9105-b87688790824",
   "metadata": {},
   "source": [
    "In around 1000 words, explain how much we can trust climate models' predictive power. Consider the first two chapters of *Computing the Climate*, as well as the model we developed in this lab. You might want to ask a quantitative student to show you their work in order to gather more information."
   ]
  }
 ],
 "metadata": {
  "kernelspec": {
   "display_name": "Python 3 (ipykernel)",
   "language": "python",
   "name": "python3"
  },
  "language_info": {
   "codemirror_mode": {
    "name": "ipython",
    "version": 3
   },
   "file_extension": ".py",
   "mimetype": "text/x-python",
   "name": "python",
   "nbconvert_exporter": "python",
   "pygments_lexer": "ipython3",
   "version": "3.12.3"
  }
 },
 "nbformat": 4,
 "nbformat_minor": 5
}
