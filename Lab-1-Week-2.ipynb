{
 "cells": [
  {
   "cell_type": "markdown",
   "id": "9d602d1a-03e6-4cb0-8f04-7503eafe630f",
   "metadata": {},
   "source": [
    "# Lab 1 Week 2: Climate Change"
   ]
  },
  {
   "cell_type": "markdown",
   "id": "fc08c77c-9f18-4a2e-8418-8fe74228e327",
   "metadata": {},
   "source": [
    "**Discussion**: Look back at the plots of albedo, transmissivity and temperature from last week (in particular, the color and contour plots). Where on the plots would each of the following planets be located? Is it even possible to find a place for each of these planets?\n",
    "\n",
    "- Earth\n",
    "- Mars\n",
    "- Venus\n",
    "- Snowball Earth"
   ]
  },
  {
   "cell_type": "markdown",
   "id": "86792e13-e7c3-45f4-ba4a-bd1938b0f947",
   "metadata": {},
   "source": [
    "This week, we'll consider how our energy balance model can account for climate change. We'll introduce the concept of radiative forcing and work with real-world data. **Quantitative** students will add time dependence to the model by rewriting it as a differential equation. **Qualitative** students will address how radiative forcing corresponds to greenhouse gas concentrations."
   ]
  },
  {
   "cell_type": "markdown",
   "id": "cea8faa5-50ed-4b03-9a00-d2fe11f8cc9f",
   "metadata": {
    "jp-MarkdownHeadingCollapsed": true
   },
   "source": [
    "## Greenhouse Gases (Qual.)"
   ]
  },
  {
   "cell_type": "markdown",
   "id": "90393780-5900-4ee6-a9a1-d0ffa8128c50",
   "metadata": {},
   "source": [
    "In the following diagram, the red curve shows a blackbody spectrum like the ones in Figure 1. The cyan region shows longwave radiation measured by satellites at the top of the Earth's atmosphere. Greenhouse gases labels are placed next to the parts of the electromagnetic spectrum they absorb.\n",
    "\n",
    "<figure>\n",
    "    <img src=\"Lab1Images/fig4.png\" width=\"500\"/>\n",
    "    <figcaption>\n",
    "        <a href=\"https://www.giss.nasa.gov/research/briefs/archive/2010_schmidt_05/\"> Fig. 4: Earth's emission spectrum observed from space </a>\n",
    "    </figcaption>\n",
    "</figure>\n",
    "\n",
    "In around 150 words, answer the following questions about Figure 4.\n",
    "- What is the correspondence between the axes of Figure 4 and Figure 1?\n",
    "- What parts of the graph correspond to the \"atmospheric window\" in Figures 2 and 3?\n",
    "- How might the spectral flux be changing as greenhouse gas concentrations rise?\n",
    "- Our model from last week used transmissivity to account for the greenhouse effect. If our model instaed calculated radiative flux for each part of the spectrum individually, how might we represent greenhouse gases?"
   ]
  },
  {
   "cell_type": "markdown",
   "id": "c71cfb89-1714-479e-a87b-7df19ec730db",
   "metadata": {},
   "source": []
  },
  {
   "cell_type": "markdown",
   "id": "602b3d6c-0e37-4158-b75e-f3b66e66b768",
   "metadata": {
    "jp-MarkdownHeadingCollapsed": true
   },
   "source": [
    "## Radiative Forcing"
   ]
  },
  {
   "cell_type": "markdown",
   "id": "b5285480-8e7f-4951-8691-140d192f8469",
   "metadata": {},
   "source": [
    "In Week 1, we worked with a zero-dimensional model. We ignored all spatial variation and change over time to focus on how a few key parameters affect the Earth's overall energy balance. This week, we'll introduce the dimension of time to explore climate change. We'll also introduce a new Python package called **pandas**, which lets you work with tabular data. Let's first import all the packages we'll need and reintroduce the important constants from last week."
   ]
  },
  {
   "cell_type": "code",
   "execution_count": null,
   "id": "07570bf1-8fbd-445b-a68a-9c3e48f59876",
   "metadata": {},
   "outputs": [],
   "source": [
    "import numpy as np # Mathematical functions\n",
    "import matplotlib.pyplot as plt # Making plots\n",
    "import pandas as pd # Tabular data\n",
    "\n",
    "S = 1367 # Maximum insolation [W m-2]\n",
    "S0 = S / 4 # Average insolation [W m-2]\n",
    "sigma = 5.67e-8 # Stefan-Boltzmann constant [W m-2 K-4]\n",
    "alpha = 0.3 # Albedo [fraction]\n",
    "tau = 0.61 # Transmissivity [fraction]"
   ]
  },
  {
   "cell_type": "markdown",
   "id": "355d9dd8-4afb-4044-9dfd-7d32e38f3581",
   "metadata": {},
   "source": [
    "One of the common ways of quantifying climate change is to express the impacts of a changing atmospheric composition in terms of *radiative forcing*.\n",
    "\n",
    "<figure>\n",
    "    <img src=\"Lab1Images/fig5.png\" width=\"400\"/>\n",
    "    <figcaption>\n",
    "        <a href=\"https://commons.wikimedia.org/wiki/File:ESSD_Radiative_Forcing_1750_to_2022.png\">\n",
    "            Fig. 5: Radiative forcing due to various factors from 1750 to 2022\n",
    "        </a>\n",
    "    </figcaption>\n",
    "</figure>\n",
    "\n",
    "In terms of the energy balance we developed last week, this is an additional amount of radiative energy absorbed by the surface, on top of insolation. Radiative forcing is expressed in the same units \\[W m-2], which means we just have to add it to insolation to get the total energy absorbed by the Earth's surface. As a first step, make a Python function and a plot to show how radiative forcing affects surface temperature. Note that we keep transmissivity constant when applying a radiative forcing; changing the atmosphere's transmissivity would be an alternative method of quantifying atmospheric change."
   ]
  },
  {
   "cell_type": "code",
   "execution_count": null,
   "id": "7ac4650b-66ff-47fa-a1a5-f8de0cf70152",
   "metadata": {},
   "outputs": [],
   "source": [
    "# TO-DO: Surface temperature [K] as a function of radiative forcing [W m-2]\n",
    "\n",
    "\n",
    "# TO-DO: Plot surface temperature against radiative forcing\n"
   ]
  },
  {
   "cell_type": "markdown",
   "id": "31ee8050-d85e-48ee-9f95-f811ffa9f73d",
   "metadata": {},
   "source": [
    "Now, let's introduce real radiative forcing data. If you've read the [IPCC report](https://www.ipcc.ch/report/ar6/syr/downloads/report/IPCC_AR6_SYR_SPM.pdf) before, you might have seen this chart:\n",
    "\n",
    "<figure>\n",
    "    <img src=\"Lab1Images/fig6.png\" width=\"350\"/>\n",
    "    <figcaption> Fig. 6: Global surface temperature change relative to 1850–1900 </figcaption>\n",
    "</figure>\n",
    "\n",
    "Our goal is to make a similar plot using our simple energy balance model. The following data comes from the IPCC's Sixth Assessment Report. (Run the next cell to show an abbreviated table.)"
   ]
  },
  {
   "cell_type": "code",
   "execution_count": null,
   "id": "57d61a17-d04b-4596-8961-1013c481889e",
   "metadata": {
    "jupyter": {
     "source_hidden": true
    }
   },
   "outputs": [],
   "source": [
    "# Radiative forcing time series [W m-2]\n",
    "forcing = pd.DataFrame({\n",
    "    \"historical\": pd.Series([0.339334662, 0.331694252, 0.099169156, -0.599713485, -0.121548838, 0.218511249, 0.340981015, 0.133297262, 0.278007288, 0.325796473, 0.297694912, 0.300784491, -0.283521907, -0.199670063, 0.153958610, 0.382038487, 0.421617775, 0.434293351, 0.449111939, 0.488735541, 0.429874157, 0.493895451, 0.340817383, 0.359556786, 0.465389724, 0.489350356, 0.506467455, 0.506875366, 0.452696747, 0.224766681, 0.477797214, 0.534851090, 0.379437542, 0.510727919, 0.517998473, 0.528004936, 0.561884803, 0.554261753, 0.601730207, 0.570321414, 0.520841138, 0.501564329, 0.475286256, 0.464872712, 0.487595560, 0.604181381, 0.640887058, 0.640581886, 0.630054712, 0.665480598, 0.587848311, 0.552024616, 0.538355437, 0.520261174, 0.525887364, 0.520844445, 0.541069873, 0.574587491, 0.613839974, 0.576028124, 0.536675800, 0.463667643, 0.264327857, -0.668736888, -0.396074819, -0.076894153, 0.415946173, 0.189793861, 0.331746199, 0.436893927, 0.418944029, 0.284737261, 0.392233069, 0.547735050, 0.455921294, 0.263639935, 0.494557869, 0.663437129, 0.786271639, 0.843821740, 0.857550523, 0.910342163, 0.530039722, 0.192163227, 0.632302488, 0.918400387, 0.972051480, 1.072218692, 1.242358554, 1.407779348, 1.416185145, 0.654347199, -0.396803570, 0.566546790, 1.228494201, 1.516748257, 1.642103012, 1.558958981, 1.699940972, 1.933550226, 2.025578931, 2.042293413, 2.007223028, 1.934569124, 1.957403577, 1.904309296, 1.884669866, 1.942468734, 2.051692761, 2.128211748, 2.236903633, 2.289789594, 2.357421090, 2.525990963, 2.558242346],\n",
    "                            index=range(1900, 2015)),\n",
    "    \"ssp119\": pd.Series([2.558242346, 2.621443765, 2.631003524, 2.661159351, 2.695415604, 2.745777044, 2.812783561, 2.896915908, 2.981064658, 3.043414761, 3.087381755, 3.111052912, 3.127909742, 3.140722289, 3.165576667, 3.180507973, 3.201032536, 3.195306088, 3.197833552, 3.218863454, 3.254899771, 3.256237273, 3.268866237, 3.246319926, 3.239310246, 3.207384402, 3.176035091, 3.142749747, 3.123276530, 3.111906065, 3.110195040, 3.131560715, 3.141146600, 3.153180441, 3.140111723, 3.102006557, 3.051213554, 3.016811955, 2.983727219, 2.955557070, 2.943320587, 2.948055296, 2.957928519, 2.942904414, 2.931581201, 2.919367915, 2.882487014, 2.850600798, 2.822089884, 2.803388135, 2.788073326, 2.781270940, 2.796648619, 2.808914265, 2.809636363, 2.790542980, 2.761460869, 2.727490521, 2.705112133, 2.685369377, 2.661840389, 2.645119065, 2.628267337, 2.622402658, 2.627859398, 2.634496041, 2.635197721, 2.623479794, 2.608773226, 2.580580343, 2.560035218, 2.524453818, 2.498376269, 2.483045017, 2.470233556, 2.471989760, 2.484576176, 2.490791120, 2.502731313, 2.477021974, 2.439865069, 2.407204889, 2.371431676, 2.349038614, 2.326983186, 2.320757722, 2.326702073],\n",
    "                        index=range(2014, 2101)),\n",
    "    \"ssp126\": pd.Series([2.558242346, 2.621444433, 2.630660590, 2.659554403, 2.691140506, 2.736990658, 2.798815201, 2.875904523, 2.954525429, 3.014397913, 3.058088188, 3.083140309, 3.104145997, 3.123382664, 3.156223166, 3.180798655, 3.212483897, 3.236948436, 3.270586568, 3.322044881, 3.388397077, 3.419166413, 3.460936704, 3.467056479, 3.488522901, 3.485051643, 3.481891580, 3.472240958, 3.476305837, 3.487876284, 3.508530378, 3.552127718, 3.583553126, 3.617112218, 3.625324786, 3.608164126, 3.578349417, 3.564429825, 3.551420027, 3.542447809, 3.548630981, 3.570959137, 3.597835707, 3.599089987, 3.603240553, 3.606021347, 3.583626908, 3.561591073, 3.542458211, 3.532609740, 3.525682657, 3.526683767, 3.549304982, 3.568373714, 3.575524992, 3.562352170, 3.538732648, 3.507835596, 3.487981404, 3.470157575, 3.447892841, 3.431885262, 3.415127229, 3.408820560, 3.413229416, 3.418381488, 3.416971497, 3.403059253, 3.385971834, 3.355669483, 3.333106757, 3.295643201, 3.267804793, 3.250781915, 3.236263843, 3.236499474, 3.247458049, 3.252639545, 3.264056100, 3.238403408, 3.201756263, 3.170043145, 3.135645730, 3.115206457, 3.095435258, 3.091846385, 3.100767202],\n",
    "                        index=range(2014, 2101)),\n",
    "    \"ssp245\": pd.Series([2.558242346, 2.621442295, 2.630346469, 2.660777850, 2.698753169, 2.758222378, 2.832312180, 2.903233563, 2.976799451, 3.032345549, 3.073767233, 3.097872032, 3.118547087, 3.138689418, 3.173452108, 3.201373101, 3.236826616, 3.281544854, 3.336719304, 3.410640302, 3.500029038, 3.555083326, 3.621842131, 3.653829688, 3.702151685, 3.726016607, 3.751031224, 3.779998572, 3.823469393, 3.874439223, 3.934332641, 4.017284668, 4.088117642, 4.161452680, 4.209210353, 4.231701432, 4.241843859, 4.264029508, 4.286928735, 4.313816848, 4.355587301, 4.413245315, 4.475152742, 4.511577470, 4.550838813, 4.588457744, 4.601085229, 4.614963657, 4.631614844, 4.657732212, 4.686742859, 4.723341942, 4.781807213, 4.836565775, 4.879633653, 4.902497496, 4.914900861, 4.920978275, 4.938140203, 4.957076846, 4.971687319, 4.992551840, 5.012246151, 5.042669707, 5.083649373, 5.125227847, 5.160567115, 5.183091898, 5.202196614, 5.207296953, 5.219266127, 5.215615542, 5.220998398, 5.236531048, 5.253959609, 5.285473731, 5.327099996, 5.357384208, 5.392938488, 5.390754374, 5.376809443, 5.367157352, 5.354329948, 5.354448255, 5.354672290, 5.370463724, 5.398082648],\n",
    "                        index=range(2014, 2101)),\n",
    "    \"ssp370\": pd.Series([2.558242346, 2.621439699, 2.625581735, 2.644135998, 2.666734348, 2.711765766, 2.761809718, 2.842259975, 2.927001036, 2.994977496, 3.049820610, 3.088344832, 3.124437499, 3.160619455, 3.212447187, 3.258009170, 3.311751149, 3.366498688, 3.432268246, 3.517814700, 3.619519711, 3.687740447, 3.768415097, 3.815309261, 3.878990978, 3.919029660, 3.960950250, 4.004601297, 4.063090071, 4.129921439, 4.206585225, 4.307074821, 4.396052434, 4.488094999, 4.555498382, 4.598273385, 4.629179708, 4.679597719, 4.731666970, 4.788377666, 4.860626113, 4.949514799, 5.043486308, 5.112303552, 5.184861575, 5.256512527, 5.303665584, 5.355040699, 5.409651443, 5.474121954, 5.542179280, 5.618697531, 5.717400615, 5.812954604, 5.897411565, 5.961956892, 6.016644829, 6.064932983, 6.124972857, 6.188070208, 6.247610250, 6.314349494, 6.380965435, 6.458859864, 6.548410029, 6.639576913, 6.724795008, 6.798311419, 6.868948860, 6.926620432, 6.992040498, 7.042684491, 7.103011829, 7.174420781, 7.248535348, 7.337746732, 7.437937230, 7.532553836, 7.633365702, 7.696572226, 7.748621806, 7.805417668, 7.859343778, 7.927238251, 7.995650769, 8.080157987, 8.177166108],\n",
    "                        index=range(2014, 2101)),\n",
    "    \"ssp585\": pd.Series([2.558242346, 2.621441993, 2.633921579, 2.675134072, 2.733290824, 2.823863890, 2.935434478, 3.021322075, 3.111847194, 3.187108177, 3.250762756, 3.299354816, 3.346360088, 3.394371362, 3.459383053, 3.518705698, 3.587575725, 3.648561001, 3.721904111, 3.816572468, 3.929235333, 4.009972955, 4.104849621, 4.167062805, 4.247483012, 4.305480018, 4.366314792, 4.432656216, 4.514874391, 4.606547891, 4.708788172, 4.835896272, 4.952517183, 5.072855145, 5.169442974, 5.242388338, 5.304256817, 5.377043870, 5.452041862, 5.531827794, 5.627603459, 5.740260241, 5.858312553, 5.951704427, 6.048958452, 6.145812875, 6.218396923, 6.296431074, 6.378141357, 6.470060528, 6.565825982, 6.670426019, 6.797551178, 6.922029472, 7.035437212, 7.129427278, 7.214053068, 7.297163607, 7.392097267, 7.489277009, 7.582365599, 7.682114387, 7.781540676, 7.891784402, 8.013372538, 8.136107140, 8.253038967, 8.355473691, 8.454176563, 8.537914116, 8.627801843, 8.701206021, 8.783023330, 8.874447380, 8.967062372, 9.073502764, 9.189504073, 9.296699665, 9.409007415, 9.482504647, 9.543909165, 9.609063514, 9.670047097, 9.743687564, 9.816981823, 9.905266908, 10.00495589],\n",
    "                        index=range(2014, 2101)),\n",
    "})\n",
    "forcing"
   ]
  },
  {
   "cell_type": "markdown",
   "id": "a9f4feff-4e66-41b0-9546-4d1e88861626",
   "metadata": {},
   "source": [
    "The rows are each year from 1900 to 2100, the columns show different emissions pathways, and the cells in the table are radiative forcing values. The cells with 'NaN' (meaning \"Not a Number\") just indicate missing data; the historical column has data until 2014, while the emissions pathways have data after 2014. To retrieve data from this table (called `forcing`), you put the name of a column in square brackets. This outputs a list of all the values in that column, which you can use like `np.linspace` from last week."
   ]
  },
  {
   "cell_type": "code",
   "execution_count": null,
   "id": "160fb605-7bcc-44b4-85ec-308506e81063",
   "metadata": {},
   "outputs": [],
   "source": [
    "print(forcing[\"ssp370\"])"
   ]
  },
  {
   "cell_type": "markdown",
   "id": "b1a58766-a0d1-4886-9215-df00867130f2",
   "metadata": {},
   "source": [
    "You can also put a year in another set of brackets after `.loc` to retrieve a specific data point."
   ]
  },
  {
   "cell_type": "code",
   "execution_count": null,
   "id": "ee56075b-8162-4373-a477-c9e8fcd3ce15",
   "metadata": {},
   "outputs": [],
   "source": [
    "print(forcing[\"ssp370\"].loc[2050])"
   ]
  },
  {
   "cell_type": "markdown",
   "id": "bf74155a-a819-4ea4-85d5-72b338a6770c",
   "metadata": {},
   "source": [
    "Or, you can put two years instead, separated by a colon, to retrieve data with a starting and ending date."
   ]
  },
  {
   "cell_type": "code",
   "execution_count": null,
   "id": "b7f911c7-8183-4a1a-8167-a6b1907ab6cc",
   "metadata": {},
   "outputs": [],
   "source": [
    "print(forcing[\"ssp370\"].loc[2050:2060])"
   ]
  },
  {
   "cell_type": "markdown",
   "id": "0af6da90-35f3-4d00-97be-8050d5cc2b69",
   "metadata": {},
   "source": [
    "Lastly, you can use `forcing.index` to get the list of years used in the dataset. This is useful for making plots:"
   ]
  },
  {
   "cell_type": "code",
   "execution_count": null,
   "id": "ed4aaafb-0f97-4578-8dbf-d9318aad7d0c",
   "metadata": {},
   "outputs": [],
   "source": [
    "plt.plot(forcing.index, forcing[\"historical\"])\n",
    "plt.xlabel(\"Year\")\n",
    "plt.ylabel(\"Historical radiative forcing [W m-2]\")\n",
    "plt.show()"
   ]
  },
  {
   "cell_type": "markdown",
   "id": "0d9a0d9c-bef7-4a64-8d60-e7acbbd777c2",
   "metadata": {},
   "source": [
    "To understand what the emissions pathways look like, make similar line plots of them."
   ]
  },
  {
   "cell_type": "code",
   "execution_count": null,
   "id": "1255186a-6d25-4d24-805f-40f9fe863e29",
   "metadata": {},
   "outputs": [],
   "source": [
    "# TO-DO: Show all columns of the forcing dataset on one plot\n"
   ]
  },
  {
   "cell_type": "markdown",
   "id": "882ac60c-8b04-471f-bcc4-5501fb415d5b",
   "metadata": {},
   "source": [
    "Now, use the Python function you wrote earlier to show how each emissions pathway affects surface temperature. Your plot should look similar but not identical to Figure 2."
   ]
  },
  {
   "cell_type": "code",
   "execution_count": null,
   "id": "22df2a51-1ded-4f3f-b238-04505f8f09a6",
   "metadata": {},
   "outputs": [],
   "source": [
    "# TO-DO: Show all columns of the forcing dataset on one plot\n"
   ]
  },
  {
   "cell_type": "markdown",
   "id": "32116bfb-0081-4507-83aa-bbbcfd9387db",
   "metadata": {},
   "source": [
    "If you look back at Figure 2, you'll see that temperature is given relative to the 1995-2014 average. Modify your plot to look the same way using `np.average`, which computes the average of a list of numbers."
   ]
  },
  {
   "cell_type": "code",
   "execution_count": null,
   "id": "a6ed3e5b-c4c4-46f3-9f07-f11dcc53b23b",
   "metadata": {},
   "outputs": [],
   "source": [
    "# TO-DO: Modify the previous plot to give temperature relative to the 1995-2014 average\n"
   ]
  },
  {
   "cell_type": "markdown",
   "id": "4fa26682-dc61-4baf-8147-a08ac5428bd5",
   "metadata": {},
   "source": [
    "One more modification—we can smooth out the jumps in the graph with a *rolling mean*. To make a 10-year rolling mean, write `.rolling(10).mean()` after a time series. Note: there will be gaps in the data from 1900-1908 and 2015-2023 where there isn't enough data to compute a rolling mean."
   ]
  },
  {
   "cell_type": "code",
   "execution_count": null,
   "id": "292290b7-b1cd-43b9-87b3-9e42740b065c",
   "metadata": {},
   "outputs": [],
   "source": [
    "# TO-DO: Modify the previous plot to use a decadal rolling temperature mean\n"
   ]
  },
  {
   "cell_type": "markdown",
   "id": "4e407b53-8f50-4008-aabd-7fd3ec797d77",
   "metadata": {
    "jp-MarkdownHeadingCollapsed": true
   },
   "source": [
    "## Forcing Components (Qual.)"
   ]
  },
  {
   "cell_type": "markdown",
   "id": "c9ab67ca-39bb-48ba-985c-e44b076c88c4",
   "metadata": {},
   "source": [
    "<figure>\n",
    "    <img src=\"Lab1Images/fig5.png\" width=\"400\"/>\n",
    "    <figcaption>\n",
    "        <a href=\"https://commons.wikimedia.org/wiki/File:ESSD_Radiative_Forcing_1750_to_2022.png\">\n",
    "            Fig. 5: Radiative forcing due to various factors from 1750 to 2022\n",
    "        </a>\n",
    "    </figcaption>\n",
    "</figure>\n",
    "\n",
    "In around 200 words, answer the following questions about Figure 5.\n",
    "\n",
    "- How are the different kinds of radiative forcing represented in our model?\n",
    "- Which of these factors might be easier or harder to predict into the future? Which of them would vary between emissions pathways?\n",
    "- Looking back at your plots in the previous section, what is responsible for the occasional sudden dips in radiative forcing?\n",
    "- Why is the radiative forcing due to water vapor so small compared to its actual contribution to the greenhouse effect?"
   ]
  },
  {
   "cell_type": "markdown",
   "id": "7c33d283-5c2a-4197-b857-5c50d30a9dc8",
   "metadata": {},
   "source": []
  },
  {
   "cell_type": "markdown",
   "id": "30bff045-f02e-44e8-bed7-96efd98451bf",
   "metadata": {
    "jp-MarkdownHeadingCollapsed": true
   },
   "source": [
    "## Autonomous Model (Quant.)"
   ]
  },
  {
   "cell_type": "markdown",
   "id": "b2c105c2-5cc8-41bc-93e5-297bc9541493",
   "metadata": {},
   "source": [
    "So far, we've only considered what happens when the Earth is in perfect radiative balance—that is, we've only looked at equilibrium temperatures. We didn't really have to do any of Week 1 in Python; a graphing calculator would have sufficed. However, the knowledge we've built up is necessary to analyze what happens in the *non*-equilibrium case. Now, we'll build a differential equation model and solve it with Euler's method. First, we'll need a new constant, `Cp`: the effective heat capacity of the Earth's combined land, oceans, and atmosphere."
   ]
  },
  {
   "cell_type": "code",
   "execution_count": null,
   "id": "0c8b1e01-f798-4642-a017-83d7dd85db39",
   "metadata": {},
   "outputs": [],
   "source": [
    "Cp = 17 # Planetary heat capacity [W m-2 K-1 yr]"
   ]
  },
  {
   "cell_type": "markdown",
   "id": "c219ecfb-5759-488e-ad0c-58804f0bd233",
   "metadata": {},
   "source": [
    "For our first non-equilibrium model, let's start with the one-layer energy balance from last week. Given the Earth's current global temperature, the way the temperature will change is determined by the radiative energy balance. When the outgoing radiation is less than the insolation, the Earth heats up. When it's more than insolation, the Earth cools down. The rate of temperature change also depends on the heat capacity, which converts from heat to temperature. In the form of a differential equation, we have\n",
    "\n",
    "$\\dfrac{dT}{dt} = \\dfrac{F_{in} - F_{out}}{C_p}$\n",
    "\n",
    "Write this differential equation as a Python function, using a time input `t` and a temperature input `T`. Since the above equation doesn't depend on time, your function shouldn't either; however, still include `t` as an input to the function so that we can make it time-dependent later."
   ]
  },
  {
   "cell_type": "code",
   "execution_count": null,
   "id": "d1e5f2ad-8c36-47ec-b719-2513dd88a66e",
   "metadata": {},
   "outputs": [],
   "source": [
    "# TO-DO: Change in temperature [K yr-1] as a function of time [yr] and temperature [K]\n",
    "def dT_dt(t, T):\n",
    "    "
   ]
  },
  {
   "cell_type": "markdown",
   "id": "1d9c6122-59bf-4b12-aed3-3d96c3a22a23",
   "metadata": {},
   "source": [
    "Now, we can solve this differential equation using the Euler method. Each year, we calculate the change in temperature from the differential equation and add it to that year's temperature. This approximates what the real temperature should be next year. Mathematically, we repeatedly use the following equation, with *t* starting an some initial time and then increasing by Δ*t* each time.\n",
    "\n",
    "$T(t + \\Delta t) \\approx T(t) + \\dfrac{dT}{dt} \\Delta t$\n",
    "\n",
    "It's not necessary to understand how this is implemented in Python; we've provided it for you as a Python function. The first input `time` is a series of time points to calculate the temperature for. The second input `initials` should contain the initial values of each variable (for now, only one temperature). The third input `derivatives` should contain the differential equations (for now, only one: `dT_dt`). The `*extra_inputs` at the end means you can optionally add extra inputs at the end in case your differential equation requires extra parameters."
   ]
  },
  {
   "cell_type": "code",
   "execution_count": null,
   "id": "e8e34e96-d4f0-448c-9fe6-9def6b209e21",
   "metadata": {
    "jupyter": {
     "source_hidden": true
    }
   },
   "outputs": [],
   "source": [
    "def euler(time, initials, derivatives, *extra_inputs): # provided for you\n",
    "    from inspect import signature\n",
    "\n",
    "    # Validate time input\n",
    "    try: time.iloc[0]\n",
    "    except AttributeError: time = pd.Series(time)\n",
    "    if len(time) < 2:\n",
    "        raise ValueError(\"must have at least two time points to use Euler's method\")\n",
    "    for t in time:\n",
    "        try: float(t)\n",
    "        except ValueError: raise TypeError('time points must be numbers (' + str(t) + ' is not a number)')\n",
    "\n",
    "    # Validate initials input\n",
    "    try: initials.iloc[0]\n",
    "    except AttributeError: initials = pd.Series(initials)\n",
    "    for initial in initials:\n",
    "        try: float(initial)\n",
    "        except ValueError: raise TypeError('initial conditions must be numbers (' + str(initial) + ' is not a number)')\n",
    "\n",
    "    # Validate derivatives input\n",
    "    try: derivatives.iloc[0]\n",
    "    except AttributeError: derivatives = pd.Series(derivatives)\n",
    "    if len(initials) != len(derivatives):\n",
    "        raise ValueError('number of initial conditions is ' + str(len(initials)) + ', but number of differential equations is ' + str(len(derivatives)))\n",
    "    for deriv in derivatives:\n",
    "        if not callable(deriv):\n",
    "            raise TypeError('differential equations must be functions (' + str(deriv) + ' is not a function)')\n",
    "        if len(deriv.__name__) < 5 or deriv.__name__[0] != 'd' or deriv.__name__[-3:] != '_dt':\n",
    "            raise ValueError('differential equations must be named like dX_dt, not ' + deriv.__name__)\n",
    "    for (name, params) in [(deriv.__name__, list(signature(deriv).parameters.keys())) for deriv in derivatives]:\n",
    "        if len(params) < 1 + len(derivatives):\n",
    "            raise TypeError('each differential equation must have 1 input for time plus ' + str(len(derivatives)) + ' input(s) for the current values of each variable')\n",
    "        if params[0] != 't':\n",
    "            raise TypeError('the first input of ' + name + ' must be time (t)')\n",
    "        for i in range(len(derivatives)):\n",
    "            if params[i + 1] != derivatives.iloc[i].__name__[1:-3]:\n",
    "                raise TypeError('input #' + str(i + 1) + ' of ' + name + ' must be ' + derivatives.iloc[i].__name__[1:-3])\n",
    "        if len(params) != 1 + len(derivatives) + len(extra_inputs):\n",
    "            raise TypeError('euler was given ' + str(len(extra_inputs)) + ' extra input(s), but ' + name + ' has ' + str(len(params) - len(derivatives) - 1) + ' extra input(s)')\n",
    "\n",
    "    # Initialize output array and set initial conditions\n",
    "    names = [deriv.__name__[1:-3] for deriv in derivatives]\n",
    "    variables = {name: pd.Series(np.zeros(len(time)), index=time) for name in names}\n",
    "    for i in range(len(names)):\n",
    "        variables[names[i]].loc[time[0]] = initials.iloc[i]\n",
    "\n",
    "    # Step through output array, perform Euler's method\n",
    "    for t in range(0, len(time) - 1):\n",
    "        delta_t = time.iloc[t+1] - time.iloc[t]\n",
    "        current = [variables[name].loc[time.iloc[t]] for name in names]\n",
    "        for i in range(len(names)):\n",
    "            deriv = derivatives.iloc[i](time.iloc[t], *current, *extra_inputs)\n",
    "            try: float(deriv)\n",
    "            except ValueError: raise TypeError('differential equations must output numbers (' + str(deriv) + ' is not a number)')\n",
    "            variables[names[i]].loc[time.iloc[t+1]] = variables[names[i]].loc[time.iloc[t]] + delta_t * deriv\n",
    "    return pd.DataFrame(variables)"
   ]
  },
  {
   "cell_type": "markdown",
   "id": "f1bf2e40-fe2a-46f6-b5db-a647a69a4aca",
   "metadata": {},
   "source": [
    "Here's an example of how to use the Euler method. We first set an initial temperature and a series of time points. Then, using the `euler` function with one initial condition and one differential equation produces a series of temperatures. (The line plot below should tend toward 255 K; if it doesn't, you've defined `dT_dt` wrong.)"
   ]
  },
  {
   "cell_type": "code",
   "execution_count": null,
   "id": "deee7abc-d7be-4c1d-ab6f-7fba39a720ae",
   "metadata": {},
   "outputs": [],
   "source": [
    "T_initial = 287 # Initial temperature for simulation [K]\n",
    "t = np.linspace(0, 25, 100) # List of times of each data point relative to the start of the simulation [yr]\n",
    "T = euler(t, T_initial, dT_dt) # List of temperatures at each time [K]\n",
    "plt.plot(t, T)\n",
    "plt.xlabel(\"Years since start of simulation\")\n",
    "plt.ylabel(\"Global temperature [K]\")\n",
    "plt.show()"
   ]
  },
  {
   "cell_type": "markdown",
   "id": "327fd8b3-b087-49f1-a0fb-e5408615a4c9",
   "metadata": {},
   "source": [
    "In this case, since our model doesn't account for the greenhouse effect yet, the equilibrium temperature is about 255 K, and the simulation converges toward that value. This isn't realistic, so try adding the greenhouse effect to the model. You'll need to rewrite the differential equation, choose an initial condition, and make a new plot."
   ]
  },
  {
   "cell_type": "code",
   "execution_count": null,
   "id": "ca68f3f4-a3f0-4b9a-bec6-78534fc146ed",
   "metadata": {},
   "outputs": [],
   "source": [
    "# TO-DO: Add transmissivity to the model\n"
   ]
  },
  {
   "cell_type": "markdown",
   "id": "15490268-7295-4dc6-80b5-5a0b7211388f",
   "metadata": {
    "jp-MarkdownHeadingCollapsed": true
   },
   "source": [
    "## Time-Dependent Model (Quant.)"
   ]
  },
  {
   "cell_type": "markdown",
   "id": "afbf21f4-e82a-4db6-a2be-acb436597b79",
   "metadata": {},
   "source": [
    "Our model so far is called *autonomous* because the differential equation doesn't actually depend on time. In reality, the Earth is gradually heating up due to climate change. Your goal in this section is to make another temperature vs. radiative forcing plot, but using a differential equation model rather than computing equilibrium temperatures at each timestep. First, write the differential equation, including radiative forcing as a third input."
   ]
  },
  {
   "cell_type": "code",
   "execution_count": null,
   "id": "ad8e4fd8-1448-4098-bf70-d574bcba0ea9",
   "metadata": {},
   "outputs": [],
   "source": [
    "# TO-DO: Change in temperature [K yr-1] as a function of time [yr], temperature [K], and a forcing time series [W m-2]\n"
   ]
  },
  {
   "cell_type": "markdown",
   "id": "5edf7c38-9179-4a62-9658-3ba480681ef1",
   "metadata": {},
   "source": [
    "Now, use the Euler method to compute surface temperature based on historical forcing and then for each emissions pathway. You can pass the forcing time series as an extra input to the `euler` function, which will pass that input to `dT_dt`."
   ]
  },
  {
   "cell_type": "code",
   "execution_count": null,
   "id": "a18894e3-7de2-4086-9b08-86b5114637ca",
   "metadata": {},
   "outputs": [],
   "source": [
    "# TO-DO: Plot surface temperature relative to 1995-2014 for all emissions pathways using the differential equation model\n"
   ]
  },
  {
   "cell_type": "markdown",
   "id": "6c72e835-ca78-454d-91b9-18f98130f9dc",
   "metadata": {},
   "source": [
    "Compare this plot to the rolling mean you made previously. Think about why they should look similar."
   ]
  }
 ],
 "metadata": {
  "kernelspec": {
   "display_name": "Python 3 (ipykernel)",
   "language": "python",
   "name": "python3"
  },
  "language_info": {
   "codemirror_mode": {
    "name": "ipython",
    "version": 3
   },
   "file_extension": ".py",
   "mimetype": "text/x-python",
   "name": "python",
   "nbconvert_exporter": "python",
   "pygments_lexer": "ipython3",
   "version": "3.12.3"
  }
 },
 "nbformat": 4,
 "nbformat_minor": 5
}
