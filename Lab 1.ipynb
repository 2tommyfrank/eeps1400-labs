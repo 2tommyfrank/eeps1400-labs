{
 "cells": [
  {
   "cell_type": "markdown",
   "id": "f607bad9-02db-4be0-b7a8-f8d188c20ddd",
   "metadata": {},
   "source": [
    "## Instructions"
   ]
  },
  {
   "cell_type": "markdown",
   "id": "b26baf66-204a-43a1-9c65-c7194e788a6e",
   "metadata": {},
   "source": [
    "In each section, read each text or code cell and then run it with Shift + Enter. If you're a quantitative student, you don't have to complete any of the sections marked (Qual). If you're a qualitative student, you don't have to complete any of the sections marked (Quant). Whenever you see *TO-DO* in a code block, that indicates a coding task to complete before you run that cell. You can always re-run a cell after you make changes to it."
   ]
  },
  {
   "cell_type": "markdown",
   "id": "c2a76f02-111d-4bd4-9805-fc3b0d9b8e40",
   "metadata": {},
   "source": [
    "# Week 1: Radiative Energy Balance"
   ]
  },
  {
   "cell_type": "markdown",
   "id": "cf6af87b-49cd-4e30-80f3-3a80655a94c2",
   "metadata": {},
   "source": [
    "This week, we'll introduce Python and make an energy balance model. Python is a programming language we'll use to write the mathematical equations and functions used in the model. It also has a utility for making plots of model output. **Quantitative** students will analyze different ways of measuring greenhouse gases. **Qualitative** students will investigate the physical processes that determine the Earth's energy budget."
   ]
  },
  {
   "cell_type": "markdown",
   "id": "7fd8f1dc-5c89-41d8-971f-cd16746b902b",
   "metadata": {
    "jp-MarkdownHeadingCollapsed": true
   },
   "source": [
    "## One-Layer Energy Balance"
   ]
  },
  {
   "cell_type": "markdown",
   "id": "7a6e917a-3bc3-4dc9-98d6-55389e6395ea",
   "metadata": {},
   "source": [
    "To define a variable, write an equation with the variable you're defining on the left-hand side and a number on the right-hand side. You can add a comment anywhere in code starting with a `#` character. You should use comments to write what each variable means and what its units are."
   ]
  },
  {
   "cell_type": "code",
   "execution_count": null,
   "id": "e72f26ce-5be5-4fd4-935b-dd111844d6c7",
   "metadata": {},
   "outputs": [],
   "source": [
    "S = 1367 # Maximum insolation [W m-2]\n",
    "sigma = 5.67e-8 # Stefan-Boltzmann constant [W m-2 K-4]\n",
    "Te = 255 # Emission temperature [K]\n",
    "alpha = 0.3 # Albedo [fraction]"
   ]
  },
  {
   "cell_type": "markdown",
   "id": "773f6d7c-422a-41a0-9b7e-9933ea1e0be3",
   "metadata": {},
   "source": [
    "You can define variables in terms of other variables, using arithmetic operations:\n",
    "\n",
    "* addition: `1 + 2` is 3\n",
    "* subtraction: `3 - 1` is 2\n",
    "* multiplication: `3 * 4` is 12\n",
    "* division: `12 / 3` is 4\n",
    "* exponentiation: `2**5` is 32\n",
    "* parentheses: `(1 + 3) * 5` is 20"
   ]
  },
  {
   "cell_type": "code",
   "execution_count": null,
   "id": "fa29ef15-72fb-4230-a6ed-5e0462f6dd65",
   "metadata": {},
   "outputs": [],
   "source": [
    "S0 = S / 4 # Average insolation [W m-2]\n",
    "F_in = S0 * (1 - alpha) # Absorbed insolation [W m-2]\n",
    "F_out = sigma * Te**4 # Emitted longwave radiation [W m-2]"
   ]
  },
  {
   "cell_type": "markdown",
   "id": "b2c902a2-7198-4df6-872a-1a6f34a740aa",
   "metadata": {},
   "source": [
    "To retrieve the value of a variable, put it inside a `print` statement."
   ]
  },
  {
   "cell_type": "code",
   "execution_count": null,
   "id": "5a599be8-852f-4f77-8dc2-7490414dbc56",
   "metadata": {},
   "outputs": [],
   "source": [
    "print(S0)\n",
    "print(F_in)\n",
    "print(F_out)"
   ]
  },
  {
   "cell_type": "markdown",
   "id": "43da4d4b-9874-4273-a5fb-6746a3f46a9d",
   "metadata": {},
   "source": [
    "Notice that `F_in` and `F_out` are almost equal—this is because the Earth we've modeled is nearly in radiative balance. Now, let's suppose the Earth's albedo changes (but insolation stays the same) so that the emission temperature falls to 240 K. What must the albedo be now?"
   ]
  },
  {
   "cell_type": "code",
   "execution_count": null,
   "id": "3d2ee7cc-1f85-4cdc-9bb9-a81d852fa9e4",
   "metadata": {},
   "outputs": [],
   "source": [
    "# We can redefine variables at any point with a new equation\n",
    "Te = 240 # New emission temperature [K]\n",
    "\n",
    "# TO-DO: Find the new albedo\n"
   ]
  },
  {
   "cell_type": "markdown",
   "id": "5472023f-31e5-49d9-ba49-a06e34ebe887",
   "metadata": {
    "jp-MarkdownHeadingCollapsed": true
   },
   "source": [
    "## Blackbody Radiation (Qual.)"
   ]
  },
  {
   "cell_type": "markdown",
   "id": "18be2eba-3b03-4363-b68b-552d1c6f1474",
   "metadata": {},
   "source": [
    "The following diagram comes from *Computing the Climate*, p. 25.\n",
    "\n",
    "<figure>\n",
    "    <img src=\"Lab1Images/fig1.png\" width=\"600\"/>\n",
    "    <figcaption>\n",
    "        <a href=\"https://commons.wikimedia.org/wiki/File:BlackbodySpectrum_loglog_150dpi_en.png\"> Fig. 1: Blackbody radiation curves </a>\n",
    "    </figcaption>\n",
    "</figure>\n",
    "\n",
    "In around 150 words, answer the following questions about the plot:\n",
    "\n",
    "- What do the axes mean? What are the units?\n",
    "- How does temperature affect blackbody radiation?\n",
    "- How are the Stefan-Boltzmann law and Wien's displacement law represented in the diagram?\n",
    "- What do the red (300 K) and yellow (5777 K) curves represent? How do they differ, and what is their implication?\n",
    "- To what extent does our Python model so far reflect this diagram? Could our model be modified to better reflect it?"
   ]
  },
  {
   "cell_type": "markdown",
   "id": "e8d65974-ba7a-4a1f-99c6-7d4cb0aeb696",
   "metadata": {},
   "source": []
  },
  {
   "cell_type": "markdown",
   "id": "d13802d0-673d-476e-bffd-84d93249dc14",
   "metadata": {
    "jp-MarkdownHeadingCollapsed": true
   },
   "source": [
    "## Greenhouse Effect"
   ]
  },
  {
   "cell_type": "markdown",
   "id": "a147a772-ad87-49d0-9ca7-7467a6ee754c",
   "metadata": {},
   "source": [
    "The Earth's surface is much warmer than the emission temperature of 255 K (-18°C) due to the greenhouse effect. In the simplest model of this effect, we multiply `F_out` by an *transmissivity* factor τ. This factor is less than one, indicating that not all of the infrared radiation we would expect the Earth to emit is able to escape the atmosphere. Given that the Earth's surface is 287 K, what is the atmosphere's transmissivity?"
   ]
  },
  {
   "cell_type": "code",
   "execution_count": null,
   "id": "fc1005d9-2125-421d-bbd5-c3cbbbe0c3d3",
   "metadata": {},
   "outputs": [],
   "source": [
    "Ts = 287 # Surface temperature [K]\n",
    "\n",
    "# TO-DO: Find the transmissivity\n"
   ]
  },
  {
   "cell_type": "markdown",
   "id": "ebafbcf0-4c78-49aa-865d-fc961204b3be",
   "metadata": {},
   "source": [
    "To explore the impact of the greenhouse effect, we might want to let the transmissivity vary and see how the surface temperature changes in response. We can create a Python function to model this problem. The syntax for a Python function starts with the keyword `def`, has a `:` character instead of an equals sign, and has the keyword `return` before the output of the function.\n",
    "\n",
    "Note: Defining `Ts` as a function overwrites its previous value of 287. After running the next cell, you can re-run the previous cell to set `Ts` back to the old value, if necessary."
   ]
  },
  {
   "cell_type": "code",
   "execution_count": null,
   "id": "a632ac23-e4e5-4b8f-860b-7df9e60b5ebe",
   "metadata": {},
   "outputs": [],
   "source": [
    "# Surface temperature [K] as a function of transmissivity\n",
    "def Ts(tau): return ((F_in / tau) / sigma)**(1/4)\n",
    "\n",
    "print(Ts(1))\n",
    "print(Ts(0.7))\n",
    "print(Ts(0.4))"
   ]
  },
  {
   "cell_type": "markdown",
   "id": "c570d6c0-d1f2-469f-afef-814902786fd3",
   "metadata": {},
   "source": [
    "For more complicated functions, writing the whole definition on one line can be difficult to read. So, you can also split a function into multiple lines and even include intermediate definitions. The following function is exactly the same as the one above, but it performs an intermediate calculation to find `F_out`."
   ]
  },
  {
   "cell_type": "code",
   "execution_count": null,
   "id": "3bd7a9b9-c006-4fea-ba3e-21b3177a4c68",
   "metadata": {},
   "outputs": [],
   "source": [
    "# TO-DO: Write comments to explain what each line of code does\n",
    "def Ts(tau):\n",
    "    F_out = F_in / tau\n",
    "    return (F_out / sigma)**(1/4)\n",
    "\n",
    "print(Ts(1))\n",
    "print(Ts(0.7))\n",
    "print(Ts(0.4))"
   ]
  },
  {
   "cell_type": "markdown",
   "id": "e79cdc62-4de8-40c2-9bd7-9673cfe7ec73",
   "metadata": {},
   "source": [
    "We can create a line plot of surface temperature against transmissivity in Python. To do this, we need to use two *Python packages* called **numpy** and **matplotlib**. Each package is a collections of commands we can use with Python: numpy provides additional mathematical functions, while matplotlib gives us the ability to create plots. To use a package, you first need to import it:"
   ]
  },
  {
   "cell_type": "code",
   "execution_count": null,
   "id": "5d031278-121d-44f8-8696-23481c5cb8c0",
   "metadata": {},
   "outputs": [],
   "source": [
    "import numpy as np\n",
    "import matplotlib.pyplot as plt"
   ]
  },
  {
   "cell_type": "markdown",
   "id": "dfe87e1b-ed50-410d-950b-aa5c739c5edf",
   "metadata": {},
   "source": [
    "From now on, you can write `np.` in your code to access numpy, and `plt.` to access matplotlib. After the `.` character, you write the name of a function provided by the package. For example:"
   ]
  },
  {
   "cell_type": "code",
   "execution_count": null,
   "id": "6c5e789d-6f34-4ae5-bc68-4925b7fd91b3",
   "metadata": {},
   "outputs": [],
   "source": [
    "# np.sqrt: Square root.\n",
    "print(np.sqrt(5))\n",
    "# np.gcd: Greatest common divisor. This function has two inputs, separated by a comma.\n",
    "print(np.gcd(6, 15))\n",
    "# np.linspace: Makes a linear space, meaning a list of evenly-spaced values between first and second inputs;\n",
    "#              the third input determines the number of values in the list.\n",
    "print(np.linspace(10, 50, 9))"
   ]
  },
  {
   "cell_type": "markdown",
   "id": "6dc1044a-0ab6-4861-b904-04de4ddccd71",
   "metadata": {},
   "source": [
    "See the [numpy documentation](https://numpy.org/doc/stable/reference/routines.math.html) for a list of mathematical functions provided by numpy, and the [matplotlib documentation](https://matplotlib.org/stable/api/pyplot_summary.html#module-matplotlib.pyplot) for a list of plotting commands provided by matplotlib. You probably won't need to use the documentation, though; we'll go over each new function as it comes up. The next code block creates the line plot. Notice that the `plt.xlabel` and `plt.ylabel` functions have a text input, enclosed in quotes."
   ]
  },
  {
   "cell_type": "code",
   "execution_count": null,
   "id": "a224bd32-2340-4486-9795-3da5964eeef5",
   "metadata": {},
   "outputs": [],
   "source": [
    "# Set transmissivity equal to a range of values from 0.01 to 1 (think: why not zero?). These will be the x-coordinates for the plot.\n",
    "taus = np.linspace(0.01, 1, 100)\n",
    "# Calculate the surface temperature for each transmissivity value. These will be the y-coordinates for the plot.\n",
    "temps = Ts(taus)\n",
    "# plt.plot: Create a line plot using the x- and y-coordinates of each point.\n",
    "plt.plot(taus, temps)\n",
    "# plt.xlabel: Make a label for the x-axis.\n",
    "plt.xlabel(\"Transmissivity\")\n",
    "# plt.ylabel: Make a label for the y-axis.\n",
    "plt.ylabel(\"Surface temperature [K]\")\n",
    "# plt.show: Display the line plot after this code block.\n",
    "plt.show()"
   ]
  },
  {
   "cell_type": "markdown",
   "id": "398e0a65-08a9-43d1-80d8-e22363855210",
   "metadata": {},
   "source": [
    "To demonstrate more plotting functionality, let's consider how albedo and transmissivity together affect temperature. First, write the function in Python."
   ]
  },
  {
   "cell_type": "code",
   "execution_count": null,
   "id": "94126b2f-e327-4dce-9da4-da3084776f01",
   "metadata": {},
   "outputs": [],
   "source": [
    "# TO-DO: Surface temperature [K] as a function of albedo and transmissivity\n",
    "def Ts(alpha, tau):\n",
    "    \n",
    "\n",
    "print(Ts(0, 1)) # Should be 278.6322398158889\n",
    "print(Ts(0.3, 1)) # Should be 254.8624631536174\n",
    "print(Ts(0, 0.6)) # Should be 316.5873470010296"
   ]
  },
  {
   "cell_type": "markdown",
   "id": "96f2f949-5e78-48a1-ade9-c36d7e022399",
   "metadata": {},
   "source": [
    "One way to visualize a function of two variables is a plot of multiple lines, where one variable is on the x-axis and the other variable varies between lines. To achieve this, just use `plt.plot` multiple times in one code block. We can distinguish each line with a label by writing `label=` inside the parentheses of `plt.plot`."
   ]
  },
  {
   "cell_type": "code",
   "execution_count": null,
   "id": "e94963b8-c746-4041-a34c-a358939240f1",
   "metadata": {},
   "outputs": [],
   "source": [
    "plt.plot(taus, Ts(0.0, taus), label=\"Albedo = 0.0\")\n",
    "plt.plot(taus, Ts(0.3, taus), label=\"Albedo = 0.3\")\n",
    "plt.plot(taus, Ts(0.6, taus), label=\"Albedo = 0.6\")\n",
    "plt.plot(taus, Ts(0.9, taus), label=\"Albedo = 0.9\")\n",
    "# plt.legend: Make a legend for the plot, showing each line's label\n",
    "plt.legend()\n",
    "plt.xlabel(\"Transmissivity\")\n",
    "plt.ylabel(\"Surface temperature [K]\")\n",
    "plt.show()"
   ]
  },
  {
   "cell_type": "code",
   "execution_count": null,
   "id": "006b19d3-9e5b-4a0a-80f2-0e635ba69a73",
   "metadata": {},
   "outputs": [],
   "source": [
    "# TO-DO: Make a line plot of surface temperature vs albedo, where different lines represent different transmissivities\n"
   ]
  },
  {
   "cell_type": "markdown",
   "id": "c4b7f7b8-b33d-49d1-b16b-1c7cca265f0d",
   "metadata": {},
   "source": [
    "Another way to visualize this function is with a color plot. We put albedo and transmissivity on the axes and let color represent surface temperature. To use this kind of plot, we need to create a mesh grid of albedo and transmissivity values. It's not important to understand what this means, but if you're interested, click [here](https://stackoverflow.com/a/36014586) for an explanation of what `np.meshgrid` does."
   ]
  },
  {
   "cell_type": "code",
   "execution_count": null,
   "id": "dfd6d6bb-4748-4807-acba-ed161c318181",
   "metadata": {},
   "outputs": [],
   "source": [
    "# The x- and y- coordinates of each point on the plot\n",
    "alpha_grid, tau_grid = np.meshgrid(alphas, taus)\n",
    "# Temperatures at each point on the plot\n",
    "temperatures = Ts(alpha_grid, tau_grid)\n",
    "# plt.pcolormesh: Make a color plot using the x-coordinates, y-coordinates, and color values of each point.\n",
    "plt.pcolormesh(alpha_grid, tau_grid, temperatures)\n",
    "# plt.title: Make a title for the plot.\n",
    "plt.title(\"Surface temperature [K]\")\n",
    "plt.xlabel(\"Albedo\")\n",
    "plt.ylabel(\"Transmissivity\")\n",
    "plt.show()"
   ]
  },
  {
   "cell_type": "markdown",
   "id": "9ca1a9de-26e9-4677-84ba-c448b90b0093",
   "metadata": {},
   "source": [
    "A third kind of visualization is the contour plot, which works similarly to the color plot. The only difference is the `plt.contour` function has a fourth input, which specifies a list of temperatures to draw contour lines at."
   ]
  },
  {
   "cell_type": "code",
   "execution_count": null,
   "id": "84bd179e-ab8e-4cd5-863c-49746e81ff57",
   "metadata": {},
   "outputs": [],
   "source": [
    "# Contour lines drawn at these temperatures\n",
    "contours = [200, 300, 400, 500]\n",
    "# plt.contour: Make a contour plot. Notice that we're storing the plot in a variable called contour_plot.\n",
    "contour_plot = plt.contour(alpha_grid, tau_grid, temperatures, contours)\n",
    "# plt.clabel: Put numerical labels on the contours. Notice that the input to the function is the contour_plot we stored earlier.\n",
    "plt.clabel(contour_plot)\n",
    "plt.title(\"Surface temperature [K]\")\n",
    "plt.xlabel(\"Albedo\")\n",
    "plt.ylabel(\"Transmissivity\")\n",
    "plt.show()"
   ]
  },
  {
   "cell_type": "markdown",
   "id": "5eb6a341-788b-4452-8ce5-028733ee6635",
   "metadata": {},
   "source": [
    "You'll see more of these color plots in Lab 2."
   ]
  },
  {
   "cell_type": "markdown",
   "id": "7525d86a-424a-488c-86b2-f0d345f1c4ea",
   "metadata": {
    "jp-MarkdownHeadingCollapsed": true
   },
   "source": [
    "## Absorptivity (Quant.)"
   ]
  },
  {
   "cell_type": "markdown",
   "id": "8d52df78-9907-4d4c-9b1a-35aaed12ae1a",
   "metadata": {},
   "source": [
    "Another way to model the greenhouse effect is to include the atmosphere as a single layer of gas. The atmosphere absorbs a fraction of the longwave radiation emitted by the surface and radiates it back in all directions. This fraction is called absorptivity (ε). Again assuming that the Earth's surface is 287 K, what is the atmosphere's absorptivity?"
   ]
  },
  {
   "cell_type": "code",
   "execution_count": null,
   "id": "8594e896-2904-47f6-9b6f-8a7510f3d553",
   "metadata": {},
   "outputs": [],
   "source": [
    "Ts = 287 # Surface temperature [K]\n",
    "alpha = 0.3 # Albedo [fraction]\n",
    "\n",
    "# TO-DO: Find the absorptivity\n",
    "# You might want to define intermediate variables to make the calculation more legible; remember to add comments describing them!\n"
   ]
  },
  {
   "cell_type": "markdown",
   "id": "43b4b01d-0490-492f-a190-053d89c57e85",
   "metadata": {},
   "source": [
    "Similar to our previous work with transmissivity, we can make a plot to show how absorptivity affects surface temperature."
   ]
  },
  {
   "cell_type": "code",
   "execution_count": null,
   "id": "223df0b5-96cc-4332-928d-cc3ff212e147",
   "metadata": {},
   "outputs": [],
   "source": [
    "# TO-DO: Plot surface temperature against absorptivity\n"
   ]
  },
  {
   "cell_type": "markdown",
   "id": "da3d255b-31c1-48fb-bd55-91dc35a71e0b",
   "metadata": {},
   "source": [
    "The AOCD textbook introduces a multi-layer atmosphere model in Section 2.3.3. Think through Problems 2.4-2.6, and then make a Python model of Figure 2.12. Show how surface temperature depends on the number of layers, assuming absorptivity is 1."
   ]
  },
  {
   "cell_type": "code",
   "execution_count": null,
   "id": "de6a0331-385f-489b-9f99-523cc513945e",
   "metadata": {},
   "outputs": [],
   "source": [
    "# TO-DO: Plot surface temperature against number of layers\n"
   ]
  },
  {
   "cell_type": "markdown",
   "id": "42e4cec2-623f-4d30-b250-329eab953aed",
   "metadata": {},
   "source": [
    "Lastly, we can consider how the multi-layer model behaves when absorptivity is less than 1. To keep things simple, let's use only two layers and assume they have the same absorptivity, which could vary between 0 and 1. Show how the temperature of each layer depends on absorptivity."
   ]
  },
  {
   "cell_type": "code",
   "execution_count": null,
   "id": "8779c3ba-91ee-41b9-bdcc-83a043ad749d",
   "metadata": {},
   "outputs": [],
   "source": [
    "# TO-DO: Plot surface temperature, lower atmospheric temperature, and upper atmospheric temperature against absorptivity\n"
   ]
  },
  {
   "cell_type": "markdown",
   "id": "3d427891-6921-4eae-92da-f1250b088e67",
   "metadata": {
    "jp-MarkdownHeadingCollapsed": true
   },
   "source": [
    "## Full Energy Balance (Qual.)"
   ]
  },
  {
   "cell_type": "markdown",
   "id": "f9c983dd-9199-4cbe-92e3-4e5cd72c95a2",
   "metadata": {},
   "source": [
    "<figure>\n",
    "    <img src=\"Lab1Images/fig2.png\" width=\"500\"/>\n",
    "    <figcaption>\n",
    "        <a href=\"https://www.ipcc.ch/report/ar6/wg1/figures/chapter-7/figure-7-2\"> Fig. 2: Global mean energy budget </a>\n",
    "    </figcaption>\n",
    "</figure>\n",
    "\n",
    "In around 250 words, answer the following questions about Figure 2.\n",
    "\n",
    "- Describe the different components of the energy budget. What are the important parts, and what are the smaller details?\n",
    "- The numbers in parentheses give a range of uncertainty. How and why does the uncertainty differ between the components?\n",
    "- Which components of the energy budget are represented in our model?\n",
    "- How do albedo and transmissivity correspond to the components in the figure?\n",
    "- What effect do the components *not* included in our model have on our model's accuracy?\n",
    "- What does the \"imbalance\" mean? How could it be included in our model?"
   ]
  },
  {
   "cell_type": "markdown",
   "id": "d0e0bef9-d6d9-43d6-914d-f6e89b3a80bd",
   "metadata": {},
   "source": []
  },
  {
   "cell_type": "markdown",
   "id": "624c0492-d0cb-448c-a04a-3446e3ef16fe",
   "metadata": {},
   "source": [
    "<figure>\n",
    "    <img src=\"Lab1Images/fig3.png\" width=\"500\"/>\n",
    "    <figcaption>\n",
    "        <a href=\"https://www.ipcc.ch/report/ar6/wg1/figures/chapter-7/figure-7-2\"> Fig. 3: Energy budget with no clouds </a>\n",
    "    </figcaption>\n",
    "</figure>\n",
    "\n",
    "In around 50 words, answer the following questions about Figure 3.\n",
    "\n",
    "- How does Figure 3 differ from Figure 2?\n",
    "- What, approximately, is the energy imbalance in Figure 3? What are the physical implications?"
   ]
  },
  {
   "cell_type": "markdown",
   "id": "61658c34-10d3-492f-8785-a9c24184207e",
   "metadata": {},
   "source": []
  },
  {
   "cell_type": "markdown",
   "id": "862f0a12-2965-48aa-9685-8f29409a4c96",
   "metadata": {},
   "source": [
    "# Week 2: Climate Change"
   ]
  },
  {
   "cell_type": "markdown",
   "id": "5713fc2a-cfd1-496d-9821-dfdb79d20e87",
   "metadata": {},
   "source": [
    "**Discussion**: Look back at the plots of albedo, transmissivity and temperature from last week (in particular, the color and contour plots). Where on the plots would each of the following planets be located? Is it even possible to find a place for each of these planets?\n",
    "\n",
    "- Earth\n",
    "- Mars\n",
    "- Venus\n",
    "- Snowball Earth"
   ]
  },
  {
   "cell_type": "markdown",
   "id": "0ebdcefe-96cc-4088-a69e-36fb139bbaa1",
   "metadata": {},
   "source": [
    "This week, we'll consider how our energy balance model can account for climate change. We'll introduce the concept of radiative forcing and work with real-world data. **Quantitative** students will add time dependence to the model by rewriting it as a differential equation. **Qualitative** students will address how radiative forcing corresponds to greenhouse gas concentrations."
   ]
  },
  {
   "cell_type": "markdown",
   "id": "581d2ae5-3805-44c8-98ed-c2ae26b79183",
   "metadata": {
    "jp-MarkdownHeadingCollapsed": true
   },
   "source": [
    "## Greenhouse Gases (Qual.)"
   ]
  },
  {
   "cell_type": "markdown",
   "id": "cb96ba8d-94d5-4039-bc95-e9599bae08fe",
   "metadata": {},
   "source": [
    "In the following diagram, the red curve shows a blackbody spectrum like the ones in Figure 1. The cyan region shows longwave radiation measured by satellites at the top of the Earth's atmosphere. Greenhouse gases labels are placed next to the parts of the electromagnetic spectrum they absorb.\n",
    "\n",
    "<figure>\n",
    "    <img src=\"Lab1Images/fig4.png\" width=\"500\"/>\n",
    "    <figcaption>\n",
    "        <a href=\"https://www.giss.nasa.gov/research/briefs/archive/2010_schmidt_05/\"> Fig. 4: Earth's emission spectrum observed from space </a>\n",
    "    </figcaption>\n",
    "</figure>\n",
    "\n",
    "In around 150 words, answer the following questions about Figure 4.\n",
    "- What is the correspondence between the axes of Figure 4 and Figure 1?\n",
    "- What parts of the graph correspond to the \"atmospheric window\" in Figures 2 and 3?\n",
    "- How might the spectral flux be changing as greenhouse gas concentrations rise?\n",
    "- Our model from last week used transmissivity to account for the greenhouse effect. If our model instaed calculated radiative flux for each part of the spectrum individually, how might we represent greenhouse gases?"
   ]
  },
  {
   "cell_type": "markdown",
   "id": "1ba0b4d4-3d05-44b4-97ef-ae20928d147c",
   "metadata": {},
   "source": []
  },
  {
   "cell_type": "markdown",
   "id": "ffaae643-73c2-4b96-85ad-aa9a4778ba23",
   "metadata": {
    "jp-MarkdownHeadingCollapsed": true
   },
   "source": [
    "## Radiative Forcing"
   ]
  },
  {
   "cell_type": "markdown",
   "id": "53352c2e-6c6e-4ddb-a209-1a6970afa27d",
   "metadata": {},
   "source": [
    "In Week 1, we worked with a zero-dimensional model. We ignored all spatial variation and change over time to focus on how a few key parameters affect the Earth's overall energy balance. This week, we'll introduce the dimension of time to explore climate change. We'll also introduce a new Python package called **pandas**, which lets you work with tabular data. Let's first import all the packages we'll need and reintroduce the important constants from last week."
   ]
  },
  {
   "cell_type": "code",
   "execution_count": null,
   "id": "8f083814-8cdb-412d-bcac-f86382fd52f0",
   "metadata": {},
   "outputs": [],
   "source": [
    "import numpy as np # Mathematical functions\n",
    "import matplotlib.pyplot as plt # Making plots\n",
    "import pandas as pd # Tabular data\n",
    "\n",
    "S = 1367 # Maximum insolation [W m-2]\n",
    "S0 = S / 4 # Average insolation [W m-2]\n",
    "sigma = 5.67e-8 # Stefan-Boltzmann constant [W m-2 K-4]\n",
    "alpha = 0.3 # Albedo [fraction]\n",
    "tau = 0.61 # Transmissivity [fraction]"
   ]
  },
  {
   "cell_type": "markdown",
   "id": "0fad845d-2100-428a-96fa-ba654a377e99",
   "metadata": {},
   "source": [
    "One of the common ways of quantifying climate change is to express the impacts of a changing atmospheric composition in terms of *radiative forcing*.\n",
    "\n",
    "<figure>\n",
    "    <img src=\"Lab1Images/fig5.png\" width=\"400\"/>\n",
    "    <figcaption>\n",
    "        <a href=\"https://commons.wikimedia.org/wiki/File:ESSD_Radiative_Forcing_1750_to_2022.png\">\n",
    "            Fig. 5: Radiative forcing due to various factors from 1750 to 2022\n",
    "        </a>\n",
    "    </figcaption>\n",
    "</figure>\n",
    "\n",
    "In terms of the energy balance we developed last week, this is an additional amount of radiative energy absorbed by the surface, on top of insolation. Radiative forcing is expressed in the same units \\[W m-2], which means we just have to add it to insolation to get the total energy absorbed by the Earth's surface. As a first step, make a Python function and a plot to show how radiative forcing affects surface temperature. Note that we keep transmissivity constant when applying a radiative forcing; changing the atmosphere's transmissivity would be an alternative method of quantifying atmospheric change."
   ]
  },
  {
   "cell_type": "code",
   "execution_count": null,
   "id": "67b8e821-a60d-44ae-bea6-b591f58afbc0",
   "metadata": {},
   "outputs": [],
   "source": [
    "# TO-DO: Surface temperature [K] as a function of radiative forcing [W m-2]\n",
    "\n",
    "\n",
    "# TO-DO: Plot surface temperature against radiative forcing\n"
   ]
  },
  {
   "cell_type": "markdown",
   "id": "64eeeb86-0e20-4a1c-a0c2-c39de3861df4",
   "metadata": {},
   "source": [
    "Now, let's introduce real radiative forcing data. If you've read the [IPCC report](https://www.ipcc.ch/report/ar6/syr/downloads/report/IPCC_AR6_SYR_SPM.pdf) before, you might have seen this chart:\n",
    "\n",
    "<figure>\n",
    "    <img src=\"Lab1Images/fig6.png\" width=\"350\"/>\n",
    "    <figcaption> Fig. 6: Global surface temperature change relative to 1850–1900 </figcaption>\n",
    "</figure>\n",
    "\n",
    "Our goal is to make a similar plot using our simple energy balance model. The following data comes from the IPCC's Sixth Assessment Report. (Run the next cell to show an abbreviated table.)"
   ]
  },
  {
   "cell_type": "code",
   "execution_count": null,
   "id": "a9ce4664-f776-4437-ba7c-b8b4948e6d4d",
   "metadata": {
    "jupyter": {
     "source_hidden": true
    }
   },
   "outputs": [],
   "source": [
    "# Radiative forcing time series [W m-2]\n",
    "forcing = pd.DataFrame({\n",
    "    \"historical\": pd.Series([0.339334662, 0.331694252, 0.099169156, -0.599713485, -0.121548838, 0.218511249, 0.340981015, 0.133297262, 0.278007288, 0.325796473, 0.297694912, 0.300784491, -0.283521907, -0.199670063, 0.153958610, 0.382038487, 0.421617775, 0.434293351, 0.449111939, 0.488735541, 0.429874157, 0.493895451, 0.340817383, 0.359556786, 0.465389724, 0.489350356, 0.506467455, 0.506875366, 0.452696747, 0.224766681, 0.477797214, 0.534851090, 0.379437542, 0.510727919, 0.517998473, 0.528004936, 0.561884803, 0.554261753, 0.601730207, 0.570321414, 0.520841138, 0.501564329, 0.475286256, 0.464872712, 0.487595560, 0.604181381, 0.640887058, 0.640581886, 0.630054712, 0.665480598, 0.587848311, 0.552024616, 0.538355437, 0.520261174, 0.525887364, 0.520844445, 0.541069873, 0.574587491, 0.613839974, 0.576028124, 0.536675800, 0.463667643, 0.264327857, -0.668736888, -0.396074819, -0.076894153, 0.415946173, 0.189793861, 0.331746199, 0.436893927, 0.418944029, 0.284737261, 0.392233069, 0.547735050, 0.455921294, 0.263639935, 0.494557869, 0.663437129, 0.786271639, 0.843821740, 0.857550523, 0.910342163, 0.530039722, 0.192163227, 0.632302488, 0.918400387, 0.972051480, 1.072218692, 1.242358554, 1.407779348, 1.416185145, 0.654347199, -0.396803570, 0.566546790, 1.228494201, 1.516748257, 1.642103012, 1.558958981, 1.699940972, 1.933550226, 2.025578931, 2.042293413, 2.007223028, 1.934569124, 1.957403577, 1.904309296, 1.884669866, 1.942468734, 2.051692761, 2.128211748, 2.236903633, 2.289789594, 2.357421090, 2.525990963, 2.558242346],\n",
    "                            index=range(1900, 2015)),\n",
    "    \"ssp119\": pd.Series([2.558242346, 2.621443765, 2.631003524, 2.661159351, 2.695415604, 2.745777044, 2.812783561, 2.896915908, 2.981064658, 3.043414761, 3.087381755, 3.111052912, 3.127909742, 3.140722289, 3.165576667, 3.180507973, 3.201032536, 3.195306088, 3.197833552, 3.218863454, 3.254899771, 3.256237273, 3.268866237, 3.246319926, 3.239310246, 3.207384402, 3.176035091, 3.142749747, 3.123276530, 3.111906065, 3.110195040, 3.131560715, 3.141146600, 3.153180441, 3.140111723, 3.102006557, 3.051213554, 3.016811955, 2.983727219, 2.955557070, 2.943320587, 2.948055296, 2.957928519, 2.942904414, 2.931581201, 2.919367915, 2.882487014, 2.850600798, 2.822089884, 2.803388135, 2.788073326, 2.781270940, 2.796648619, 2.808914265, 2.809636363, 2.790542980, 2.761460869, 2.727490521, 2.705112133, 2.685369377, 2.661840389, 2.645119065, 2.628267337, 2.622402658, 2.627859398, 2.634496041, 2.635197721, 2.623479794, 2.608773226, 2.580580343, 2.560035218, 2.524453818, 2.498376269, 2.483045017, 2.470233556, 2.471989760, 2.484576176, 2.490791120, 2.502731313, 2.477021974, 2.439865069, 2.407204889, 2.371431676, 2.349038614, 2.326983186, 2.320757722, 2.326702073],\n",
    "                        index=range(2014, 2101)),\n",
    "    \"ssp126\": pd.Series([2.558242346, 2.621444433, 2.630660590, 2.659554403, 2.691140506, 2.736990658, 2.798815201, 2.875904523, 2.954525429, 3.014397913, 3.058088188, 3.083140309, 3.104145997, 3.123382664, 3.156223166, 3.180798655, 3.212483897, 3.236948436, 3.270586568, 3.322044881, 3.388397077, 3.419166413, 3.460936704, 3.467056479, 3.488522901, 3.485051643, 3.481891580, 3.472240958, 3.476305837, 3.487876284, 3.508530378, 3.552127718, 3.583553126, 3.617112218, 3.625324786, 3.608164126, 3.578349417, 3.564429825, 3.551420027, 3.542447809, 3.548630981, 3.570959137, 3.597835707, 3.599089987, 3.603240553, 3.606021347, 3.583626908, 3.561591073, 3.542458211, 3.532609740, 3.525682657, 3.526683767, 3.549304982, 3.568373714, 3.575524992, 3.562352170, 3.538732648, 3.507835596, 3.487981404, 3.470157575, 3.447892841, 3.431885262, 3.415127229, 3.408820560, 3.413229416, 3.418381488, 3.416971497, 3.403059253, 3.385971834, 3.355669483, 3.333106757, 3.295643201, 3.267804793, 3.250781915, 3.236263843, 3.236499474, 3.247458049, 3.252639545, 3.264056100, 3.238403408, 3.201756263, 3.170043145, 3.135645730, 3.115206457, 3.095435258, 3.091846385, 3.100767202],\n",
    "                        index=range(2014, 2101)),\n",
    "    \"ssp245\": pd.Series([2.558242346, 2.621442295, 2.630346469, 2.660777850, 2.698753169, 2.758222378, 2.832312180, 2.903233563, 2.976799451, 3.032345549, 3.073767233, 3.097872032, 3.118547087, 3.138689418, 3.173452108, 3.201373101, 3.236826616, 3.281544854, 3.336719304, 3.410640302, 3.500029038, 3.555083326, 3.621842131, 3.653829688, 3.702151685, 3.726016607, 3.751031224, 3.779998572, 3.823469393, 3.874439223, 3.934332641, 4.017284668, 4.088117642, 4.161452680, 4.209210353, 4.231701432, 4.241843859, 4.264029508, 4.286928735, 4.313816848, 4.355587301, 4.413245315, 4.475152742, 4.511577470, 4.550838813, 4.588457744, 4.601085229, 4.614963657, 4.631614844, 4.657732212, 4.686742859, 4.723341942, 4.781807213, 4.836565775, 4.879633653, 4.902497496, 4.914900861, 4.920978275, 4.938140203, 4.957076846, 4.971687319, 4.992551840, 5.012246151, 5.042669707, 5.083649373, 5.125227847, 5.160567115, 5.183091898, 5.202196614, 5.207296953, 5.219266127, 5.215615542, 5.220998398, 5.236531048, 5.253959609, 5.285473731, 5.327099996, 5.357384208, 5.392938488, 5.390754374, 5.376809443, 5.367157352, 5.354329948, 5.354448255, 5.354672290, 5.370463724, 5.398082648],\n",
    "                        index=range(2014, 2101)),\n",
    "    \"ssp370\": pd.Series([2.558242346, 2.621439699, 2.625581735, 2.644135998, 2.666734348, 2.711765766, 2.761809718, 2.842259975, 2.927001036, 2.994977496, 3.049820610, 3.088344832, 3.124437499, 3.160619455, 3.212447187, 3.258009170, 3.311751149, 3.366498688, 3.432268246, 3.517814700, 3.619519711, 3.687740447, 3.768415097, 3.815309261, 3.878990978, 3.919029660, 3.960950250, 4.004601297, 4.063090071, 4.129921439, 4.206585225, 4.307074821, 4.396052434, 4.488094999, 4.555498382, 4.598273385, 4.629179708, 4.679597719, 4.731666970, 4.788377666, 4.860626113, 4.949514799, 5.043486308, 5.112303552, 5.184861575, 5.256512527, 5.303665584, 5.355040699, 5.409651443, 5.474121954, 5.542179280, 5.618697531, 5.717400615, 5.812954604, 5.897411565, 5.961956892, 6.016644829, 6.064932983, 6.124972857, 6.188070208, 6.247610250, 6.314349494, 6.380965435, 6.458859864, 6.548410029, 6.639576913, 6.724795008, 6.798311419, 6.868948860, 6.926620432, 6.992040498, 7.042684491, 7.103011829, 7.174420781, 7.248535348, 7.337746732, 7.437937230, 7.532553836, 7.633365702, 7.696572226, 7.748621806, 7.805417668, 7.859343778, 7.927238251, 7.995650769, 8.080157987, 8.177166108],\n",
    "                        index=range(2014, 2101)),\n",
    "    \"ssp585\": pd.Series([2.558242346, 2.621441993, 2.633921579, 2.675134072, 2.733290824, 2.823863890, 2.935434478, 3.021322075, 3.111847194, 3.187108177, 3.250762756, 3.299354816, 3.346360088, 3.394371362, 3.459383053, 3.518705698, 3.587575725, 3.648561001, 3.721904111, 3.816572468, 3.929235333, 4.009972955, 4.104849621, 4.167062805, 4.247483012, 4.305480018, 4.366314792, 4.432656216, 4.514874391, 4.606547891, 4.708788172, 4.835896272, 4.952517183, 5.072855145, 5.169442974, 5.242388338, 5.304256817, 5.377043870, 5.452041862, 5.531827794, 5.627603459, 5.740260241, 5.858312553, 5.951704427, 6.048958452, 6.145812875, 6.218396923, 6.296431074, 6.378141357, 6.470060528, 6.565825982, 6.670426019, 6.797551178, 6.922029472, 7.035437212, 7.129427278, 7.214053068, 7.297163607, 7.392097267, 7.489277009, 7.582365599, 7.682114387, 7.781540676, 7.891784402, 8.013372538, 8.136107140, 8.253038967, 8.355473691, 8.454176563, 8.537914116, 8.627801843, 8.701206021, 8.783023330, 8.874447380, 8.967062372, 9.073502764, 9.189504073, 9.296699665, 9.409007415, 9.482504647, 9.543909165, 9.609063514, 9.670047097, 9.743687564, 9.816981823, 9.905266908, 10.00495589],\n",
    "                        index=range(2014, 2101)),\n",
    "})\n",
    "forcing"
   ]
  },
  {
   "cell_type": "markdown",
   "id": "36298fd3-4abe-415c-a171-03fe6a7075d4",
   "metadata": {},
   "source": [
    "The rows are each year from 1900 to 2100, the columns show different emissions pathways, and the cells in the table are radiative forcing values. The cells with 'NaN' (meaning \"Not a Number\") just indicate missing data; the historical column has data until 2014, while the emissions pathways have data after 2014. To retrieve data from this table (called `forcing`), you put the name of a column in square brackets. This outputs a list of all the values in that column, which you can use like `np.linspace` from last week."
   ]
  },
  {
   "cell_type": "code",
   "execution_count": null,
   "id": "84a33ec2-e405-4e63-a9cf-943832c4b14c",
   "metadata": {},
   "outputs": [],
   "source": [
    "print(forcing[\"ssp370\"])"
   ]
  },
  {
   "cell_type": "markdown",
   "id": "bf6f9f99-84d3-43e7-a1b2-614d76479016",
   "metadata": {},
   "source": [
    "You can also put a year in another set of brackets after `.loc` to retrieve a specific data point."
   ]
  },
  {
   "cell_type": "code",
   "execution_count": null,
   "id": "297f706c-ef8e-412d-aec8-43464f4f7d53",
   "metadata": {},
   "outputs": [],
   "source": [
    "print(forcing[\"ssp370\"].loc[2050])"
   ]
  },
  {
   "cell_type": "markdown",
   "id": "40676638-bfff-4d4f-8ad2-5f8e1ccb305c",
   "metadata": {},
   "source": [
    "Or, you can put two years instead, separated by a colon, to retrieve data with a starting and ending date."
   ]
  },
  {
   "cell_type": "code",
   "execution_count": null,
   "id": "c0440626-062d-45cc-83d5-1c413e0df5bc",
   "metadata": {},
   "outputs": [],
   "source": [
    "print(forcing[\"ssp370\"].loc[2050:2060])"
   ]
  },
  {
   "cell_type": "markdown",
   "id": "4f240fe3-0dba-467e-b972-035fa1774f97",
   "metadata": {},
   "source": [
    "Lastly, you can use `forcing.index` to get the list of years used in the dataset. This is useful for making plots:"
   ]
  },
  {
   "cell_type": "code",
   "execution_count": null,
   "id": "a7e2401b-bfcc-4fa4-b1ff-0c1fc8d85fc6",
   "metadata": {},
   "outputs": [],
   "source": [
    "plt.plot(forcing.index, forcing[\"historical\"])\n",
    "plt.xlabel(\"Year\")\n",
    "plt.ylabel(\"Historical radiative forcing [W m-2]\")\n",
    "plt.show()"
   ]
  },
  {
   "cell_type": "markdown",
   "id": "756d370a-7356-4912-87c8-8af9f9aafeb9",
   "metadata": {},
   "source": [
    "To understand what the emissions pathways look like, make similar line plots of them."
   ]
  },
  {
   "cell_type": "code",
   "execution_count": null,
   "id": "cc0405ca-de44-4863-9eef-7a7ee8822ed7",
   "metadata": {},
   "outputs": [],
   "source": [
    "# TO-DO: Show all columns of the forcing dataset on one plot\n"
   ]
  },
  {
   "cell_type": "markdown",
   "id": "3cf4f941-9204-42a4-a0a1-3fba23d33e8e",
   "metadata": {},
   "source": [
    "Now, use the Python function you wrote earlier to show how each emissions pathway affects surface temperature. Your plot should look similar but not identical to Figure 2."
   ]
  },
  {
   "cell_type": "code",
   "execution_count": null,
   "id": "4593da3f-20f8-40cf-a377-f2d7567d21dc",
   "metadata": {},
   "outputs": [],
   "source": [
    "# TO-DO: Show all columns of the forcing dataset on one plot\n"
   ]
  },
  {
   "cell_type": "markdown",
   "id": "1db1c417-6a4e-4391-b5f7-a54eee049540",
   "metadata": {},
   "source": [
    "If you look back at Figure 2, you'll see that temperature is given relative to the 1995-2014 average. Modify your plot to look the same way using `np.average`, which computes the average of a list of numbers."
   ]
  },
  {
   "cell_type": "code",
   "execution_count": null,
   "id": "d2d858b1-fa37-44ed-a414-ef74cbe454f2",
   "metadata": {},
   "outputs": [],
   "source": [
    "# TO-DO: Modify the previous plot to give temperature relative to the 1995-2014 average\n"
   ]
  },
  {
   "cell_type": "markdown",
   "id": "db993411-bde2-4e29-9a8b-342cb22133ec",
   "metadata": {},
   "source": [
    "One more modification—we can smooth out the jumps in the graph with a *rolling mean*. To make a 10-year rolling mean, write `.rolling(10).mean()` after a time series. Note: there will be gaps in the data from 1900-1908 and 2015-2023 where there isn't enough data to compute a rolling mean."
   ]
  },
  {
   "cell_type": "code",
   "execution_count": null,
   "id": "ca1e4a95-4247-4ac3-ba0f-49fcb4044962",
   "metadata": {},
   "outputs": [],
   "source": [
    "# TO-DO: Modify the previous plot to use a decadal rolling temperature mean\n"
   ]
  },
  {
   "cell_type": "markdown",
   "id": "5be15b03-49b8-4358-bd0e-2cfb913fa683",
   "metadata": {
    "jp-MarkdownHeadingCollapsed": true
   },
   "source": [
    "## Forcing Components (Qual.)"
   ]
  },
  {
   "cell_type": "markdown",
   "id": "80edd729-02d9-4fa7-acca-32d260f826c1",
   "metadata": {},
   "source": [
    "<figure>\n",
    "    <img src=\"Lab1Images/fig5.png\" width=\"400\"/>\n",
    "    <figcaption>\n",
    "        <a href=\"https://commons.wikimedia.org/wiki/File:ESSD_Radiative_Forcing_1750_to_2022.png\">\n",
    "            Fig. 5: Radiative forcing due to various factors from 1750 to 2022\n",
    "        </a>\n",
    "    </figcaption>\n",
    "</figure>\n",
    "\n",
    "In around 200 words, answer the following questions about Figure 5.\n",
    "\n",
    "- How are the different kinds of radiative forcing represented in our model?\n",
    "- Which of these factors might be easier or harder to predict into the future? Which of them would vary between emissions pathways?\n",
    "- Looking back at your plots in the previous section, what is responsible for the occasional sudden dips in radiative forcing?\n",
    "- Why is the radiative forcing due to water vapor so small compared to its actual contribution to the greenhouse effect?"
   ]
  },
  {
   "cell_type": "markdown",
   "id": "fc8cdb3f-7e8d-4a08-83d5-9133af032e1b",
   "metadata": {},
   "source": []
  },
  {
   "cell_type": "markdown",
   "id": "3fa0a7ed-2ab0-4666-883b-be53f72bf492",
   "metadata": {
    "jp-MarkdownHeadingCollapsed": true
   },
   "source": [
    "## Autonomous Model (Quant.)"
   ]
  },
  {
   "cell_type": "markdown",
   "id": "2593c88d-5bb0-4386-b2ae-1f65d0377b83",
   "metadata": {},
   "source": [
    "So far, we've only considered what happens when the Earth is in perfect radiative balance—that is, we've only looked at equilibrium temperatures. We didn't really have to do any of Week 1 in Python; a graphing calculator would have sufficed. However, the knowledge we've built up is necessary to analyze what happens in the *non*-equilibrium case. Now, we'll build a differential equation model and solve it with Euler's method. First, we'll need a new constant, `Cp`: the effective heat capacity of the Earth's combined land, oceans, and atmosphere."
   ]
  },
  {
   "cell_type": "code",
   "execution_count": null,
   "id": "8e1b055e-d1e6-47aa-bd95-fb8a8204b6b0",
   "metadata": {},
   "outputs": [],
   "source": [
    "Cp = 17 # Planetary heat capacity [W m-2 K-1 yr]"
   ]
  },
  {
   "cell_type": "markdown",
   "id": "07da8e24-f73f-4960-a631-601bdc862d76",
   "metadata": {},
   "source": [
    "For our first non-equilibrium model, let's start with the one-layer energy balance from last week. Given the Earth's current global temperature, the way the temperature will change is determined by the radiative energy balance. When the outgoing radiation is less than the insolation, the Earth heats up. When it's more than insolation, the Earth cools down. The rate of temperature change also depends on the heat capacity, which converts from heat to temperature. In the form of a differential equation, we have\n",
    "\n",
    "$\\dfrac{dT}{dt} = \\dfrac{F_{in} - F_{out}}{C_p}$\n",
    "\n",
    "Write this differential equation as a Python function, using a time input `t` and a temperature input `T`. Since the above equation doesn't depend on time, your function shouldn't either; however, still include `t` as an input to the function so that we can make it time-dependent later."
   ]
  },
  {
   "cell_type": "code",
   "execution_count": null,
   "id": "fb06de1c-9d02-4a0f-ac65-b09132c3be1c",
   "metadata": {},
   "outputs": [],
   "source": [
    "# TO-DO: Change in temperature [K yr-1] as a function of time [yr] and temperature [K]\n",
    "def dT_dt(t, T):\n",
    "    "
   ]
  },
  {
   "cell_type": "markdown",
   "id": "dc9aa509-276d-4737-b8df-acf05db5596e",
   "metadata": {},
   "source": [
    "Now, we can solve this differential equation using the Euler method. Each year, we calculate the change in temperature from the differential equation and add it to that year's temperature. This approximates what the real temperature should be next year. Mathematically, we repeatedly use the following equation, with *t* starting an some initial time and then increasing by Δ*t* each time.\n",
    "\n",
    "$T(t + \\Delta t) \\approx T(t) + \\dfrac{dT}{dt} \\Delta t$\n",
    "\n",
    "It's not necessary to understand how this is implemented in Python; we've provided it for you as a Python function. The first input `time` is a series of time points to calculate the temperature for. The second input `initials` should contain the initial values of each variable (for now, only one temperature). The third input `derivatives` should contain the differential equations (for now, only one: `dT_dt`). The `*extra_inputs` at the end means you can optionally add extra inputs at the end in case your differential equation requires extra parameters."
   ]
  },
  {
   "cell_type": "code",
   "execution_count": null,
   "id": "27d9679e-a5fb-489d-a6bd-c71c223048fb",
   "metadata": {
    "jupyter": {
     "source_hidden": true
    }
   },
   "outputs": [],
   "source": [
    "def euler(time, initials, derivatives, *extra_inputs): # provided for you\n",
    "    from inspect import signature\n",
    "\n",
    "    # Validate time input\n",
    "    try: time.iloc[0]\n",
    "    except AttributeError: time = pd.Series(time)\n",
    "    if len(time) < 2:\n",
    "        raise ValueError(\"must have at least two time points to use Euler's method\")\n",
    "    for t in time:\n",
    "        try: float(t)\n",
    "        except ValueError: raise TypeError('time points must be numbers (' + str(t) + ' is not a number)')\n",
    "\n",
    "    # Validate initials input\n",
    "    try: initials.iloc[0]\n",
    "    except AttributeError: initials = pd.Series(initials)\n",
    "    for initial in initials:\n",
    "        try: float(initial)\n",
    "        except ValueError: raise TypeError('initial conditions must be numbers (' + str(initial) + ' is not a number)')\n",
    "\n",
    "    # Validate derivatives input\n",
    "    try: derivatives.iloc[0]\n",
    "    except AttributeError: derivatives = pd.Series(derivatives)\n",
    "    if len(initials) != len(derivatives):\n",
    "        raise ValueError('number of initial conditions is ' + str(len(initials)) + ', but number of differential equations is ' + str(len(derivatives)))\n",
    "    for deriv in derivatives:\n",
    "        if not callable(deriv):\n",
    "            raise TypeError('differential equations must be functions (' + str(deriv) + ' is not a function)')\n",
    "        if len(deriv.__name__) < 5 or deriv.__name__[0] != 'd' or deriv.__name__[-3:] != '_dt':\n",
    "            raise ValueError('differential equations must be named like dX_dt, not ' + deriv.__name__)\n",
    "    for (name, params) in [(deriv.__name__, list(signature(deriv).parameters.keys())) for deriv in derivatives]:\n",
    "        if len(params) < 1 + len(derivatives):\n",
    "            raise TypeError('each differential equation must have 1 input for time plus ' + str(len(derivatives)) + ' input(s) for the current values of each variable')\n",
    "        if params[0] != 't':\n",
    "            raise TypeError('the first input of ' + name + ' must be time (t)')\n",
    "        for i in range(len(derivatives)):\n",
    "            if params[i + 1] != derivatives.iloc[i].__name__[1:-3]:\n",
    "                raise TypeError('input #' + str(i + 1) + ' of ' + name + ' must be ' + derivatives.iloc[i].__name__[1:-3])\n",
    "        if len(params) != 1 + len(derivatives) + len(extra_inputs):\n",
    "            raise TypeError('euler was given ' + str(len(extra_inputs)) + ' extra input(s), but ' + name + ' has ' + str(len(params) - len(derivatives) - 1) + ' extra input(s)')\n",
    "\n",
    "    # Initialize output array and set initial conditions\n",
    "    names = [deriv.__name__[1:-3] for deriv in derivatives]\n",
    "    variables = {name: pd.Series(np.zeros(len(time)), index=time) for name in names}\n",
    "    for i in range(len(names)):\n",
    "        variables[names[i]].loc[time[0]] = initials.iloc[i]\n",
    "\n",
    "    # Step through output array, perform Euler's method\n",
    "    for t in range(0, len(time) - 1):\n",
    "        delta_t = time.iloc[t+1] - time.iloc[t]\n",
    "        current = [variables[name].loc[time.iloc[t]] for name in names]\n",
    "        for i in range(len(names)):\n",
    "            deriv = derivatives.iloc[i](time.iloc[t], *current, *extra_inputs)\n",
    "            try: float(deriv)\n",
    "            except ValueError: raise TypeError('differential equations must output numbers (' + str(deriv) + ' is not a number)')\n",
    "            variables[names[i]].loc[time.iloc[t+1]] = variables[names[i]].loc[time.iloc[t]] + delta_t * deriv\n",
    "    return pd.DataFrame(variables)"
   ]
  },
  {
   "cell_type": "markdown",
   "id": "2e6da6fc-7b6f-49ff-80f3-1d92482c534a",
   "metadata": {},
   "source": [
    "Here's an example of how to use the Euler method. We first set an initial temperature and a series of time points. Then, using the `euler` function with one initial condition and one differential equation produces a series of temperatures. (The line plot below should tend toward 255 K; if it doesn't, you've defined `dT_dt` wrong.)"
   ]
  },
  {
   "cell_type": "code",
   "execution_count": null,
   "id": "2d7831ae-4911-4cfe-b862-c9ce22e245a8",
   "metadata": {},
   "outputs": [],
   "source": [
    "T_initial = 287 # Initial temperature for simulation [K]\n",
    "t = np.linspace(0, 25, 100) # List of times of each data point relative to the start of the simulation [yr]\n",
    "T = euler(t, T_initial, dT_dt) # List of temperatures at each time [K]\n",
    "plt.plot(t, T)\n",
    "plt.xlabel(\"Years since start of simulation\")\n",
    "plt.ylabel(\"Global temperature [K]\")\n",
    "plt.show()"
   ]
  },
  {
   "cell_type": "markdown",
   "id": "3cd3a71f-e822-4169-a28d-067234f59196",
   "metadata": {},
   "source": [
    "In this case, since our model doesn't account for the greenhouse effect yet, the equilibrium temperature is about 255 K, and the simulation converges toward that value. This isn't realistic, so try adding the greenhouse effect to the model. You'll need to rewrite the differential equation, choose an initial condition, and make a new plot."
   ]
  },
  {
   "cell_type": "code",
   "execution_count": null,
   "id": "904dc644-a512-4fc6-bd04-475bc9adc89b",
   "metadata": {},
   "outputs": [],
   "source": [
    "# TO-DO: Add transmissivity to the model\n"
   ]
  },
  {
   "cell_type": "markdown",
   "id": "64b7a639-7ee0-4a7c-8267-b78d10ecaad4",
   "metadata": {
    "jp-MarkdownHeadingCollapsed": true
   },
   "source": [
    "## Time-Dependent Model (Quant.)"
   ]
  },
  {
   "cell_type": "markdown",
   "id": "66f6917f-6884-41f6-b331-584da75e7ee5",
   "metadata": {},
   "source": [
    "Our model so far is called *autonomous* because the differential equation doesn't actually depend on time. In reality, the Earth is gradually heating up due to climate change. Your goal in this section is to make another temperature vs. radiative forcing plot, but using a differential equation model rather than computing equilibrium temperatures at each timestep. First, write the differential equation, including radiative forcing as a third input."
   ]
  },
  {
   "cell_type": "code",
   "execution_count": null,
   "id": "b7815d92-4de0-4ff8-b204-ea21ea8432f8",
   "metadata": {},
   "outputs": [],
   "source": [
    "# TO-DO: Change in temperature [K yr-1] as a function of time [yr], temperature [K], and a forcing time series [W m-2]\n"
   ]
  },
  {
   "cell_type": "markdown",
   "id": "8e8f8e7d-083e-4e12-b3a0-d8e340c11f0c",
   "metadata": {},
   "source": [
    "Now, use the Euler method to compute surface temperature based on historical forcing and then for each emissions pathway. You can pass the forcing time series as an extra input to the `euler` function, which will pass that input to `dT_dt`."
   ]
  },
  {
   "cell_type": "code",
   "execution_count": null,
   "id": "0cce256c-8fd0-4a33-9cef-35f1a795d21d",
   "metadata": {},
   "outputs": [],
   "source": [
    "# TO-DO: Plot surface temperature relative to 1995-2014 for all emissions pathways using the differential equation model\n"
   ]
  },
  {
   "cell_type": "markdown",
   "id": "d3adaf3d-f16b-481f-9fb2-7b06379df0c3",
   "metadata": {},
   "source": [
    "Compare this plot to the rolling mean you made previously. Think about why they should look similar."
   ]
  },
  {
   "cell_type": "markdown",
   "id": "1f1b3fbc-a17b-45b5-bc0e-632ddbec9032",
   "metadata": {},
   "source": [
    "# Week 3: Modeling the Ocean"
   ]
  },
  {
   "cell_type": "markdown",
   "id": "8c294e9d-6284-43ea-a3e6-118df29928fb",
   "metadata": {},
   "source": [
    "**Discussion**: Revisit the emissions pathways we introduced last week. On the radiative forcing plot, draw a pathway you think our world is likely to follow. Compare with your classmates and discuss your choice."
   ]
  },
  {
   "cell_type": "markdown",
   "id": "6d441be8-a55a-45ae-af42-91bef1bd90af",
   "metadata": {},
   "source": [
    "This week, we'll discuss how including the ocean impacts energy balance models, using a two-layer model introduced in [this paper](https://eartharxiv.org/repository/view/4581/). **Quantitative** students will model the ocean and atmosphere as a system of differential equations. **Qualitative** students will assess their confidence in the outputs of the models we developed in this lab."
   ]
  },
  {
   "cell_type": "markdown",
   "id": "09a0598c-559c-4146-b115-aefd9a85dd6f",
   "metadata": {
    "jp-MarkdownHeadingCollapsed": true
   },
   "source": [
    "## Two-Layer Ocean Model (Quant.)"
   ]
  },
  {
   "cell_type": "code",
   "execution_count": null,
   "id": "c366747e-57bc-4790-92ea-f7e1d383ecf2",
   "metadata": {
    "jupyter": {
     "source_hidden": true
    }
   },
   "outputs": [],
   "source": [
    "import numpy as np # Mathematical functions\n",
    "import matplotlib.pyplot as plt # Making plots\n",
    "import pandas as pd # Tabular data\n",
    "\n",
    "def euler(time, initials, derivatives, *extra_inputs): # provided for you\n",
    "    from inspect import signature\n",
    "\n",
    "    # Validate time input\n",
    "    try: time.iloc[0]\n",
    "    except AttributeError: time = pd.Series(time)\n",
    "    if len(time) < 2:\n",
    "        raise ValueError(\"must have at least two time points to use Euler's method\")\n",
    "    for t in time:\n",
    "        try: float(t)\n",
    "        except ValueError: raise TypeError('time points must be numbers (' + str(t) + ' is not a number)')\n",
    "\n",
    "    # Validate initials input\n",
    "    try: initials.iloc[0]\n",
    "    except AttributeError: initials = pd.Series(initials)\n",
    "    for initial in initials:\n",
    "        try: float(initial)\n",
    "        except ValueError: raise TypeError('initial conditions must be numbers (' + str(initial) + ' is not a number)')\n",
    "\n",
    "    # Validate derivatives input\n",
    "    try: derivatives.iloc[0]\n",
    "    except AttributeError: derivatives = pd.Series(derivatives)\n",
    "    if len(initials) != len(derivatives):\n",
    "        raise ValueError('number of initial conditions is ' + str(len(initials)) + ', but number of differential equations is ' + str(len(derivatives)))\n",
    "    for deriv in derivatives:\n",
    "        if not callable(deriv):\n",
    "            raise TypeError('differential equations must be functions (' + str(deriv) + ' is not a function)')\n",
    "        if len(deriv.__name__) < 5 or deriv.__name__[0] != 'd' or deriv.__name__[-3:] != '_dt':\n",
    "            raise ValueError('differential equations must be named like dX_dt, not ' + deriv.__name__)\n",
    "    for (name, params) in [(deriv.__name__, list(signature(deriv).parameters.keys())) for deriv in derivatives]:\n",
    "        if len(params) < 1 + len(derivatives):\n",
    "            raise TypeError('each differential equation must have 1 input for time plus ' + str(len(derivatives)) + ' input(s) for the current values of each variable')\n",
    "        if params[0] != 't':\n",
    "            raise TypeError('the first input of ' + name + ' must be time (t)')\n",
    "        for i in range(len(derivatives)):\n",
    "            if params[i + 1] != derivatives.iloc[i].__name__[1:-3]:\n",
    "                raise TypeError('input #' + str(i + 1) + ' of ' + name + ' must be ' + derivatives.iloc[i].__name__[1:-3])\n",
    "        if len(params) != 1 + len(derivatives) + len(extra_inputs):\n",
    "            raise TypeError('euler was given ' + str(len(extra_inputs)) + ' extra input(s), but ' + name + ' has ' + str(len(params) - len(derivatives) - 1) + ' extra input(s)')\n",
    "\n",
    "    # Initialize output array and set initial conditions\n",
    "    names = [deriv.__name__[1:-3] for deriv in derivatives]\n",
    "    variables = {name: pd.Series(np.zeros(len(time)), index=time) for name in names}\n",
    "    for i in range(len(names)):\n",
    "        variables[names[i]].loc[time[0]] = initials.iloc[i]\n",
    "\n",
    "    # Step through output array, perform Euler's method\n",
    "    for t in range(0, len(time) - 1):\n",
    "        delta_t = time.iloc[t+1] - time.iloc[t]\n",
    "        current = [variables[name].loc[time.iloc[t]] for name in names]\n",
    "        for i in range(len(names)):\n",
    "            deriv = derivatives.iloc[i](time.iloc[t], *current, *extra_inputs)\n",
    "            try: float(deriv)\n",
    "            except ValueError: raise TypeError('differential equations must output numbers (' + str(deriv) + ' is not a number)')\n",
    "            variables[names[i]].loc[time.iloc[t+1]] = variables[names[i]].loc[time.iloc[t]] + delta_t * deriv\n",
    "    return pd.DataFrame(variables)"
   ]
  },
  {
   "cell_type": "markdown",
   "id": "ebdc2a0a-9be8-4c3b-b8bf-80f86bb58ad4",
   "metadata": {},
   "source": [
    "Read pages 8-9 of the paper linked above. The top layer represents the Earth's surface and the upper ocean combined; the bottom layer represents the deep ocean. Make an autonomous model in Python that captures the important parts of the paper's model—it will need to be a system of differential equations. Then, make plots of the model's output for a few different initial conditions. To use the Euler method with a system of differential equations, you just have to put the initial conditions and differential equations in brackets, separated by commas. For example:\n",
    "\n",
    "    euler(t, [T1_initial, T2_initial], [dT1_dt, dT2_dt])"
   ]
  },
  {
   "cell_type": "code",
   "execution_count": null,
   "id": "0e60a054-1005-4eeb-a521-a99ed12ec298",
   "metadata": {},
   "outputs": [],
   "source": [
    "# TO-DO: Define necessary constants\n"
   ]
  },
  {
   "cell_type": "code",
   "execution_count": null,
   "id": "f3b6b197-bbf9-4c2c-aa5f-362df83fabb8",
   "metadata": {},
   "outputs": [],
   "source": [
    "# TO-DO: Define the differential equations\n"
   ]
  },
  {
   "cell_type": "code",
   "execution_count": null,
   "id": "739e8705-750b-47b6-8425-3c4298a5b8b3",
   "metadata": {},
   "outputs": [],
   "source": [
    "# TO-DO: Plot output\n"
   ]
  },
  {
   "cell_type": "markdown",
   "id": "4514c1c4-318f-44ca-b4bf-3f47ca27c16d",
   "metadata": {},
   "source": [
    "Consider all the parameters to the model you defined as constants. All of these except for the Stefan-Boltzmann constant could vary (at least in theory), and our measurements of them are subject to error. Modify each parameter to see how its variation affects the model output. Write down each parameter's effect, including how the magnitude of the effect differs between parameters."
   ]
  },
  {
   "cell_type": "markdown",
   "id": "35e69136-c6c1-4952-aca6-5babc1f16335",
   "metadata": {},
   "source": []
  },
  {
   "cell_type": "markdown",
   "id": "2aa4fc9f-4479-4a91-96f8-c901b013c283",
   "metadata": {},
   "source": [
    "Find a reasonable set of parameter values that gives results similar to the real Earth. Explain how you arrived at your parameter choices."
   ]
  },
  {
   "cell_type": "markdown",
   "id": "a0daa0ab-5f39-4b29-80f8-e14a6d344b98",
   "metadata": {},
   "source": []
  },
  {
   "cell_type": "markdown",
   "id": "70e9a839-c0de-4c6a-8d4b-5d77b4626dde",
   "metadata": {
    "jp-MarkdownHeadingCollapsed": true
   },
   "source": [
    "## Ocean Heat Uptake (Qual.)"
   ]
  },
  {
   "cell_type": "markdown",
   "id": "f79e02c4-f546-4b94-b39b-fd3c008ec364",
   "metadata": {},
   "source": [
    "<figure>\n",
    "    <img src=\"Lab1Images/fig7.png\" width=\"400\"/>\n",
    "    <figcaption>\n",
    "        <a href=\"https://eartharxiv.org/repository/view/4581/\">\n",
    "            Fig. 7: Energy balance diagram including the ocean (fig. 2 in the paper)\n",
    "        </a>\n",
    "    </figcaption>\n",
    "</figure>\n",
    "\n",
    "In around 200 words, answer the following questions about Figure 7.\n",
    "- Explain the different components of the model. Intuitively, what does each term represent?\n",
    "- Which heats up faster, land or ocean? Why?\n",
    "- What do we gain from including the ocean? Would it be worthwhile to include more ocean layers? What about atmospheric layers?"
   ]
  },
  {
   "cell_type": "markdown",
   "id": "f5e127ca-80dc-4cd1-9724-bcf07842d342",
   "metadata": {},
   "source": []
  },
  {
   "cell_type": "markdown",
   "id": "54c5beed-3fb8-454f-80bc-73210403080f",
   "metadata": {
    "jp-MarkdownHeadingCollapsed": true
   },
   "source": [
    "## Essay: Simplified Models (Qual.)"
   ]
  },
  {
   "cell_type": "markdown",
   "id": "976a88de-d0a2-4274-95fa-ef3306b426b4",
   "metadata": {},
   "source": [
    "In around 1000 words, explain how much we can trust climate models' predictive power. Consider the first two chapters of *Computing the Climate*, as well as the model we developed in this lab. You might want to ask a quantitative student to show you their work in order to gather more information."
   ]
  }
 ],
 "metadata": {
  "kernelspec": {
   "display_name": "Python 3 (ipykernel)",
   "language": "python",
   "name": "python3"
  },
  "language_info": {
   "codemirror_mode": {
    "name": "ipython",
    "version": 3
   },
   "file_extension": ".py",
   "mimetype": "text/x-python",
   "name": "python",
   "nbconvert_exporter": "python",
   "pygments_lexer": "ipython3",
   "version": "3.12.3"
  }
 },
 "nbformat": 4,
 "nbformat_minor": 5
}
