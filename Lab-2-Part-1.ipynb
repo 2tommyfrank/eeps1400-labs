{
 "cells": [
  {
   "cell_type": "markdown",
   "id": "b4a3a0fb-5ee0-4e41-af8b-268b9a62e656",
   "metadata": {},
   "source": [
    "# Lab 2 Part 1"
   ]
  },
  {
   "cell_type": "markdown",
   "id": "b79e0373-84c4-48ff-9de7-a7d6dba5213f",
   "metadata": {},
   "source": [
    "In this lab, we'll work with [ECCO](https://www.ecco-group.org/products-ECCO-V4r4.htm), a state estimate, which is a type of model that combines observations and dynamical equations to estimate the state of the climate. ECCO is an ocean state estimate ocean between 1992 and 2018. Unlike the simple ocean model we developed at the end of Lab 1, ECCO accounts for horizontal variation, and it includes many more variables besides temperature. The major objective of this lab is to learn to use model output to answer questions about ocean and climate dynamics.\n",
    "\n",
    "In this first part, we'll learn how to retrieve and plot ECCO data. **Quantitative** students will also learn how to select data at specific coordinates. **Qualitative** students will use these plots discuss features of ocean circulation.\n",
    "\n",
    "**Both tracks are asked to save some plots. Create a separate document for these plots and give each plot a figure number and a descriptive caption. Refer to the figures by their figure number in the documents that you turn in, whether that is a Jupyter notebook (quantitative) or a written document (qualitative).**"
   ]
  },
  {
   "cell_type": "markdown",
   "id": "76614aa0-60b0-4169-a2bf-7b58891120d9",
   "metadata": {},
   "source": [
    "Each time you open this notebook, run the following cell. If everything works correctly, you should see `Setup complete` after a few seconds."
   ]
  },
  {
   "cell_type": "code",
   "execution_count": null,
   "id": "5dac7ef7-f252-456c-82d1-84ae005882eb",
   "metadata": {
    "jupyter": {
     "source_hidden": true
    }
   },
   "outputs": [],
   "source": [
    "!pip install ipympl\n",
    "\n",
    "%matplotlib ipympl\n",
    "import math\n",
    "import os\n",
    "import requests\n",
    "import datetime\n",
    "import xgcm\n",
    "import numpy as np\n",
    "import pandas as pd\n",
    "import xarray as xr\n",
    "import matplotlib.pyplot as plt\n",
    "import ipywidgets as widgets\n",
    "from platform import system\n",
    "from netrc import netrc\n",
    "from urllib import request\n",
    "from http.cookiejar import CookieJar\n",
    "from io import StringIO\n",
    "from warnings import filterwarnings\n",
    "\n",
    "filterwarnings(\"ignore\", category=FutureWarning)\n",
    "downloads = '/oscar/data/eeps1400_24fall/DATA/ECCO_V4r4_PODAAC'\n",
    "\n",
    "# Information to look up a variable in EarthData by name\n",
    "all_variables = ['global_mean_barystatic_sea_level_anomaly', 'global_mean_sterodynamic_sea_level_anomaly', 'global_mean_sea_level_anomaly', 'Pa_global', 'xoamc', 'yoamc', 'zoamc', 'xoamp', 'yoamp', 'zoamp', 'mass', 'xcom', 'ycom', 'zcom', 'sboarea', 'xoamc_si', 'yoamc_si', 'zoamc_si', 'mass_si', 'xoamp_fw', 'yoamp_fw', 'zoamp_fw', 'mass_fw', 'xcom_fw', 'ycom_fw', 'zcom_fw', 'mass_gc', 'xoamp_dsl', 'yoamp_dsl', 'zoamp_dsl', 'CS', 'SN', 'rA', 'dxG', 'dyG', 'Depth', 'rAz', 'dxC', 'dyC', 'rAw', 'rAs', 'drC', 'drF', 'PHrefC', 'PHrefF', 'hFacC', 'hFacW', 'hFacS', 'maskC', 'maskW', 'maskS', 'DIFFKR', 'KAPGM', 'KAPREDI', 'SSH', 'SSHIBC', 'SSHNOIBC', 'ETAN', 'EXFatemp', 'EXFaqh', 'EXFuwind', 'EXFvwind', 'EXFwspee', 'EXFpress', 'EXFtaux', 'EXFtauy', 'oceTAUX', 'oceTAUY', 'EXFhl', 'EXFhs', 'EXFlwdn', 'EXFswdn', 'EXFqnet', 'oceQnet', 'SIatmQnt', 'TFLUX', 'EXFswnet', 'EXFlwnet', 'oceQsw', 'SIaaflux', 'EXFpreci', 'EXFevap', 'EXFroff', 'SIsnPrcp', 'EXFempmr', 'oceFWflx', 'SIatmFW', 'SFLUX', 'SIacSubl', 'SIrsSubl', 'SIfwThru', 'SIarea', 'SIheff', 'SIhsnow', 'sIceLoad', 'SIuice', 'SIvice', 'ADVxHEFF', 'ADVyHEFF', 'DFxEHEFF', 'DFyEHEFF', 'ADVxSNOW', 'ADVySNOW', 'DFxESNOW', 'DFyESNOW', 'oceSPflx', 'oceSPDep', 'MXLDEPTH', 'OBP', 'OBPGMAP', 'PHIBOT', 'UVEL', 'VVEL', 'WVEL', 'THETA', 'SALT', 'RHOAnoma', 'DRHODR', 'PHIHYD', 'PHIHYDcR', 'UVELMASS', 'VVELMASS', 'WVELMASS', 'Um_dPHdx', 'Vm_dPHdy', 'ADVx_TH', 'ADVy_TH', 'ADVr_TH', 'DFxE_TH', 'DFyE_TH', 'DFrE_TH', 'DFrI_TH', 'ADVx_SLT', 'ADVy_SLT', 'ADVr_SLT', 'DFxE_SLT', 'DFyE_SLT', 'DFrE_SLT', 'DFrI_SLT', 'oceSPtnd', 'UVELSTAR', 'VVELSTAR', 'WVELSTAR', 'GM_PsiX', 'GM_PsiY']\n",
    "all_datasets = ['GMSL_TIME_SERIES', 'GMAP_TIME_SERIES', 'SBO_CORE_TIME_SERIES', 'GEOMETRY_LLC0090GRID', 'OCEAN_3D_MIX_COEFFS_LLC0090GRID', 'SSH_LLC0090GRID', 'ATM_STATE_LLC0090GRID', 'STRESS_LLC0090GRID', 'HEAT_FLUX_LLC0090GRID', 'FRESH_FLUX_LLC0090GRID', 'SEA_ICE_CONC_THICKNESS_LLC0090GRID', 'SEA_ICE_VELOCITY_LLC0090GRID', 'SEA_ICE_HORIZ_VOLUME_FLUX_LLC0090GRID', 'SEA_ICE_SALT_PLUME_FLUX_LLC0090GRID', 'MIXED_LAYER_DEPTH_LLC0090GRID', 'OBP_LLC0090GRID', 'OCEAN_VEL_LLC0090GRID', 'TEMP_SALINITY_LLC0090GRID', 'DENS_STRAT_PRESS_LLC0090GRID', 'OCEAN_3D_VOLUME_FLUX_LLC0090GRID', 'OCEAN_3D_MOMENTUM_TEND_LLC0090GRID', 'OCEAN_3D_TEMPERATURE_FLUX_LLC0090GRID', 'OCEAN_3D_SALINITY_FLUX_LLC0090GRID', 'BOLUS_LLC0090GRID', 'OCEAN_BOLUS_STREAMFUNCTION_LLC0090GRID']\n",
    "datasets = pd.Series(['GMSL_TIME_SERIES', 'GMSL_TIME_SERIES', 'GMSL_TIME_SERIES', 'GMAP_TIME_SERIES', 'SBO_CORE_TIME_SERIES', 'SBO_CORE_TIME_SERIES', 'SBO_CORE_TIME_SERIES', 'SBO_CORE_TIME_SERIES', 'SBO_CORE_TIME_SERIES', 'SBO_CORE_TIME_SERIES', 'SBO_CORE_TIME_SERIES', 'SBO_CORE_TIME_SERIES', 'SBO_CORE_TIME_SERIES', 'SBO_CORE_TIME_SERIES', 'SBO_CORE_TIME_SERIES', 'SBO_CORE_TIME_SERIES', 'SBO_CORE_TIME_SERIES', 'SBO_CORE_TIME_SERIES', 'SBO_CORE_TIME_SERIES', 'SBO_CORE_TIME_SERIES', 'SBO_CORE_TIME_SERIES', 'SBO_CORE_TIME_SERIES', 'SBO_CORE_TIME_SERIES', 'SBO_CORE_TIME_SERIES', 'SBO_CORE_TIME_SERIES', 'SBO_CORE_TIME_SERIES', 'SBO_CORE_TIME_SERIES', 'SBO_CORE_TIME_SERIES', 'SBO_CORE_TIME_SERIES', 'SBO_CORE_TIME_SERIES', 'GEOMETRY_LLC0090GRID', 'GEOMETRY_LLC0090GRID', 'GEOMETRY_LLC0090GRID', 'GEOMETRY_LLC0090GRID', 'GEOMETRY_LLC0090GRID', 'GEOMETRY_LLC0090GRID', 'GEOMETRY_LLC0090GRID', 'GEOMETRY_LLC0090GRID', 'GEOMETRY_LLC0090GRID', 'GEOMETRY_LLC0090GRID', 'GEOMETRY_LLC0090GRID', 'GEOMETRY_LLC0090GRID', 'GEOMETRY_LLC0090GRID', 'GEOMETRY_LLC0090GRID', 'GEOMETRY_LLC0090GRID', 'GEOMETRY_LLC0090GRID', 'GEOMETRY_LLC0090GRID', 'GEOMETRY_LLC0090GRID', 'GEOMETRY_LLC0090GRID', 'GEOMETRY_LLC0090GRID', 'GEOMETRY_LLC0090GRID', 'OCEAN_3D_MIX_COEFFS_LLC0090GRID', 'OCEAN_3D_MIX_COEFFS_LLC0090GRID', 'OCEAN_3D_MIX_COEFFS_LLC0090GRID', 'SSH_LLC0090GRID', 'SSH_LLC0090GRID', 'SSH_LLC0090GRID', 'SSH_LLC0090GRID', 'ATM_STATE_LLC0090GRID', 'ATM_STATE_LLC0090GRID', 'ATM_STATE_LLC0090GRID', 'ATM_STATE_LLC0090GRID', 'ATM_STATE_LLC0090GRID', 'ATM_STATE_LLC0090GRID', 'STRESS_LLC0090GRID', 'STRESS_LLC0090GRID', 'STRESS_LLC0090GRID', 'STRESS_LLC0090GRID', 'HEAT_FLUX_LLC0090GRID', 'HEAT_FLUX_LLC0090GRID', 'HEAT_FLUX_LLC0090GRID', 'HEAT_FLUX_LLC0090GRID', 'HEAT_FLUX_LLC0090GRID', 'HEAT_FLUX_LLC0090GRID', 'HEAT_FLUX_LLC0090GRID', 'HEAT_FLUX_LLC0090GRID', 'HEAT_FLUX_LLC0090GRID', 'HEAT_FLUX_LLC0090GRID', 'HEAT_FLUX_LLC0090GRID', 'HEAT_FLUX_LLC0090GRID', 'FRESH_FLUX_LLC0090GRID', 'FRESH_FLUX_LLC0090GRID', 'FRESH_FLUX_LLC0090GRID', 'FRESH_FLUX_LLC0090GRID', 'FRESH_FLUX_LLC0090GRID', 'FRESH_FLUX_LLC0090GRID', 'FRESH_FLUX_LLC0090GRID', 'FRESH_FLUX_LLC0090GRID', 'FRESH_FLUX_LLC0090GRID', 'FRESH_FLUX_LLC0090GRID', 'FRESH_FLUX_LLC0090GRID', 'SEA_ICE_CONC_THICKNESS_LLC0090GRID', 'SEA_ICE_CONC_THICKNESS_LLC0090GRID', 'SEA_ICE_CONC_THICKNESS_LLC0090GRID', 'SEA_ICE_CONC_THICKNESS_LLC0090GRID', 'SEA_ICE_VELOCITY_LLC0090GRID', 'SEA_ICE_VELOCITY_LLC0090GRID', 'SEA_ICE_HORIZ_VOLUME_FLUX_LLC0090GRID', 'SEA_ICE_HORIZ_VOLUME_FLUX_LLC0090GRID', 'SEA_ICE_HORIZ_VOLUME_FLUX_LLC0090GRID', 'SEA_ICE_HORIZ_VOLUME_FLUX_LLC0090GRID', 'SEA_ICE_HORIZ_VOLUME_FLUX_LLC0090GRID', 'SEA_ICE_HORIZ_VOLUME_FLUX_LLC0090GRID', 'SEA_ICE_HORIZ_VOLUME_FLUX_LLC0090GRID', 'SEA_ICE_HORIZ_VOLUME_FLUX_LLC0090GRID', 'SEA_ICE_SALT_PLUME_FLUX_LLC0090GRID', 'SEA_ICE_SALT_PLUME_FLUX_LLC0090GRID', 'MIXED_LAYER_DEPTH_LLC0090GRID', 'OBP_LLC0090GRID', 'OBP_LLC0090GRID', 'OBP_LLC0090GRID', 'OCEAN_VEL_LLC0090GRID', 'OCEAN_VEL_LLC0090GRID', 'OCEAN_VEL_LLC0090GRID', 'TEMP_SALINITY_LLC0090GRID', 'TEMP_SALINITY_LLC0090GRID', 'DENS_STRAT_PRESS_LLC0090GRID', 'DENS_STRAT_PRESS_LLC0090GRID', 'DENS_STRAT_PRESS_LLC0090GRID', 'DENS_STRAT_PRESS_LLC0090GRID', 'OCEAN_3D_VOLUME_FLUX_LLC0090GRID', 'OCEAN_3D_VOLUME_FLUX_LLC0090GRID', 'OCEAN_3D_VOLUME_FLUX_LLC0090GRID', 'OCEAN_3D_MOMENTUM_TEND_LLC0090GRID', 'OCEAN_3D_MOMENTUM_TEND_LLC0090GRID', 'OCEAN_3D_TEMPERATURE_FLUX_LLC0090GRID', 'OCEAN_3D_TEMPERATURE_FLUX_LLC0090GRID', 'OCEAN_3D_TEMPERATURE_FLUX_LLC0090GRID', 'OCEAN_3D_TEMPERATURE_FLUX_LLC0090GRID', 'OCEAN_3D_TEMPERATURE_FLUX_LLC0090GRID', 'OCEAN_3D_TEMPERATURE_FLUX_LLC0090GRID', 'OCEAN_3D_TEMPERATURE_FLUX_LLC0090GRID', 'OCEAN_3D_SALINITY_FLUX_LLC0090GRID', 'OCEAN_3D_SALINITY_FLUX_LLC0090GRID', 'OCEAN_3D_SALINITY_FLUX_LLC0090GRID', 'OCEAN_3D_SALINITY_FLUX_LLC0090GRID', 'OCEAN_3D_SALINITY_FLUX_LLC0090GRID', 'OCEAN_3D_SALINITY_FLUX_LLC0090GRID', 'OCEAN_3D_SALINITY_FLUX_LLC0090GRID', 'OCEAN_3D_SALINITY_FLUX_LLC0090GRID', 'BOLUS_LLC0090GRID', 'BOLUS_LLC0090GRID', 'BOLUS_LLC0090GRID', 'OCEAN_BOLUS_STREAMFUNCTION_LLC0090GRID', 'OCEAN_BOLUS_STREAMFUNCTION_LLC0090GRID'],\n",
    "                     index=all_variables)\n",
    "timings = pd.Series(['Daily', 'Snapshot', 'Snapshot', 'None', 'None', 'All', 'Daily', 'Daily', 'Daily', 'Daily', 'All', 'All', 'Daily', 'Daily', 'Daily', 'All', 'Daily', 'All', 'Daily', 'Daily', 'Daily', 'Daily', 'Daily', 'Daily', 'Daily'],\n",
    "                    index=all_datasets)\n",
    "granule_prefixes = pd.Series(['GLOBAL_MEAN_SEA_LEVEL', 'GLOBAL_MEAN_ATM_SURFACE_PRES', 'SBO_CORE_PRODUCTS', 'GRID_GEOMETRY', 'OCEAN_3D_MIXING_COEFFS', 'SEA_SURFACE_HEIGHT', 'ATM_SURFACE_TEMP_HUM_WIND_PRES', 'OCEAN_AND_ICE_SURFACE_STRESS', 'OCEAN_AND_ICE_SURFACE_HEAT_FLUX', 'OCEAN_AND_ICE_SURFACE_FW_FLUX', 'SEA_ICE_CONC_THICKNESS', 'SEA_ICE_VELOCITY', 'SEA_ICE_HORIZ_VOLUME_FLUX', 'SEA_ICE_SALT_PLUME_FLUX', 'OCEAN_MIXED_LAYER_DEPTH', 'OCEAN_BOTTOM_PRESSURE', 'OCEAN_VELOCITY', 'OCEAN_TEMPERATURE_SALINITY', 'OCEAN_DENS_STRAT_PRESS', 'OCEAN_3D_VOLUME_FLUX', 'OCEAN_3D_MOMENTUM_TEND', 'OCEAN_3D_TEMPERATURE_FLUX', 'OCEAN_3D_SALINITY_FLUX', 'OCEAN_BOLUS_VELOCITY', 'OCEAN_BOLUS_STREAMFUNCTION'],\n",
    "                             index=all_datasets)\n",
    "\n",
    "# Information to generate an xgcm grid\n",
    "tile_connections = {'tile': {\n",
    "    0: {'X': ((12, 'Y', False), (3, 'X', False)), 'Y': (None, (1, 'Y', False))},\n",
    "    1: {'X': ((11, 'Y', False), (4, 'X', False)), 'Y': ((0, 'Y', False), (2, 'Y', False))},\n",
    "    2: {'X': ((10, 'Y', False), (5, 'X', False)), 'Y': ((1, 'Y', False), (6, 'X', False))},\n",
    "    3: {'X': ((0, 'X', False), (9, 'Y', False)), 'Y': (None, (4, 'Y', False))},\n",
    "    4: {'X': ((1, 'X', False), (8, 'Y', False)), 'Y': ((3, 'Y', False), (5, 'Y', False))},\n",
    "    5: {'X': ((2, 'X', False), (7, 'Y', False)), 'Y': ((4, 'Y', False), (6, 'Y', False))},\n",
    "    6: {'X': ((2, 'Y', False), (7, 'X', False)), 'Y': ((5, 'Y', False), (10, 'X', False))},\n",
    "    7: {'X': ((6, 'X', False), (8, 'X', False)), 'Y': ((5, 'X', False), (10, 'Y', False))},\n",
    "    8: {'X': ((7, 'X', False), (9, 'X', False)), 'Y': ((4, 'X', False), (11, 'Y', False))},\n",
    "    9: {'X': ((8, 'X', False), None), 'Y': ((3, 'X', False), (12, 'Y', False))},\n",
    "    10: {'X': ((6, 'Y', False), (11, 'X', False)), 'Y': ((7, 'Y', False), (2, 'X', False))},\n",
    "    11: {'X': ((10, 'X', False), (12, 'X', False)), 'Y': ((8, 'Y', False), (1, 'X', False))},\n",
    "    12: {'X': ((11, 'X', False), None), 'Y': ((9, 'Y', False), (0, 'X', False))}\n",
    "}}\n",
    "\n",
    "# So that you don't have to remember whether to put dimension names in quotes or not\n",
    "i, i_g, j, j_g, k, k_u, k_l, k_p1, tile, XC, YC, XG, YG, Z, Zp1, Zu, Zl, XC_bnds, YC_bnds, Z_bnds, tile, time, time_l = 'i', 'i_g', 'j', 'j_g', 'k', 'k_u', 'k_l', 'k_p1', 'tile', 'XC', 'YC', 'XG', 'YG', 'Z', 'Zp1', 'Zu', 'Zl', 'XC_bnds', 'YC_bnds', 'Z_bnds', 'tile', 'time', 'time_l'\n",
    "\n",
    "# Used to select i, j, i_g, and j_g for quiver plots to space out data\n",
    "skip = range(2, 88, 5)\n",
    "\n",
    "# subplots[i] is the index of tile #i in the array of subplots\n",
    "subplots = {\n",
    "    'pacific': [(3, 0), (2, 0), (1, 0), (3, 1), (2, 1), (1, 1), (0, 2),\n",
    "              (1, 2), (2, 2), (3, 2), (1, 3), (2, 3), (3, 3)],\n",
    "    'atlantic': [(3, 2), (2, 2), (1, 2), (3, 3), (2, 3), (1, 3), (0, 2),\n",
    "               (1, 0), (2, 0), (3, 0), (1, 1), (2, 1), (3, 1)],\n",
    "}\n",
    "# rotations[i] is the orientation of tile #i, as a multiple of 90 degrees\n",
    "rotations = {\n",
    "    'pacific': [0, 0, 0, 0, 0, 0, 1, 1, 1, 1, 1, 1, 1],\n",
    "    'atlantic': [0, 0, 0, 0, 0, 0, 3, 1, 1, 1, 1, 1, 1],\n",
    "}\n",
    "\n",
    "# Trigonometry for multiples of 90 degrees \n",
    "def cos90(angle):\n",
    "    if angle % 4 == 0: return 1\n",
    "    elif angle % 4 == 2: return -1\n",
    "    else: return 0\n",
    "def sin90(angle):\n",
    "    if angle % 4 == 1: return 1\n",
    "    elif angle % 4 == 3: return -1\n",
    "    else: return 0\n",
    "\n",
    "def adjust_timing(variable: str, timing: str) -> str:\n",
    "    dataset = datasets[variable]\n",
    "    if timing not in {'None', 'Monthly', 'Daily', 'Snapshot'}:\n",
    "        raise ValueError(str(timing) + ' is not a valid timing (select either Monthly, Daily, or Snapshot)')\n",
    "    elif timing == 'Snapshot' and timings[dataset] == 'Daily':\n",
    "        raise ValueError('No snapshots available for ' + str(variable))\n",
    "    elif timing in {'Monthly', 'Daily'} and timings[dataset] == 'Snapshot':\n",
    "        raise ValueError('No monthly or daily averages available for ' + str(variable))\n",
    "    elif timings[dataset] == 'None':\n",
    "        return 'None'\n",
    "    elif timing == 'None' and timings[dataset] == 'Snapshot':\n",
    "        return 'Snapshot'\n",
    "    elif timing == 'None' and timings[dataset] in {'Daily', 'All'}:\n",
    "        return 'Monthly'\n",
    "    else:\n",
    "        return timing\n",
    "\n",
    "def get_granule(granule: str, directory: str) -> str:\n",
    "    file = os.path.join(directory, os.path.basename(granule))\n",
    "    if not os.path.isfile(file):\n",
    "        print('File not downloaded: ' + granule)\n",
    "    return file\n",
    "\n",
    "def ecco_dataset(dataset: str, start: datetime.date = None, end: datetime.date = None, timing: str = 'None'):\n",
    "    short_timing_names = {'None': '', 'Monthly': '_MONTHLY', 'Daily': '_DAILY', 'Snapshot': '_SNAPSHOT'}\n",
    "    long_timing_names = {'None': '', 'Monthly': '_mon_mean', 'Daily': '_day_mean', 'Snapshot': '_snap'}\n",
    "    if timing not in short_timing_names:\n",
    "        raise ValueError('Unrecognized timing: ' + str(timing))\n",
    "    shortname = 'ECCO_L4_' + dataset + short_timing_names[timing] + '_V4R4'\n",
    "    if 'LLC0090' in dataset:\n",
    "        if timing == 'Monthly':\n",
    "            start = datetime.date(start.year, start.month, 1)\n",
    "            dates = [date.strftime('_%Y-%m') for date in pd.date_range(start, end, freq='MS')]\n",
    "        elif timing == 'Daily':\n",
    "            dates = [date.strftime('_%Y-%m-%d') for date in pd.date_range(start, end)]\n",
    "        elif timing == 'Snapshot':\n",
    "            dates = [date.strftime('_%Y-%m-%dT000000') for date in pd.date_range(start, end)]\n",
    "        elif timing == 'None':\n",
    "            dates = ['']\n",
    "        longnames = [granule_prefixes[dataset] + long_timing_names[timing] + date + '_ECCO_V4r4_native_llc0090.nc'\n",
    "                    for date in dates]\n",
    "    else:\n",
    "        longnames = [granule_prefixes[dataset] + long_timing_names[timing] + '_ECCO_V4r4_1D.nc']\n",
    "    granules = ['https://archive.podaac.earthdata.nasa.gov/podaac-ops-cumulus-protected/' + shortname + '/' + longname\n",
    "                for longname in longnames]\n",
    "    granule_dir = downloads + '/' + shortname\n",
    "    try: os.mkdir(granule_dir)\n",
    "    except FileExistsError: pass\n",
    "    files = [get_granule(granule, granule_dir) for granule in granules]\n",
    "    array = xr.open_mfdataset(files, data_vars='minimal', coords='minimal', compat='override')\n",
    "    if timing == 'Monthly':\n",
    "        times = pd.DatetimeIndex(array.time)\n",
    "        return array.assign_coords(time=[str(time)[:10] for time in times])\n",
    "    elif timing in {'Daily', 'Snapshot'}:\n",
    "        times = pd.DatetimeIndex(array.time)\n",
    "        return array.assign_coords(time=[str(time)[:10] for time in times])\n",
    "    else:\n",
    "        return array\n",
    "\n",
    "def ecco_variable(variable: str, start: datetime.date = None, end: datetime.date = None, timing: str = 'None'):\n",
    "    if variable not in all_variables:\n",
    "        raise ValueError(str(variable) + ' is not an ECCO variable')\n",
    "    timing = adjust_timing(variable, timing)\n",
    "    if timing != 'None' and start is None and 'LLC0090' in datasets[variable]:\n",
    "        raise ValueError('Enter a date to retrieve \\'' + str(variable) + '\\'')\n",
    "    if type(start) == str:\n",
    "        if len(start) == 7:\n",
    "            start += '-01'\n",
    "        start = datetime.datetime.strptime(start, '%Y-%m-%d')\n",
    "    if type(end) == str:\n",
    "        if len(end) == 7:\n",
    "            end += '-01'\n",
    "        end = datetime.datetime.strptime(end, '%Y-%m-%d')\n",
    "    if end is None:\n",
    "        end = start\n",
    "    if timing == 'Monthly':\n",
    "        if start < datetime.date(2017, 1, 1) or end > datetime.date(2017, 12, 31):\n",
    "            raise ValueError('Monthly averages are only available for 2017')\n",
    "    elif timing == 'Daily' or timing == 'Snapshot':\n",
    "        if start < datetime.date(2017, 1, 1) or end > datetime.date(2017, 7, 31) or (start >= datetime.date(2017, 2, 1) and end <= datetime.date(2017, 6, 30)):\n",
    "            raise ValueError('Daily averages and snapshots are only available for January 2017 and July 2017')\n",
    "    return ecco_dataset(datasets[variable], start, end, timing)[variable]\n",
    "\n",
    "def print_value(array):\n",
    "    if len(array.dims) > 1:\n",
    "        dims = ', '.join(array.dims)\n",
    "        raise ValueError('To get a single value, select or average along the remaining dimensions: ' + dims)\n",
    "    else:\n",
    "        value = array.values.item()\n",
    "        if math.isnan(value):\n",
    "            print('No value found (location is outside the bounds of the ocean)')\n",
    "        else:\n",
    "            if 'long_name' in array.attrs:\n",
    "                print(array.long_name[:-1] + ': ' + str(value))\n",
    "            else:\n",
    "                print(value)\n",
    "        for coord in {'XC', 'XG'}:\n",
    "            if coord in array.coords:\n",
    "                longitude = array[coord].values.item()\n",
    "                print('Longitude: ' + str(abs(round(longitude, 3))) + ('°W' if longitude < 0 else '°E'))\n",
    "                break\n",
    "        for coord in {'YC', 'YG'}:\n",
    "            if coord in array.coords:\n",
    "                latitude = array[coord].values.item()\n",
    "                print('Latitude: ' + str(abs(round(latitude, 3))) + ('°S' if latitude < 0 else '°N'))\n",
    "                break\n",
    "        for coord in {'Z', 'Zl', 'Zu', 'Zp1'}:\n",
    "            if coord in array.coords:\n",
    "                depth = array[coord].values.item()\n",
    "                print('Depth: ' + str(round(-depth, 3)) + ' meters')\n",
    "                break\n",
    "\n",
    "def bounds(bottom, top): return range(bottom, top + 1)\n",
    "\n",
    "geometry = ecco_dataset('GEOMETRY_LLC0090GRID')\n",
    "xgcm_grid = xgcm.Grid(geometry, periodic=False, face_connections=tile_connections)\n",
    "\n",
    "def interpolate(array, dim):\n",
    "    if dim not in array.dims:\n",
    "        raise ValueError(str(dim) + ' is not a dimension of the given variable')\n",
    "    if len(array[dim]) < 2:\n",
    "        raise ValueError('You need at least two coordinates to interpolate along a dimension')\n",
    "    if dim == 'time':\n",
    "        times = array[dim].values\n",
    "        array = array.assign_coords({dim: range(len(times))})\n",
    "        array = array.interp({dim: np.linspace(0.5, len(times) - 1.5, len(times) - 1)})\n",
    "        return array.assign_coords({dim: times[:-1]}).rename({dim: 'time_l'})\n",
    "    if dim == 'time_l':\n",
    "        times = array[dim].values\n",
    "        array = array.assign_coords({dim: range(len(times))})\n",
    "        array = array.interp({dim: np.linspace(0.5, len(times) - 1.5, len(times) - 1)})\n",
    "        return array.assign_coords({dim: times[1:]}).rename({dim: 'time'})\n",
    "    grid_dims = {'i', 'i_g', 'j', 'j_g', 'tile'} & set(array.dims)\n",
    "    if len(grid_dims) < 3 or any(len(array[dim]) < len(geometry[dim]) for dim in grid_dims):\n",
    "        raise ValueError('You must interpolate before selecting along grid dimensions')\n",
    "    if dim in {'i', 'i_g', 'XC', 'XG'}:\n",
    "        return xgcm_grid.interp(array.load(), 'X', keep_coords=True)\n",
    "    elif dim in {'j', 'j_g', 'YC', 'YG'}:\n",
    "        return xgcm_grid.interp(array.load(), 'Y', keep_coords=True)\n",
    "    elif dim in {'k', 'k_u', 'k_l', 'k_p1', 'Z', 'Zp1', 'Zu', 'Zl'}:\n",
    "        return xgcm_grid.interp(array.load(), 'Z', keep_coords=True)\n",
    "    else: raise ValueError('Cannot interpolate along ' + str(dim))\n",
    "\n",
    "def difference(array, dim):\n",
    "    if dim not in array.dims:\n",
    "        raise ValueError(str(dim) + ' is not a dimension of the given variable')\n",
    "    if len(array[dim]) < 2:\n",
    "        raise ValueError('You need at least two coordinates to calculate difference along a dimension')\n",
    "    if dim == 'time':\n",
    "        return array.diff('time', label='lower').rename({'time': 'time_l'})\n",
    "    if dim == 'time_l':\n",
    "        return array.diff('time_l', label='upper').rename({'time_l': 'time'})\n",
    "    grid_dims = {'i', 'i_g', 'j', 'j_g', 'tile'} & set(array.dims)\n",
    "    if len(grid_dims) < 3 or any(len(array[dim]) < len(geometry[dim]) for dim in grid_dims):\n",
    "        raise ValueError('You must calculate difference before selecting along grid dimensions')\n",
    "    if dim in {'i', 'i_g', 'XC', 'XG'}:\n",
    "        return xgcm_grid.diff(array.load(), 'X', keep_coords=True)\n",
    "    elif dim in {'j', 'j_g', 'YC', 'YG'}:\n",
    "        return xgcm_grid.diff(array.load(), 'Y', keep_coords=True)\n",
    "    elif dim in {'k', 'k_u', 'k_l', 'k_p1', 'Z', 'Zp1', 'Zu', 'Zl'}:\n",
    "        return -xgcm_grid.diff(array.load(), 'Z', keep_coords=True)\n",
    "    else: raise ValueError('Cannot calculate difference along ' + str(dim))\n",
    "\n",
    "def colormap(data: xr.DataArray):\n",
    "    cmin = np.nanpercentile(data, 10)\n",
    "    cmax = np.nanpercentile(data, 90)\n",
    "    if cmin < 0 and cmax > 0:\n",
    "        cmax = np.nanpercentile(np.abs(data), 90)\n",
    "        cmin = -cmax\n",
    "        cmap = 'RdBu_r'\n",
    "    else:\n",
    "        cmap = 'viridis'\n",
    "\n",
    "    return cmap, cmin, cmax\n",
    "\n",
    "dimension_descriptions = {'i': 'Tile x-coordinate', 'j': 'Tile y-coordinate', 'k': 'Tile z-coordinate', 'Z': 'Depth (m)', 'tile': 'Plot area', 'time': 'Date'}\n",
    "land_mask = mpl.colors.LinearSegmentedColormap.from_list('land_mask', ['#e0f0a0', '#ffffff'])\n",
    "\n",
    "def update_plot(fig, data, x, y, selection, ocean_focus=None):\n",
    "    names = data.data_vars.keys()\n",
    "    title = widgets.Text(description='Plot title:')\n",
    "    adjust_widgets = [title]\n",
    "    ckind = data.c.dtype.kind\n",
    "    if 'long_name' in data.c.attrs and 'vertical open fraction' in data.c.attrs['long_name']:\n",
    "        ckind = 'b'\n",
    "    cmap = widgets.Dropdown(description='Color map:', options=[\n",
    "        ('viridis', 'viridis'), ('inferno', 'inferno'), ('cividis', 'cividis'), ('gray', 'binary'), ('gray (inverted)', 'gray'),\n",
    "        ('pale', 'pink'), ('heat', 'gist_heat'), ('red-blue', 'RdBu_r'), ('seismic', 'seismic'), ('spectral', 'Spectral'),\n",
    "        ('land mask', land_mask)\n",
    "    ])\n",
    "    if ckind == 'f':\n",
    "        clabel = widgets.Text(description='Color units:')\n",
    "        adjust_widgets.append(clabel)\n",
    "    if {'u', 'v'} <= data.data_vars.keys():\n",
    "        uvlabel = widgets.Text(description='Arrow units:')\n",
    "        adjust_widgets.append(uvlabel)\n",
    "    if ckind == 'f':\n",
    "        adjust_widgets.append(cmap)\n",
    "        if {'u', 'v'} <= data.data_vars.keys():\n",
    "            acolor = widgets.Dropdown(description='Arrow color:', options=[('Black', 'k'), ('White', 'w')], value='k')\n",
    "            adjust_widgets.append(acolor)\n",
    "    display(widgets.HBox(adjust_widgets))\n",
    "\n",
    "    fig.clf()\n",
    "    # Select time/depth if possible before interpolating\n",
    "    for dim in {'time', 'k'}:\n",
    "        if dim in selection and dim in data.dims:\n",
    "            data = data.sel({dim: selection[dim]})\n",
    "    variables = dict(data.astype(float).data_vars)\n",
    "    for (name, var) in variables.items():\n",
    "        for dim in {'i_g', 'j_g', 'k_u', 'k_l', 'k_p1', 'time_l'}:\n",
    "            if dim in var.dims:\n",
    "                variables[name] = interpolate(var, dim)\n",
    "    data = xr.Dataset(variables)\n",
    "    # Second pass selection after interpolation changes dimensions\n",
    "    for (dim, val) in selection.items():\n",
    "        if dim in data.dims:\n",
    "            data = data.sel({dim: val})\n",
    "    if 'Z' in (x, y): data['Z'] = -data['Z']\n",
    "    if ckind == 'f':\n",
    "        cmap.value, cmin, cmax = colormap(data['c'])\n",
    "    elif ckind == 'b':\n",
    "        cmap.value, cmin, cmax = land_mask, 0, 1\n",
    "    if {'u', 'v'} <= set(data.data_vars):\n",
    "        x_skip, y_skip = math.ceil(len(data[x]) / 20), math.ceil(len(data[y]) / 20)\n",
    "        quiver_x, quiver_y = data[x][(x_skip//2)::x_skip], data[y][(y_skip//2)::y_skip]\n",
    "        uvmax = max(np.nanpercentile(np.abs(data.u), 90), np.nanpercentile(np.abs(data.v), 90))\n",
    "    if 'tile' in data.dims:\n",
    "        axes = fig.subplots(4, 4)\n",
    "        if ckind == 'f':\n",
    "            fig.set_size_inches(12.5, 10.1)\n",
    "        elif ckind == 'b':\n",
    "            fig.set_size_inches(10, 10.1)\n",
    "        fig.subplots_adjust(wspace=0, hspace=0)\n",
    "        for ax in axes.ravel():\n",
    "            ax.axis('off')\n",
    "        axes = [axes[row][col] for (row, col) in subplots[ocean_focus]]\n",
    "        title.observe(lambda change: fig.suptitle(change['new'], x=0.435, y=0.92), names='value')\n",
    "        meshes, quivers = [], []\n",
    "        for tile, ax in enumerate(axes):\n",
    "            if tile not in data.tile: continue\n",
    "            ax.axis('on')\n",
    "            ax.set_aspect('equal')\n",
    "            ax.get_xaxis().set_visible(False)\n",
    "            ax.get_yaxis().set_visible(False)\n",
    "            c_rotated = np.rot90(data.c.sel(tile=tile).load(), rotations[ocean_focus][tile])\n",
    "            meshes.append(ax.pcolormesh(data[x], data[y], c_rotated, cmap=cmap.value, vmin=cmin, vmax=cmax))\n",
    "            if {'u', 'v'} <= set(data.data_vars):\n",
    "                # Rotate head of each vector around the tile to the correct orientation\n",
    "                u_rotated = np.rot90(data.u.sel({'tile': tile, x: quiver_x, y: quiver_y}), rotations[ocean_focus][tile])\n",
    "                v_rotated = np.rot90(data.v.sel({'tile': tile, x: quiver_x, y: quiver_y}), rotations[ocean_focus][tile])\n",
    "                # Rotate tail of each vector around the head by the same amount\n",
    "                u_adjusted = u_rotated * cos90(rotations[ocean_focus][tile]) + v_rotated * sin90(rotations[ocean_focus][tile])\n",
    "                v_adjusted = v_rotated * cos90(rotations[ocean_focus][tile]) - u_rotated * sin90(rotations[ocean_focus][tile])\n",
    "                quivers.append(ax.quiver(quiver_x, quiver_y, u_adjusted, v_adjusted, scale=20*uvmax, width=0.006, clip_on=False))\n",
    "        if ckind == 'f':\n",
    "            cbar = fig.colorbar(meshes[0], ax=axes)\n",
    "            clabel.observe(lambda change: cbar.set_label(change['new']), names='value')\n",
    "            cmap.observe(lambda change: [mesh.set_cmap(change['new']) for mesh in meshes], names='value')\n",
    "            if {'u', 'v'} <= set(data.data_vars):\n",
    "                [quiver.set_color(acolor.value) for quiver in quivers]\n",
    "                acolor.observe(lambda change: [quiver.set_color(change['new']) for quiver in quivers], names='value')\n",
    "        if {'u', 'v'} <= set(data.data_vars):\n",
    "            quiverkey = axes[6].quiverkey(quivers[6], 1.5, 0.5, 5*uvmax, f'{5*uvmax:.5g}')\n",
    "            def set_quiverkey_label(change):\n",
    "                nonlocal quiverkey\n",
    "                quiverkey.remove()\n",
    "                label = f'{5*uvmax:.5g}'\n",
    "                if len(change['new']) > 0:\n",
    "                    label += ' ' + change['new']\n",
    "                quiverkey = axes[6].quiverkey(quivers[6], 1.5, 0.5, 5*uvmax, label)\n",
    "            uvlabel.observe(set_quiverkey_label, names='value')\n",
    "    else:\n",
    "        ax = fig.subplots()\n",
    "        if ckind == 'f':\n",
    "            fig.set_size_inches(6.5, 5)\n",
    "        elif ckind == 'b':\n",
    "            fig.set_size_inches(5, 5)\n",
    "        ax.set_xlabel(dimension_descriptions[x])\n",
    "        ax.set_ylabel(dimension_descriptions[y])\n",
    "        title.observe(lambda change: ax.set_title(change['new']), names='value')\n",
    "        transpose = (x != data.c.dims[1] and y != data.c.dims[0])\n",
    "        if (y in {'k', 'Z'}) or (transpose and y == 'i'):\n",
    "            ax.yaxis.set_inverted(True)\n",
    "            if 'v' in data.data_vars:\n",
    "                data['v'] = -data['v']\n",
    "        mesh_c = data.c.values\n",
    "        if transpose: mesh_c = mesh_c.T\n",
    "        mesh = ax.pcolormesh(data[x], data[y], mesh_c, cmap=cmap.value, vmin=cmin, vmax=cmax)\n",
    "        if ckind == 'f':\n",
    "            cbar = fig.colorbar(mesh)\n",
    "            clabel.observe(lambda change: cbar.set_label(change['new']), names='value')\n",
    "            cmap.observe(lambda change: mesh.set_cmap(change['new']), names='value')\n",
    "        if {'u', 'v'} <= names:\n",
    "            quiver_u = data.u.where(data[x].isin(quiver_x), drop=True).where(data[y].isin(quiver_y), drop=True)\n",
    "            quiver_v = data.v.where(data[x].isin(quiver_x), drop=True).where(data[y].isin(quiver_y), drop=True)\n",
    "            quiver_u, quiver_v = quiver_u.values, quiver_v.values\n",
    "            if transpose: quiver_u, quiver_v = quiver_u.T, quiver_v.T\n",
    "            quiver = ax.quiver(quiver_x, quiver_y, quiver_u, quiver_v, scale=20*uvmax, width=0.006)\n",
    "            quiverkey = ax.quiverkey(quiver, 0.95, 1.05, 2*uvmax, f'{2*uvmax:.5g} ')\n",
    "            def set_quiverkey_label(change):\n",
    "                nonlocal quiverkey\n",
    "                quiverkey.remove()\n",
    "                label = f'{2*uvmax:.5g}'\n",
    "                if len(change['new']) > 0:\n",
    "                    label += ' ' + change['new']\n",
    "                quiverkey = ax.quiverkey(quiver, 0.95, 1.05, 2*uvmax, label)\n",
    "            uvlabel.observe(set_quiverkey_label, names='value')\n",
    "            if ckind == 'f':\n",
    "                quiver.set_color(acolor.value)\n",
    "                acolor.observe(lambda change: quiver.set_color(change['new']), names='value')\n",
    "        if x in {'time', 'time_l'}:\n",
    "            ax.set_xticks(ax.get_xticks()[::3])\n",
    "\n",
    "def make_coords_widget(selection, coords):\n",
    "    output = widgets.Output()\n",
    "    def show_coords(change):\n",
    "        if change['new'] == 'Choose a value:':\n",
    "            with output: display(coords)\n",
    "        else:\n",
    "            output.clear_output()\n",
    "    selection.observe(show_coords, names='value')\n",
    "    return output, show_coords\n",
    "\n",
    "def plot(c: xr.DataArray = None, u: xr.DataArray = None, v: xr.DataArray = None):\n",
    "    # If there is no color plot, plot land vs. ocean instead\n",
    "    if c is None:\n",
    "        c = ecco_variable('hFacC')\n",
    "    # If one of the arrow components isn't used, make it zero\n",
    "    if u is not None and v is None:\n",
    "        v = xr.DataArray(0, coords=u.coords, dims=u.dims)\n",
    "    if v is not None and u is None:\n",
    "        u = xr.DataArray(0, coords=v.coords, dims=v.dims)\n",
    "        print(u)\n",
    "    plt.close() # Close other open plots to avoid having too many plots open at once\n",
    "    # Merge variables into one dataset in order to perform uniform selection\n",
    "    data = xr.Dataset({x_name: x for (x_name, x) in {'c': c, 'u': u, 'v': v}.items() if x is not None})\n",
    "    if len(set(data.dims) - {'tile'}) < 2:\n",
    "        raise ValueError('Must have at least two dimensions to make a plot')\n",
    "    if {'i_g', 'j_g', 'k_l', 'k_u', 'k_p1', 'time_l'} & set(data.dims):\n",
    "        grid_dims = {'i', 'i_g', 'j', 'j_g', 'tile'} & set(data.dims)\n",
    "        if len(grid_dims) < 3 or any(len(data[dim]) < len(geometry[dim]) for dim in grid_dims):\n",
    "            raise ValueError('In order for plotting to work correctly, you have to interpolate to grid cell centers before selecting along grid dimensions')\n",
    "    selection_widgets = dict()\n",
    "    selection_hboxes = []\n",
    "    if 'tile' in data.dims:\n",
    "        tile_options = [('Tile ' + str(tile), tile) for tile in data.tile.values]\n",
    "        # Multi-tile plots only make sense if the data variables have both x- and y-coordinates\n",
    "        if {'i', 'i_g'} & set(data.dims) and {'j', 'j_g'} & set(data.dims):\n",
    "            tile_options = [('All tiles (Pacific)', -2), ('All tiles (Atlantic)', -1)] + tile_options\n",
    "        tile_selection = widgets.Dropdown(description = 'Plot area:', options = tile_options)\n",
    "        all_tiles_widgets = dict()\n",
    "    if {'i', 'i_g'} & set(data.dims):\n",
    "        i_selection = widgets.Dropdown(\n",
    "            description = 'Tile x-coord:',\n",
    "            options = ['Plot on x-axis', 'Plot on y-axis', 'Choose a value:'],\n",
    "            value = 'Plot on x-axis',\n",
    "        )\n",
    "        i_coords = widgets.IntSlider(min=0, max=89)\n",
    "        i_output, i_show_coords = make_coords_widget(i_selection, i_coords)\n",
    "        selection_widgets['i'] = [i_selection, i_coords, i_output, i_show_coords]\n",
    "        selection_hboxes.append(widgets.HBox([i_selection, i_output]))\n",
    "    if {'j', 'j_g'} & set(data.dims):\n",
    "        j_selection = widgets.Dropdown(\n",
    "            description = 'Tile y-coord:',\n",
    "            options = ['Plot on x-axis', 'Plot on y-axis', 'Choose a value:'],\n",
    "            value = 'Plot on y-axis',\n",
    "        )\n",
    "        j_coords = widgets.IntSlider(min=0, max=89)\n",
    "        j_output, j_show_coords = make_coords_widget(j_selection, j_coords)\n",
    "        selection_widgets['j'] = [j_selection, j_coords, j_output, j_show_coords]\n",
    "        selection_hboxes.append(widgets.HBox([j_selection, j_output]))\n",
    "    if {'k', 'k_l', 'k_u', 'k_p1'} & set(data.dims):\n",
    "        k_selection = widgets.Dropdown(\n",
    "            description = 'Depth:',\n",
    "            options = ['Plot on x-axis', 'Plot on y-axis', 'Choose a value:'],\n",
    "            value = 'Choose a value:',\n",
    "        )\n",
    "        k_coords = widgets.SelectionSlider(options=[(str(int(-k)) + ' m', i) for (i, k) in enumerate(geometry.Z.values)])\n",
    "        k_proportional = widgets.Checkbox(description='Proportional axis', value=False)\n",
    "        k_output = widgets.Output()\n",
    "        def k_show_coords(change):\n",
    "            if change['new'] == 'Choose a value:':\n",
    "                k_output.clear_output()\n",
    "                with k_output: display(k_coords)\n",
    "            elif change['old'] == 'Choose a value:':\n",
    "                k_output.clear_output()\n",
    "                with k_output: display(k_proportional)\n",
    "        k_selection.observe(k_show_coords, names='value')\n",
    "        selection_widgets['k'] = [k_selection, k_coords, k_output, k_show_coords]\n",
    "        selection_hboxes.append(widgets.HBox([k_selection, k_output]))\n",
    "        if 'tile' in data.dims:\n",
    "            all_tiles_widgets['k'] = widgets.SelectionSlider(description='Depth:', options=k_coords.options)\n",
    "    for dim in {'time', 'time_l'}:\n",
    "        if dim in data.dims:\n",
    "            t_selection = widgets.Dropdown(\n",
    "                description = 'Date:',\n",
    "                options = ['Plot on x-axis', 'Plot on y-axis', 'Choose a value:'],\n",
    "                value = 'Choose a value:',\n",
    "            )\n",
    "            t_coords = widgets.SelectionSlider(options=data[dim].values)\n",
    "            t_output, t_show_coords = make_coords_widget(t_selection, t_coords)\n",
    "            selection_widgets['time'] = [t_selection, t_coords, t_output, t_show_coords]\n",
    "            selection_hboxes.append(widgets.HBox([t_selection, t_output]))\n",
    "            if 'tile' in data.dims:\n",
    "                all_tiles_widgets['time'] = widgets.SelectionSlider(description='Date:', options=t_coords.options)\n",
    "            break\n",
    "\n",
    "    selection_output = widgets.Output()\n",
    "    # 'change' means a change to the tile_selection widget's value (since tile_selection observes this function)\n",
    "    def set_selection_widgets(change):\n",
    "        selection_output.clear_output()\n",
    "        if change['new'] < 0:\n",
    "            with selection_output: display(*all_tiles_widgets.values())\n",
    "        else:\n",
    "            with selection_output: display(*selection_hboxes)\n",
    "            for [selection, _, _, show_coords] in selection_widgets.values():\n",
    "                # make coordinate sliders appear initially\n",
    "                show_coords({'new': selection.value, 'old': 'Choose a value:'})\n",
    "    set_selection_widgets({'new': tile_selection.value if 'tile' in data.dims else 0})\n",
    "    if 'tile' in data.dims:\n",
    "        tile_selection.observe(set_selection_widgets, names='value')\n",
    "\n",
    "    plot_button = widgets.Button(description='Plot')\n",
    "    clear_button = widgets.Button(description='Clear plot')\n",
    "    plot_status = widgets.Label(value='')\n",
    "    output = widgets.Output()\n",
    "    fig = plt.figure()\n",
    "    fig.set_size_inches(0.01, 0.01)\n",
    "\n",
    "    def on_plot_button(_):\n",
    "        plot_status.value = ''\n",
    "        if 'tile' not in data.dims or tile_selection.value >= 0:\n",
    "            selection = {dim: coords_widget.value\n",
    "                         for (dim, [selection_widget, coords_widget, _, _]) in selection_widgets.items()\n",
    "                         if selection_widget.value == 'Choose a value:'}\n",
    "            if 'tile' in data.dims:\n",
    "                selection['tile'] = tile_selection.value\n",
    "\n",
    "            xaxis = [dim for (dim, [selection_widget, _, _, _]) in selection_widgets.items()\n",
    "                     if selection_widget.value == 'Plot on x-axis']\n",
    "            if len(xaxis) != 1:\n",
    "                plot_status.value = 'One dimension must be selected to plot on the x-axis'\n",
    "                return\n",
    "            else: xaxis = xaxis[0]\n",
    "            if xaxis == 'k' and k_proportional.value: xaxis = 'Z'\n",
    "\n",
    "            yaxis = [dim for (dim, [selection_widget, _, _, _]) in selection_widgets.items()\n",
    "                     if selection_widget.value == 'Plot on y-axis']\n",
    "            if len(yaxis) != 1:\n",
    "                plot_status.value = 'One dimension must be selected to plot on the y-axis'\n",
    "                return\n",
    "            else: yaxis = yaxis[0]\n",
    "            if yaxis == 'k' and k_proportional.value: yaxis = 'Z'\n",
    "        else:\n",
    "            selection = {dim: widget.value for (dim, widget) in all_tiles_widgets.items()}\n",
    "            xaxis, yaxis = 'i', 'j'\n",
    "        output.clear_output()\n",
    "        with output:\n",
    "            if tile_selection.value >= 0: update_plot(fig, data, xaxis, yaxis, selection, None)\n",
    "            elif tile_selection.value == -1: update_plot(fig, data, xaxis, yaxis, selection, 'atlantic')\n",
    "            elif tile_selection.value == -2: update_plot(fig, data, xaxis, yaxis, selection, 'pacific')\n",
    "\n",
    "    def on_clear_button(_):\n",
    "        output.clear_output()\n",
    "        fig.clf()\n",
    "        fig.set_size_inches(0.01, 0.01)\n",
    "\n",
    "    plot_button.on_click(on_plot_button)\n",
    "    clear_button.on_click(on_clear_button)\n",
    "    if 'tile' in data.dims:\n",
    "        display(tile_selection)\n",
    "    display(selection_output, widgets.HBox([plot_button, clear_button, plot_status]), output)\n",
    "    plt.show()\n",
    "\n",
    "def plot_utility():\n",
    "    plt.close()\n",
    "    color = widgets.Text(description='Color plot:', value='THETA')\n",
    "    quiver_x = widgets.Text(description='Arrow plot x:', value='UVELMASS')\n",
    "    quiver_y = widgets.Text(description='Arrow plot y:', value='VVELMASS')\n",
    "    hbox1 = widgets.HBox([color, quiver_x, quiver_y])\n",
    "    start = widgets.DatePicker(description='Start date:', value=datetime.date(2017, 1, 1))\n",
    "    end = widgets.DatePicker(description='End date:', value=datetime.date(2017, 1, 10))\n",
    "    timing = widgets.Dropdown(options=['Monthly', 'Daily', 'Snapshot'], value='Daily', description='Timing:')\n",
    "    hbox2 = widgets.HBox([start, end, timing])\n",
    "    load_button = widgets.Button(description='Load data')\n",
    "    clear_button = widgets.Button(description='Clear data')\n",
    "    load_status = widgets.Label(value='')\n",
    "    hbox3 = widgets.HBox([load_button, clear_button, load_status])\n",
    "    output = widgets.Output()\n",
    "    \n",
    "    def on_load_button(_):\n",
    "        if not (color.value or quiver_x.value or quiver_y.value):\n",
    "            load_status.value = 'Enter variable names above'\n",
    "        elif not (start.value and end.value):\n",
    "            load_status.value = 'Enter start and end dates'\n",
    "        elif start.value > end.value:\n",
    "            load_status.value = 'Start date must be before end date'\n",
    "        elif start.value < np.datetime64('1992-01-01'):\n",
    "            load_status.value = 'Start date must not be before 1992'\n",
    "        elif end.value >= np.datetime64('2018-01-01'):\n",
    "            load_status.value = 'End date must not be after 2017'\n",
    "        else:\n",
    "            load_status.value = ''\n",
    "            c, x, y = None, None, None\n",
    "            monthly = True\n",
    "            if color.value:\n",
    "                try:\n",
    "                    c = ecco_variable(color.value, start.value, end.value, timing.value)\n",
    "                except ValueError as e:\n",
    "                    load_status.value = str(e)\n",
    "                    return\n",
    "            if quiver_x.value:\n",
    "                try:\n",
    "                    x = ecco_variable(quiver_x.value, start.value, end.value, timing.value)\n",
    "                except ValueError as e:\n",
    "                    load_status.value = str(e)\n",
    "                    return\n",
    "            if quiver_y.value:\n",
    "                try:\n",
    "                    y = ecco_variable(quiver_y.value, start.value, end.value, timing.value)\n",
    "                except ValueError as e:\n",
    "                    load_status.value = str(e)\n",
    "                    return\n",
    "            output.clear_output()\n",
    "            with output: plot(c, x, y)\n",
    "\n",
    "    def on_clear_button(_):\n",
    "        output.clear_output()\n",
    "    \n",
    "    load_button.on_click(on_load_button)\n",
    "    clear_button.on_click(on_clear_button)\n",
    "    display(hbox1, hbox2, hbox3, output)\n",
    "\n",
    "print('Setup complete')"
   ]
  },
  {
   "cell_type": "markdown",
   "id": "b73d4b92-1faa-4ca0-ad1e-584dded77e2d",
   "metadata": {
    "jp-MarkdownHeadingCollapsed": true
   },
   "source": [
    "## Introduction to ECCO"
   ]
  },
  {
   "cell_type": "markdown",
   "id": "1a2e2822-51dd-47c1-9571-87eec0ffc309",
   "metadata": {},
   "source": [
    "ECCO includes many variables in its data, which are listed in the following three documents:\n",
    "\n",
    "- Most variables have [monthly and daily averages](https://raw.githubusercontent.com/ECCO-GROUP/ECCO-v4-Python-Tutorial/master/varlist/v4r4_nctiles_monthly_varlist.txt), recorded between 1992 and 2018. In this lab, we'll work only with the 2017 data.\n",
    "- A few of these variables also have [daily snapshots](https://raw.githubusercontent.com/ECCO-GROUP/ECCO-v4-Python-Tutorial/master/varlist/v4r4_nctiles_snapshots_varlist.txt), recorded for the same time period. These may differ slightly from the daily averages, but they should be pretty close.\n",
    "- The remaining variables are [time series data and grid parameters](https://raw.githubusercontent.com/ECCO-GROUP/ECCO-v4-Python-Tutorial/master/varlist/v4r4_tseries_grid_varlist.txt).\n",
    "\n",
    "The variables are grouped into datasets with names like `ECCO_L4_SSH_LLC0090GRID_MONTHLY_V4R4`. These are already downloaded on OSCAR, to save space and time. You will access these files using the provided code. Using this code, you will use variable names, like `SSH`, to read the data. Beside each variable name in the links above is a description of what that data represents, and its units are given in parentheses. (For example, `SSH` is dynamic sea surface height anomaly, and its units are meters.)"
   ]
  },
  {
   "cell_type": "markdown",
   "id": "9d67ac0f-8d86-4bdf-927e-82b18a20c09b",
   "metadata": {},
   "source": [
    "**Task:** Take a look at the following potential questions of investigation about the ocean. Next to each one, write which variables might be needed to answer it.\n",
    "\n",
    "- *Which coastal areas may be at risk of flooding in the future?*\n",
    "- *What is the volume flux into the Atlantic ocean?*\n",
    "- *How is the ocean warming over time?*\n",
    "- *What factors affect ocean salinity?*"
   ]
  },
  {
   "cell_type": "markdown",
   "id": "e59cb6e5-0156-4f40-8cfa-cc3b4a85fa84",
   "metadata": {},
   "source": [
    "Variables are recorded on a large grid covering the entire globe, which is composed of thirteen tiles. Twelve of these tiles are mostly aligned with latitude and longitude lines, although six of them are rotated 90 degrees. The remaining tile (Tile 6) is a 'cap' over the North Pole.\n",
    "\n",
    "<figure>\n",
    "    <img src=\"Lab2Images/fig1.png\" width=\"500\"/>\n",
    "    <figcaption>\n",
    "        <a href=\"https://ecco-v4-python-tutorial.readthedocs.io/fields.html#tile-native-lat-lon-cap-90-grid\"> Fig. 1: ECCO Grid Tiles</a>\n",
    "    </figcaption>\n",
    "</figure>\n",
    "\n",
    "Most variables are also provided at 50 depth levels. Altogether, each variable is actually recorded across five dimensions: time, tile number, x- and y-coordinates within each tile, and depth."
   ]
  },
  {
   "cell_type": "markdown",
   "id": "94db97e7-c79d-4fb8-a136-3d1012ca3013",
   "metadata": {},
   "source": [
    "**Task:** Answer the following question: Which way does north point on each tile?\n",
    "\n",
    "- Tiles 0-5:\n",
    "- Tile 6:\n",
    "- Tiles 7-12:"
   ]
  },
  {
   "cell_type": "markdown",
   "id": "e48c372e-4291-410b-8ba9-65adc5ab9ea7",
   "metadata": {
    "jp-MarkdownHeadingCollapsed": true
   },
   "source": [
    "## Retrieving data"
   ]
  },
  {
   "cell_type": "markdown",
   "id": "d98b1cd8-fe19-4368-98ce-7d3a2ad974c8",
   "metadata": {},
   "source": [
    "In order to retrieve a variable, you can use the `ecco_variable` function, which has four inputs:\n",
    "\n",
    "- the name of the variable\n",
    "- a start date, expressed in ISO date format (YYYY-MM-DD)\n",
    "- an end date\n",
    "- whether you want a monthly average (`Monthly`), a daily average (`Daily`), or a snapshot (`Snapshot`).\n",
    "\n",
    "If you write `ecco_variable` by itself in a code block, it will print information about that variable. The top line is the most important: it includes a list of the dimensions along which that variable varies, along with how large each dimension is. In the following example, note how all five dimensions are included:\n",
    "- `time`, which consists of 10 days\n",
    "- `k`, which consists of 50 depth levels\n",
    "- `tile`, which has one option for each of the 13 tiles\n",
    "- `i` and `j`, which select x- and y-coordinates within each tile"
   ]
  },
  {
   "cell_type": "code",
   "execution_count": null,
   "id": "32f8d370-f7aa-4e23-9828-2670cce10622",
   "metadata": {},
   "outputs": [],
   "source": [
    "ecco_variable('THETA', '2017-01-01', '2017-01-10', 'Daily')"
   ]
  },
  {
   "cell_type": "markdown",
   "id": "a1a3441c-a6d7-4742-b8ba-58e3ebd01532",
   "metadata": {},
   "source": [
    "At the bottom of the description is a dropdown menu called Attributes, which shows you more information about how to interpret that variable. You don't need to worry about the other parts of the description."
   ]
  },
  {
   "cell_type": "markdown",
   "id": "caa3b600-f35e-4646-9961-37df91de4db8",
   "metadata": {},
   "source": [
    "In this lab, we will focus on plotting ECCO data. We have provided a plotting widget, which you can make with the `plot` function. This function has three inputs: one variable for the color plot, and two variables for the x- and y-coordinates of the arrow plot. The arrow plot is optional. Inside the plotting widget, you can select a time, region of the globe, and depth level. Once you make a plot, you can change the title, units and colors. Keep in mind that the plot utility won't be saved if you exit out of the notebook; thus, it's important to **manually save all the images you create!**\n",
    "\n",
    "**Task:** Generate the following plot using the default settings, and add an appropriate title and units. Save the image to your computer using either Shift + Right click (regular right click won't work) or with the Save icon that appears on the left side when you hover over the plot."
   ]
  },
  {
   "cell_type": "code",
   "execution_count": null,
   "id": "b47c64b7-357b-4c6d-861b-61bff407cac7",
   "metadata": {},
   "outputs": [],
   "source": [
    "temperature_C = ecco_variable('THETA', '2017-01-01', '2017-01-10', 'Daily')\n",
    "velocity_x = ecco_variable('UVELMASS', '2017-01-01', '2017-01-10', 'Daily')\n",
    "velocity_y = ecco_variable('VVELMASS', '2017-01-01', '2017-01-10', 'Daily')\n",
    "plot(temperature_C, velocity_x, velocity_y)"
   ]
  },
  {
   "cell_type": "markdown",
   "id": "eebb1e62-d9ab-45df-81fd-7b20759169f0",
   "metadata": {},
   "source": [
    "**Task:** Make and save the following plots. Add a title and units to each plot.\n",
    "\n",
    "- Plot sea surface height anomaly for a tile off the coast of Africa, on 1 January 2017.\n",
    "- Plot wind velocity for a tile surrounding North America, on 1 January 2017. Make sure the wind is circulating clockwise over the Atlantic Ocean.\n",
    "- Plot ocean temperature in the southern Atlantic on 1 January 2017, with depth on the *y*-axis and latitude on the *x*-axis. Make sure the 'Proportional axis' checkbox is selected for depth. Try using a few different color maps to see which one looks best."
   ]
  },
  {
   "cell_type": "code",
   "execution_count": null,
   "id": "dedf1031-d3ab-4e71-b6f6-58bd0e488bcc",
   "metadata": {},
   "outputs": [],
   "source": []
  },
  {
   "cell_type": "code",
   "execution_count": null,
   "id": "cee37a48-f62f-40a2-ae1b-31ae723b4e44",
   "metadata": {},
   "outputs": [],
   "source": []
  },
  {
   "cell_type": "code",
   "execution_count": null,
   "id": "dc9976c1-0cab-419c-a9b6-a15925a79373",
   "metadata": {},
   "outputs": [],
   "source": []
  },
  {
   "cell_type": "markdown",
   "id": "9b516ddc-3a8b-4108-a58e-ea5c7b1bfe87",
   "metadata": {},
   "source": [
    "**Task:** Based on what you see in the third plot, explain how the thickness of grid cells varies across depth. Drawing on the \"Heart of the Machine\" lectures, explain why ECCO might have chosen this vertical grid structure."
   ]
  },
  {
   "cell_type": "markdown",
   "id": "c94e67c7-eb52-46af-a942-f11a4f05746b",
   "metadata": {},
   "source": []
  },
  {
   "cell_type": "markdown",
   "id": "6059b7ae-7810-4dc0-ab0b-a0becc49e1a7",
   "metadata": {},
   "source": [
    "**Task:** Make a color plot of `UVELMASS`, which measures velocity in the *x*-direction of each tile. Explain why its value changes suddenly along certain tile boundaries."
   ]
  },
  {
   "cell_type": "markdown",
   "id": "3d495b9a-7e3f-4863-8d74-d5486e716fbd",
   "metadata": {},
   "source": []
  },
  {
   "cell_type": "markdown",
   "id": "774d091b-8ce9-4bc2-ae7e-acec4aedf9e1",
   "metadata": {
    "jp-MarkdownHeadingCollapsed": true
   },
   "source": [
    "## Discussion: Ocean Heat (Qual.)"
   ]
  },
  {
   "cell_type": "markdown",
   "id": "5b1c6579-a5af-42b4-8898-7e0019882143",
   "metadata": {},
   "source": [
    "<figure>\n",
    "    <img src=\"Lab2Images/IPCC_AR6_WGI_Figure_9_6.png\" width=\"700\"/>\n",
    "    <figcaption>\n",
    "        <a href=\"https://www.ipcc.ch/report/ar6/wg1/chapter/chapter-9/\"> IPCC AR6 Fig. 9.6: Ocean heat content (OHC) and its changes with time. (a) Time series of global OHC anomaly relative to a 2005–2014 climatology in the upper 2000 m of the ocean. Shown are observations (Ishii et al., 2017; Baggenstos et al., 2019; Shackleton et al., 2020), model-observation hybrids (Cheng et al., 2019; Zanna et al., 2019), and multi-model means from the Coupled Model Intercomparison Project Phase 6 (CMIP6) historical (29 models) and Shared Socio-economic Pathway (SSP) scenarios (label subscripts indicate number of models per SSP). (b–g) Maps of OHC across different time periods, in different layers, and from different datasets/experiments. Maps show the CMIP6 ensemble bias and observed (Ishii et al., 2017) trends of OHC for (b, c) 0–700 m for the period 1971–2014, and (e, f) 0–2000 m for the period 2005–2017. CMIP6 ensemble mean maps show projected rate of change 2015–2100 for (d) SSP5-8.5 and (g) SSP1-2.6 scenarios. Also shown are the projected change in 0–700 m OHC for (d) SSP1-2.6 and (g) SSP5-8.5 in the CMIP6 ensembles, for the period 2091–2100 versus 2005–2014. No overlay indicates regions with high model agreement, where ≥80% of models agree on the sign of change. Diagonal lines indicate regions with low model agreement, where <80% of models agree on the sign of change (see Cross-Chapter Box Atlas.1 for more information). Further details on data sources and processing are available in the chapter data table (Table 9.SM.9). </a>\n",
    "    </figcaption>\n",
    "</figure>"
   ]
  },
  {
   "cell_type": "markdown",
   "id": "77a12d56-ffec-495c-b3dd-f575f63c6307",
   "metadata": {
    "jp-MarkdownHeadingCollapsed": true
   },
   "source": [
    "## Arithmetic on ECCO variables"
   ]
  },
  {
   "cell_type": "markdown",
   "id": "1ab1dd52-a683-4026-9180-3d55cbffb59d",
   "metadata": {},
   "source": [
    "We can do arithmetic on ECCO variables by treating them just like regular variables. For example, the following plot shows temperature in Kelvins:"
   ]
  },
  {
   "cell_type": "code",
   "execution_count": null,
   "id": "4ee63e90-bd83-48f5-ba82-6029907cc684",
   "metadata": {},
   "outputs": [],
   "source": [
    "temperature_K = temperature_C + 273.15\n",
    "plot(temperature_K)"
   ]
  },
  {
   "cell_type": "markdown",
   "id": "f5a7f98a-4f19-4916-9013-d94f34141556",
   "metadata": {},
   "source": [
    "**Task:** With this in mind, one of the ECCO variables is seawater density anomaly. See if you can plot actual seawater density, rather than just the anomaly. You can use any date in 2017. (Hint: check the variable's attributes)"
   ]
  },
  {
   "cell_type": "code",
   "execution_count": null,
   "id": "7a492a2b-d6cc-4ca4-9b5c-d7e48c3e5bc0",
   "metadata": {},
   "outputs": [],
   "source": []
  },
  {
   "cell_type": "markdown",
   "id": "484a6a1f-b148-4492-9c13-3b1fa5a1cbc7",
   "metadata": {},
   "source": [
    "Density depends on temperature and salinity according to the following graph:\n",
    "\n",
    "<figure>\n",
    "    <img src=\"Lab2Images/fig2.png\" width=\"500\"/>\n",
    "    <figcaption>\n",
    "        <a href=\"https://www.researchgate.net/figure/Temperature-salinity-graph-showing-lines-of-constant-density-isopycnals-for-seawater-at_fig3_335607252\">\n",
    "            Fig. 2: Density vs. temperature and salinity\n",
    "        </a>\n",
    "    </figcaption>\n",
    "</figure>\n",
    "\n",
    "**Task:** Verify this relationship using ECCO data. First, using ECCO variables, write a formula that approximates density using only temperature and salinity. Then, subtract the approximate density from the real density to make a plot that shows where the approximation is more or less correct. You should verify that the approximation is mostly correct by checking that most of the data lies between -1 kg/m3 and +1 kg/m3. (Note: You should use a consistent date range for all the variables in a calculation.)"
   ]
  },
  {
   "cell_type": "code",
   "execution_count": null,
   "id": "986da114-4c01-40de-9892-71bad416bb7c",
   "metadata": {},
   "outputs": [],
   "source": []
  },
  {
   "cell_type": "markdown",
   "id": "25884e83-a513-4870-90fc-06ce4c0a3a81",
   "metadata": {
    "jp-MarkdownHeadingCollapsed": true
   },
   "source": [
    "## Circulation Features (Qual.)"
   ]
  },
  {
   "cell_type": "markdown",
   "id": "93263163-2fe7-4e86-af9a-bdff83e949b5",
   "metadata": {},
   "source": [
    "**Task:** In around 150 words, explain the qualitative factors that contribute to ocean gyres."
   ]
  },
  {
   "cell_type": "markdown",
   "id": "88ac32be-1dfb-4e4b-abe7-02513d73d8c7",
   "metadata": {},
   "source": []
  },
  {
   "cell_type": "markdown",
   "id": "7cbec257-7150-4de6-b5dd-49fea9e975d8",
   "metadata": {},
   "source": [
    "**Task:** Find a tile and a month in 2017 where an ocean gyre is prominent.\n",
    "\n",
    "- For this tile, produce plots of the features that indicate gyre strength. For example, consider plotting temperature, ocean velocity, wind speed, atmospheric pressure, and sea surface height anomaly.\n",
    "- For each plot, explain whether it indicates the presence of a gyre.\n",
    "- Explain if any other dominant circulation features are present. If so, relate these features to concepts discussed in class."
   ]
  },
  {
   "cell_type": "code",
   "execution_count": null,
   "id": "3269e4c6-fed8-4f26-b95e-a25d5fbfa72e",
   "metadata": {},
   "outputs": [],
   "source": []
  },
  {
   "cell_type": "markdown",
   "id": "120c7879-3761-4dda-b0d9-52c2a0a31cc5",
   "metadata": {},
   "source": []
  },
  {
   "cell_type": "markdown",
   "id": "620e954a-0654-4ab3-af21-cb5ab65dc801",
   "metadata": {},
   "source": [
    "**Task:** Plot on the same tile for different months in 2017. Explain whether the circulation features vary depending on the time of year."
   ]
  },
  {
   "cell_type": "code",
   "execution_count": null,
   "id": "ad53c61c-cad0-4b6b-8310-490cc21272af",
   "metadata": {},
   "outputs": [],
   "source": []
  },
  {
   "cell_type": "markdown",
   "id": "a8d74351-1054-47b4-86e2-ada0000fed3b",
   "metadata": {},
   "source": []
  },
  {
   "cell_type": "markdown",
   "id": "aca48d72-b09c-479e-9dfb-a297d6d6b9f7",
   "metadata": {},
   "source": [
    "**Task:** Find a tile and a month in 2017 where there is no prominent ocean gyre.\n",
    "\n",
    "- For this tile, produce plots of the features that indicate gyre strength.\n",
    "- For each plot, explain whether it indicates the presence of a gyre.\n",
    "- Explain if any other dominant circulation features are present. If so, relate these features to concepts discussed in class."
   ]
  },
  {
   "cell_type": "code",
   "execution_count": null,
   "id": "5499ea8b-0940-4829-8068-d5dec90cd463",
   "metadata": {},
   "outputs": [],
   "source": []
  },
  {
   "cell_type": "markdown",
   "id": "2c8c425a-1020-4fbe-858f-c5c82f700bbe",
   "metadata": {},
   "source": []
  },
  {
   "cell_type": "markdown",
   "id": "ca4a4c25-90f6-4e07-8494-0964b119d02c",
   "metadata": {},
   "source": [
    "**Task:** Choose one of the regions you explored above. In around 300 words, discuss the effects of the observed arrangement of sea surface temperature and atmospheric pressure on weather and/or fisheries."
   ]
  },
  {
   "cell_type": "markdown",
   "id": "4f17c44a-546f-4499-89ad-7ed0eb84aa66",
   "metadata": {},
   "source": []
  },
  {
   "cell_type": "markdown",
   "id": "a2397c7e-1766-466b-96a8-59491b277a7d",
   "metadata": {
    "jp-MarkdownHeadingCollapsed": true
   },
   "source": [
    "## Grid Geometry (Quant.)"
   ]
  },
  {
   "cell_type": "markdown",
   "id": "3e42c1b5-6a79-4c2e-8c41-f65dbcea827b",
   "metadata": {},
   "source": [
    "ECCO uses an Arakawa C-grid, which is described in *Computing the Climate*, p. 147-148. This type of grid is actually a combination of overlapping grids; each component grid has a name and is used by only some variables in the model. The *tracer grid* is used by scalar quantities like temperature, salinity and density (these quantities are sometimes called *tracers*). The *u-grid* and *v-grid* are used by vector quantities like velocity and heat flux. According to the specifications of the Arakawa C-grid, the u-grid should be staggered in the *x*-direction versus the tracer grid, while the v-grid should be staggered in the *y*-direction. Lastly, the *g-grid* is used by a few quantities like vorticity, and it's staggered in both the *x*- and *y*-directions versus the tracer grid.\n",
    "\n",
    "**Task:** Draw a a diagram of the Arakawa C-grid. In the next cell, answer the following questions about the C-grid:\n",
    "\n",
    "- Referring to Figure 5.13 in *Computing the Climate*, which component grid should be used by velocity in the *x*-direction? What about if we used the A-grid, B-grid, or D-grid?\n",
    "- How is the g-grid staggered relative to the v-grid?"
   ]
  },
  {
   "cell_type": "markdown",
   "id": "387bdb85-44a3-463c-83be-9bad7683a63d",
   "metadata": {},
   "source": []
  },
  {
   "cell_type": "markdown",
   "id": "0fcb4faf-d070-4d07-be71-038d8f180fd8",
   "metadata": {},
   "source": [
    "The component grid used by an ECCO variable is reflected in the names of its dimensions. For example, consider the velocity variables `UVELMASS` and `VVELMASS`, which we defined above as `velocity_x` and `velocity_y`. (Run the following cell to see details about `velocity_x`, and then change it to see details about `velocity_y`.)"
   ]
  },
  {
   "cell_type": "code",
   "execution_count": null,
   "id": "d1aad217-5265-4bb1-b08c-fe46fe8e4b65",
   "metadata": {},
   "outputs": [],
   "source": [
    "velocity_x"
   ]
  },
  {
   "cell_type": "markdown",
   "id": "f30863a1-1fcd-40e4-89cf-a6ca75b24b3b",
   "metadata": {},
   "source": [
    "**Task:** In the next cell, answer the following questions:\n",
    "\n",
    "- How and why do the dimensions differ between the two components of horizontal velocity?\n",
    "- Based on the Arakawa C-grid, infer the meanings of the four dimensions `i`, `j`, `i_g`, and `j_g`. What do their coordinates indicate?\n",
    "- Which dimensions would be included in a variable recorded on the g-grid?\n",
    "- On your diagram of the C-grid, show what the coordinates of these four dimensions look like. (You probably need to make multiple diagrams to avoid too many overlapping lines.)"
   ]
  },
  {
   "cell_type": "markdown",
   "id": "5de5c758-132a-48b7-b55d-af61b65c3234",
   "metadata": {},
   "source": []
  },
  {
   "cell_type": "markdown",
   "id": "b406acc0-d50b-4efc-8b9b-e1371ec89464",
   "metadata": {},
   "source": [
    "One final note: variables can also be staggered in the vertical direction, such as vertical velocity. This is indicated with the dimension `k_l` replacing `k` (depth). In ECCO, these variables are always horizontally aligned with the tracer grid, and never the u-, v- or g-grids.\n",
    "\n",
    "Up until now, we've only looked at time-varying quantities like temperature and velocity. But as we start performing more calculations using ECCO variables, it will be necessary to use the [grid parameter variables](https://raw.githubusercontent.com/ECCO-GROUP/ECCO-v4-Python-Tutorial/master/varlist/v4r4_tseries_grid_varlist.txt). Understanding the C-grid is crucial to understanding what these variables mean.\n",
    "\n",
    "**Task:** Read through the variables in the `ECCO_L4_GEOMETRY_LLC0090GRID_V4R4` dataset, and answer the following questions:\n",
    "\n",
    "- On your diagram of the C-grid, depict each of the following variables: `dxC`, `dxG`, `dyC`, `dyG`, `rA`, `rAw`, `rAs`, `rAz`, `CS`, `SN`\n",
    "- Using the plot utility, plot arrows that point north from every point on all tiles. Save this plot to your folder.\n",
    "- Show two different ways to calculate the volume of a tracer grid cell.\n",
    "- Show two different ways to calculate the volume of a u-grid cell.\n",
    "- Show two different ways to calculate the volume of a grid cell staggered vertically."
   ]
  },
  {
   "cell_type": "markdown",
   "id": "0c4d33aa-bb88-45cb-9796-b903aa616977",
   "metadata": {},
   "source": []
  },
  {
   "cell_type": "markdown",
   "id": "0ef1e597-c017-49a9-8cf3-92d49de77a9c",
   "metadata": {
    "jp-MarkdownHeadingCollapsed": true
   },
   "source": [
    "## Selecting along dimensions (Quant.)"
   ]
  },
  {
   "cell_type": "markdown",
   "id": "8d277df9-8119-445b-ba81-2362ab8a575c",
   "metadata": {},
   "source": [
    "Using `.sel`, we can also manually *select* variables along each of its dimensions. The following code selects salinity along the dimensions `time`, `k` (depth) and `tile`. Notice how those dimensions no longer appear in the output because we've selected a specific point along each of them."
   ]
  },
  {
   "cell_type": "code",
   "execution_count": null,
   "id": "ffec22c6-0be2-4b7a-8e2f-a538d0e1df0b",
   "metadata": {},
   "outputs": [],
   "source": [
    "temperature_C.sel(time = '2017-01-01', k = 10, tile = 4)"
   ]
  },
  {
   "cell_type": "markdown",
   "id": "2aead70b-3fe4-421b-ac50-796a625ae9ac",
   "metadata": {},
   "source": [
    "For the tile *x*- and *y*-coordinates, represented by dimensions `i`, `i_g`, `j`, and `j_g`, you can select anywhere from 0 to 89. For depth, represented by dimensions `k` and `k_l`, you can select anywhere from 0 to 49. For tile number, you can select anywhere from 0 to 12.\n",
    "\n",
    "This lets us compare variables between dimensions. For example, the following code plots the difference in temperature between two different depths."
   ]
  },
  {
   "cell_type": "code",
   "execution_count": null,
   "id": "a983cba7-5b9e-4eba-90e4-6db0d90f64a9",
   "metadata": {},
   "outputs": [],
   "source": [
    "plot(temperature_C.sel(k = 5) - temperature_C.sel(k = 0))"
   ]
  },
  {
   "cell_type": "markdown",
   "id": "c8fbec67-c168-444a-a8d0-5864cd8f7419",
   "metadata": {},
   "source": [
    "Once you've selected along every dimension and gotten a single value, you can print that value with the `print_value` function. (Using the regular `print` function will just print information about the array, not the value you're looking for.)"
   ]
  },
  {
   "cell_type": "code",
   "execution_count": null,
   "id": "5a8a351e-ba54-46c4-9533-52fc058ef983",
   "metadata": {},
   "outputs": [],
   "source": [
    "temperature_reading = temperature_C.sel(time = '2017-01-01', k = 10, tile = 4, i = 10, j = 20)\n",
    "print_value(temperature_reading)"
   ]
  },
  {
   "cell_type": "markdown",
   "id": "7ff23bde-f8cc-494b-b7eb-1261031c3da9",
   "metadata": {},
   "source": [
    "**Task:** Print a temperature near the bottom of the ocean at the North Pole on January 1st, 2017."
   ]
  },
  {
   "cell_type": "code",
   "execution_count": null,
   "id": "68ee69f0-a270-4835-b788-c2c6baf6170a",
   "metadata": {},
   "outputs": [],
   "source": []
  },
  {
   "cell_type": "markdown",
   "id": "8fa7a13c-dcbc-4c6e-a9ab-748e015203dc",
   "metadata": {},
   "source": [
    "We can also average along dimensions with `.mean`; other operations like `.sum`, `.min` (minimum), and `.max` (maximum) work similarly. The following code plots the temperature anomaly relative to the time average."
   ]
  },
  {
   "cell_type": "code",
   "execution_count": null,
   "id": "a8f6fc8a-0a88-4c74-87fb-4633154d0966",
   "metadata": {},
   "outputs": [],
   "source": [
    "plot(temperature_C - temperature_C.mean(time))"
   ]
  },
  {
   "cell_type": "markdown",
   "id": "02314047-1765-4de4-96e1-5517fe987644",
   "metadata": {},
   "source": [
    "**Task:** Add comments describing each line the following calculation, and indicate what the value printed at the end means."
   ]
  },
  {
   "cell_type": "code",
   "execution_count": null,
   "id": "baeebc22-fb6e-4666-98c5-1ca32b297c23",
   "metadata": {},
   "outputs": [],
   "source": [
    "volume = ecco_variable('rA') * ecco_variable('drF')\n",
    "temp_volume = temperature_C.sel(time = '2017-01-01') * volume\n",
    "total_volume = volume.sum(tile).sum(i).sum(j).sum(k)\n",
    "total_temp_volume = temp_volume.sum(tile).sum(i).sum(j).sum(k)\n",
    "avg_temp = total_temp_volume / total_volume\n",
    "print_value(avg_temp)"
   ]
  },
  {
   "cell_type": "markdown",
   "id": "03b2f07b-563b-4b3f-930b-0ab2d2ff2278",
   "metadata": {},
   "source": [
    "When selecting along a dimension, we can also choose a range of coordinates with the `bounds` function:"
   ]
  },
  {
   "cell_type": "code",
   "execution_count": null,
   "id": "b89ca3d8-065c-4c87-bf9f-05f94d73586c",
   "metadata": {},
   "outputs": [],
   "source": [
    "plot(temperature_C.sel(time = '2017-01-01', tile = bounds(3, 9)))"
   ]
  },
  {
   "cell_type": "markdown",
   "id": "b1340529-fa04-4672-bb71-0a9c04eef5eb",
   "metadata": {},
   "source": [
    "**Task:** Using `.sel` and `.sum`, find approximately the average northward velocity of the Atlantic ocean on 1 January 2017. Think carefully about the grid geometry; you'll need to incorporate multiple tiles to cover the whole Atlantic ocean. Try not to include any other bodies of water."
   ]
  },
  {
   "cell_type": "code",
   "execution_count": null,
   "id": "fddd799d-c523-434e-8693-1f9592e2d314",
   "metadata": {},
   "outputs": [],
   "source": []
  }
 ],
 "metadata": {
  "kernelspec": {
   "display_name": "Python 3 (ipykernel)",
   "language": "python",
   "name": "python3"
  },
  "language_info": {
   "codemirror_mode": {
    "name": "ipython",
    "version": 3
   },
   "file_extension": ".py",
   "mimetype": "text/x-python",
   "name": "python",
   "nbconvert_exporter": "python",
   "pygments_lexer": "ipython3",
   "version": "3.12.3"
  }
 },
 "nbformat": 4,
 "nbformat_minor": 5
}
