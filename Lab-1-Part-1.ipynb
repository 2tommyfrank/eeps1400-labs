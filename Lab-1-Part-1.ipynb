{
 "cells": [
  {
   "cell_type": "markdown",
   "id": "55aec7d8-e821-4242-bb9f-e386cb95fb92",
   "metadata": {},
   "source": [
    "# Lab 1 Part 1: Radiative Energy Balance"
   ]
  },
  {
   "cell_type": "markdown",
   "id": "0ccd0bb3-e9ac-4239-9a26-c14bd0c4b327",
   "metadata": {},
   "source": [
    "In this part, we'll introduce Python and make an energy balance model. Python is a programming language we'll use to write the mathematical equations and functions used in the model. It also has a utility for making plots of model output. **Quantitative** students will analyze different ways of measuring greenhouse gases. **Qualitative** students will investigate the physical processes that determine the Earth's energy budget."
   ]
  },
  {
   "cell_type": "markdown",
   "id": "1a72749c-b2d6-49bc-b0bc-1406e8772c9c",
   "metadata": {
    "jp-MarkdownHeadingCollapsed": true
   },
   "source": [
    "## One-Layer Energy Balance"
   ]
  },
  {
   "cell_type": "markdown",
   "id": "b79ff6d0-8db0-44ed-bacf-5be826eda9e3",
   "metadata": {},
   "source": [
    "To define a variable, write an equation with the variable you're defining on the left-hand side and a number on the right-hand side. You can add a comment anywhere in code starting with a `#` character. You should use comments to write what each variable means and what its units are."
   ]
  },
  {
   "cell_type": "code",
   "execution_count": null,
   "id": "3beb0de9-884c-4799-9d51-2b3037050fec",
   "metadata": {},
   "outputs": [],
   "source": [
    "S = 1367 # Maximum insolation [W m-2]\n",
    "sigma = 5.67e-8 # Stefan-Boltzmann constant [W m-2 K-4]\n",
    "Te = 255 # Emission temperature [K]\n",
    "alpha = 0.3 # Albedo [fraction]"
   ]
  },
  {
   "cell_type": "markdown",
   "id": "8f8809e3-0f51-47fd-bc1a-4d1ecc3774b7",
   "metadata": {},
   "source": [
    "You can define variables in terms of other variables, using arithmetic operations:\n",
    "\n",
    "* addition: `1 + 2` is 3\n",
    "* subtraction: `3 - 1` is 2\n",
    "* multiplication: `3 * 4` is 12\n",
    "* division: `12 / 3` is 4\n",
    "* exponentiation: `2**5` is 32\n",
    "* parentheses: `(1 + 3) * 5` is 20"
   ]
  },
  {
   "cell_type": "code",
   "execution_count": null,
   "id": "a752e5a0-6a7c-4704-8754-14a467458f6b",
   "metadata": {},
   "outputs": [],
   "source": [
    "S0 = S / 4 # Average insolation [W m-2]\n",
    "F_in = S0 * (1 - alpha) # Absorbed insolation [W m-2]\n",
    "F_out = sigma * Te**4 # Emitted longwave radiation [W m-2]"
   ]
  },
  {
   "cell_type": "markdown",
   "id": "582ce0f3-9d21-4369-9a27-2ba1d7b889c9",
   "metadata": {},
   "source": [
    "To retrieve the value of a variable, put it inside a `print` statement."
   ]
  },
  {
   "cell_type": "code",
   "execution_count": null,
   "id": "282b2766-5173-4234-bc9e-130d07ba3e14",
   "metadata": {},
   "outputs": [],
   "source": [
    "print(S0)\n",
    "print(F_in)\n",
    "print(F_out)"
   ]
  },
  {
   "cell_type": "markdown",
   "id": "3204f255-661c-4231-8fc1-3efb04f96f67",
   "metadata": {},
   "source": [
    "Notice that `F_in` and `F_out` are almost equal—this is because the Earth we've modeled is nearly in radiative balance. Now, let's suppose the Earth's albedo changes (but insolation stays the same) so that the emission temperature falls to 240 K. What must the albedo be now?"
   ]
  },
  {
   "cell_type": "code",
   "execution_count": null,
   "id": "aa2e6b26-eafe-4ced-8d10-5d9fa9f6f329",
   "metadata": {},
   "outputs": [],
   "source": [
    "# We can redefine variables at any point with a new equation\n",
    "Te = 240 # New emission temperature [K]\n",
    "\n",
    "# TO-DO: Find the new albedo\n"
   ]
  },
  {
   "cell_type": "markdown",
   "id": "519799e9-2e3e-4029-8ea2-ff214a02c1c2",
   "metadata": {
    "jp-MarkdownHeadingCollapsed": true
   },
   "source": [
    "## Blackbody Radiation (Qual.)"
   ]
  },
  {
   "cell_type": "markdown",
   "id": "47087a08-4b71-405e-9d5d-d53dfb30be4d",
   "metadata": {},
   "source": [
    "The following diagram comes from *Computing the Climate*, p. 25.\n",
    "\n",
    "<figure>\n",
    "    <img src=\"Lab1Images/fig1.png\" width=\"600\"/>\n",
    "    <figcaption>\n",
    "        <a href=\"https://commons.wikimedia.org/wiki/File:BlackbodySpectrum_loglog_150dpi_en.png\"> Fig. 1: Blackbody radiation curves </a>\n",
    "    </figcaption>\n",
    "</figure>\n",
    "\n",
    "In around 150 words, answer the following questions about the plot:\n",
    "\n",
    "- What do the axes mean? What are the units?\n",
    "- How does temperature affect blackbody radiation?\n",
    "- How are the Stefan-Boltzmann law and Wien's displacement law represented in the diagram?\n",
    "- What do the red (300 K) and yellow (5777 K) curves represent? How do they differ, and what is their implication?\n",
    "- To what extent does our Python model so far reflect this diagram? Could our model be modified to better reflect it?"
   ]
  },
  {
   "cell_type": "markdown",
   "id": "6101f8b5-4ffd-4d0a-bfb7-e59c8e381463",
   "metadata": {},
   "source": []
  },
  {
   "cell_type": "markdown",
   "id": "9393efbd-38d5-4462-9446-044433a17a0b",
   "metadata": {
    "jp-MarkdownHeadingCollapsed": true
   },
   "source": [
    "## Greenhouse Effect"
   ]
  },
  {
   "cell_type": "markdown",
   "id": "fe8bae2d-4721-4cdb-98c9-1fbcb7f49c7e",
   "metadata": {},
   "source": [
    "The Earth's surface is much warmer than the emission temperature of 255 K (-18°C) due to the greenhouse effect. In the simplest model of this effect, we multiply `F_out` by an *transmissivity* factor τ. This factor is less than one, indicating that not all of the infrared radiation we would expect the Earth to emit is able to escape the atmosphere. Given that the Earth's surface is 287 K, what is the atmosphere's transmissivity?"
   ]
  },
  {
   "cell_type": "code",
   "execution_count": null,
   "id": "f1121b18-0065-4836-940a-3fca8de75797",
   "metadata": {},
   "outputs": [],
   "source": [
    "Ts = 287 # Surface temperature [K]\n",
    "\n",
    "# TO-DO: Find the transmissivity\n"
   ]
  },
  {
   "cell_type": "markdown",
   "id": "f8bf7173-f848-41e4-bd70-9ced8a0e234a",
   "metadata": {},
   "source": [
    "To explore the impact of the greenhouse effect, we might want to let the transmissivity vary and see how the surface temperature changes in response. We can create a Python function to model this problem. The syntax for a Python function starts with the keyword `def`, has a `:` character instead of an equals sign, and has the keyword `return` before the output of the function.\n",
    "\n",
    "Note: Defining `Ts` as a function overwrites its previous value of 287. After running the next cell, you can re-run the previous cell to set `Ts` back to the old value, if necessary."
   ]
  },
  {
   "cell_type": "code",
   "execution_count": null,
   "id": "0f3e9fca-44e4-405c-97a2-244d41598c8a",
   "metadata": {},
   "outputs": [],
   "source": [
    "# Surface temperature [K] as a function of transmissivity\n",
    "def Ts(tau): return ((F_in / tau) / sigma)**(1/4)\n",
    "\n",
    "print(Ts(1))\n",
    "print(Ts(0.7))\n",
    "print(Ts(0.4))"
   ]
  },
  {
   "cell_type": "markdown",
   "id": "68e94b9b-1b14-4dc4-b0cd-7a40a8e82241",
   "metadata": {},
   "source": [
    "For more complicated functions, writing the whole definition on one line can be difficult to read. So, you can also split a function into multiple lines and even include intermediate definitions. The following function is exactly the same as the one above, but it performs an intermediate calculation to find `F_out`."
   ]
  },
  {
   "cell_type": "code",
   "execution_count": null,
   "id": "527ce25e-8644-4f08-9919-dab0f3d6fa29",
   "metadata": {},
   "outputs": [],
   "source": [
    "# TO-DO: Write comments to explain what each line of code does\n",
    "def Ts(tau):\n",
    "    F_out = F_in / tau\n",
    "    return (F_out / sigma)**(1/4)\n",
    "\n",
    "print(Ts(1))\n",
    "print(Ts(0.7))\n",
    "print(Ts(0.4))"
   ]
  },
  {
   "cell_type": "markdown",
   "id": "ea225006-d508-401d-9fe1-1e7f5009da28",
   "metadata": {},
   "source": [
    "We can create a line plot of surface temperature against transmissivity in Python. To do this, we need to use two *Python packages* called **numpy** and **matplotlib**. Each package is a collections of commands we can use with Python: numpy provides additional mathematical functions, while matplotlib gives us the ability to create plots. To use a package, you first need to import it:"
   ]
  },
  {
   "cell_type": "code",
   "execution_count": null,
   "id": "f3ae4ea1-dfc9-4f11-a569-8fa7f1d23e9a",
   "metadata": {},
   "outputs": [],
   "source": [
    "import numpy as np\n",
    "import matplotlib.pyplot as plt"
   ]
  },
  {
   "cell_type": "markdown",
   "id": "f14e1d21-b7e9-478e-84c3-17494c1cf312",
   "metadata": {},
   "source": [
    "From now on, you can write `np.` in your code to access numpy, and `plt.` to access matplotlib. After the `.` character, you write the name of a function provided by the package. For example:"
   ]
  },
  {
   "cell_type": "code",
   "execution_count": null,
   "id": "afa25d0f-065e-4b08-a613-34a215d3796d",
   "metadata": {},
   "outputs": [],
   "source": [
    "# np.sqrt: Square root.\n",
    "print(np.sqrt(5))\n",
    "# np.gcd: Greatest common divisor. This function has two inputs, separated by a comma.\n",
    "print(np.gcd(6, 15))\n",
    "# np.linspace: Makes a linear space, meaning a list of evenly-spaced values between first and second inputs;\n",
    "#              the third input determines the number of values in the list.\n",
    "print(np.linspace(10, 50, 9))"
   ]
  },
  {
   "cell_type": "markdown",
   "id": "3c9ff14b-4321-427d-9f8b-eb00de9c3a7e",
   "metadata": {},
   "source": [
    "See the [numpy documentation](https://numpy.org/doc/stable/reference/routines.math.html) for a list of mathematical functions provided by numpy, and the [matplotlib documentation](https://matplotlib.org/stable/api/pyplot_summary.html#module-matplotlib.pyplot) for a list of plotting commands provided by matplotlib. You probably won't need to use the documentation, though; we'll go over each new function as it comes up. The next code block creates the line plot. Notice that the `plt.xlabel` and `plt.ylabel` functions have a text input, enclosed in quotes."
   ]
  },
  {
   "cell_type": "code",
   "execution_count": null,
   "id": "40abecb4-48ff-4d33-add9-d9c042c60658",
   "metadata": {},
   "outputs": [],
   "source": [
    "# Set transmissivity equal to a range of values from 0.01 to 1 (think: why not zero?). These will be the x-coordinates for the plot.\n",
    "taus = np.linspace(0.01, 1, 100)\n",
    "# Calculate the surface temperature for each transmissivity value. These will be the y-coordinates for the plot.\n",
    "temps = Ts(taus)\n",
    "# plt.plot: Create a line plot using the x- and y-coordinates of each point.\n",
    "plt.plot(taus, temps)\n",
    "# plt.xlabel: Make a label for the x-axis.\n",
    "plt.xlabel(\"Transmissivity\")\n",
    "# plt.ylabel: Make a label for the y-axis.\n",
    "plt.ylabel(\"Surface temperature [K]\")\n",
    "# plt.show: Display the line plot after this code block.\n",
    "plt.show()"
   ]
  },
  {
   "cell_type": "markdown",
   "id": "6a7db48f-605a-4656-9081-29212d6cab31",
   "metadata": {},
   "source": [
    "To demonstrate more plotting functionality, let's consider how albedo and transmissivity together affect temperature. First, write the function in Python."
   ]
  },
  {
   "cell_type": "code",
   "execution_count": null,
   "id": "fba7c485-f64c-4e34-903d-041f1e0d74f6",
   "metadata": {},
   "outputs": [],
   "source": [
    "# TO-DO: Surface temperature [K] as a function of albedo and transmissivity\n",
    "def Ts(alpha, tau):\n",
    "    \n",
    "\n",
    "print(Ts(0, 1)) # Should be 278.6322398158889\n",
    "print(Ts(0.3, 1)) # Should be 254.8624631536174\n",
    "print(Ts(0, 0.6)) # Should be 316.5873470010296"
   ]
  },
  {
   "cell_type": "markdown",
   "id": "dc6ae563-da38-4ed3-a080-1686bd4924c1",
   "metadata": {},
   "source": [
    "One way to visualize a function of two variables is a plot of multiple lines, where one variable is on the x-axis and the other variable varies between lines. To achieve this, just use `plt.plot` multiple times in one code block. We can distinguish each line with a label by writing `label=` inside the parentheses of `plt.plot`."
   ]
  },
  {
   "cell_type": "code",
   "execution_count": null,
   "id": "35c2403e-cd4d-446e-8690-1415550e2e88",
   "metadata": {},
   "outputs": [],
   "source": [
    "plt.plot(taus, Ts(0.0, taus), label=\"Albedo = 0.0\")\n",
    "plt.plot(taus, Ts(0.3, taus), label=\"Albedo = 0.3\")\n",
    "plt.plot(taus, Ts(0.6, taus), label=\"Albedo = 0.6\")\n",
    "plt.plot(taus, Ts(0.9, taus), label=\"Albedo = 0.9\")\n",
    "# plt.legend: Make a legend for the plot, showing each line's label\n",
    "plt.legend()\n",
    "plt.xlabel(\"Transmissivity\")\n",
    "plt.ylabel(\"Surface temperature [K]\")\n",
    "plt.show()"
   ]
  },
  {
   "cell_type": "code",
   "execution_count": null,
   "id": "f90c7167-94c2-45bc-b4b9-b45bc89809e3",
   "metadata": {},
   "outputs": [],
   "source": [
    "# TO-DO: Make a line plot of surface temperature vs albedo, where different lines represent different transmissivities\n"
   ]
  },
  {
   "cell_type": "markdown",
   "id": "918a2a2e-d5af-4130-aedd-559af70f74f0",
   "metadata": {},
   "source": [
    "Another way to visualize this function is with a color plot. We put albedo and transmissivity on the axes and let color represent surface temperature. To use this kind of plot, we need to create a mesh grid of albedo and transmissivity values. It's not important to understand what this means, but if you're interested, click [here](https://stackoverflow.com/a/36014586) for an explanation of what `np.meshgrid` does."
   ]
  },
  {
   "cell_type": "code",
   "execution_count": null,
   "id": "58c37c04-e61f-4e93-a64c-9f081d25a98e",
   "metadata": {},
   "outputs": [],
   "source": [
    "# The x- and y- coordinates of each point on the plot\n",
    "alpha_grid, tau_grid = np.meshgrid(alphas, taus)\n",
    "# Temperatures at each point on the plot\n",
    "temperatures = Ts(alpha_grid, tau_grid)\n",
    "# plt.pcolormesh: Make a color plot using the x-coordinates, y-coordinates, and color values of each point.\n",
    "plt.pcolormesh(alpha_grid, tau_grid, temperatures)\n",
    "# plt.title: Make a title for the plot.\n",
    "plt.title(\"Surface temperature [K]\")\n",
    "plt.xlabel(\"Albedo\")\n",
    "plt.ylabel(\"Transmissivity\")\n",
    "plt.show()"
   ]
  },
  {
   "cell_type": "markdown",
   "id": "8dd73672-cbfd-41c4-9abb-abb55c2d6bd1",
   "metadata": {},
   "source": [
    "A third kind of visualization is the contour plot, which works similarly to the color plot. The only difference is the `plt.contour` function has a fourth input, which specifies a list of temperatures to draw contour lines at."
   ]
  },
  {
   "cell_type": "code",
   "execution_count": null,
   "id": "1d675328-5d1a-4184-b498-14a1e0a795ea",
   "metadata": {},
   "outputs": [],
   "source": [
    "# Contour lines drawn at these temperatures\n",
    "contours = [200, 300, 400, 500]\n",
    "# plt.contour: Make a contour plot. Notice that we're storing the plot in a variable called contour_plot.\n",
    "contour_plot = plt.contour(alpha_grid, tau_grid, temperatures, contours)\n",
    "# plt.clabel: Put numerical labels on the contours. Notice that the input to the function is the contour_plot we stored earlier.\n",
    "plt.clabel(contour_plot)\n",
    "plt.title(\"Surface temperature [K]\")\n",
    "plt.xlabel(\"Albedo\")\n",
    "plt.ylabel(\"Transmissivity\")\n",
    "plt.show()"
   ]
  },
  {
   "cell_type": "markdown",
   "id": "b32534aa-fe02-4485-88a0-c57c78666f4e",
   "metadata": {},
   "source": [
    "You'll see more of these color plots in Lab 2."
   ]
  },
  {
   "cell_type": "markdown",
   "id": "131974e4-d9d1-4060-9145-7030522283e0",
   "metadata": {
    "jp-MarkdownHeadingCollapsed": true
   },
   "source": [
    "## Absorptivity (Quant.)"
   ]
  },
  {
   "cell_type": "markdown",
   "id": "af9bfc93-dac1-4adb-bd5e-6d268028fe87",
   "metadata": {},
   "source": [
    "Another way to model the greenhouse effect is to include the atmosphere as a single layer of gas. The atmosphere absorbs a fraction of the longwave radiation emitted by the surface and radiates it back in all directions. This fraction is called absorptivity (ε). Again assuming that the Earth's surface is 287 K, what is the atmosphere's absorptivity?"
   ]
  },
  {
   "cell_type": "code",
   "execution_count": null,
   "id": "b4af9379-5ce3-46e6-be49-be5c4fdf7ee7",
   "metadata": {},
   "outputs": [],
   "source": [
    "Ts = 287 # Surface temperature [K]\n",
    "alpha = 0.3 # Albedo [fraction]\n",
    "\n",
    "# TO-DO: Find the absorptivity\n",
    "# You might want to define intermediate variables to make the calculation more legible; remember to add comments describing them!\n"
   ]
  },
  {
   "cell_type": "markdown",
   "id": "2b641863-a65b-41bd-82a3-755f1003f266",
   "metadata": {},
   "source": [
    "Similar to our previous work with transmissivity, we can make a plot to show how absorptivity affects surface temperature."
   ]
  },
  {
   "cell_type": "code",
   "execution_count": null,
   "id": "05a9062b-1e0c-41cd-951d-3ae97e608bf6",
   "metadata": {},
   "outputs": [],
   "source": [
    "# TO-DO: Plot surface temperature against absorptivity\n"
   ]
  },
  {
   "cell_type": "markdown",
   "id": "381fc818-0ddd-401c-bdf1-52e0848147cc",
   "metadata": {},
   "source": [
    "The AOCD textbook introduces a multi-layer atmosphere model in Section 2.3.3. Think through Problems 2.4-2.6, and then make a Python model of Figure 2.12. Show how surface temperature depends on the number of layers, assuming absorptivity is 1."
   ]
  },
  {
   "cell_type": "code",
   "execution_count": null,
   "id": "87a0bad7-7bec-4ca3-ab64-62bf9cd7fb0b",
   "metadata": {},
   "outputs": [],
   "source": [
    "# TO-DO: Plot surface temperature against number of layers\n"
   ]
  },
  {
   "cell_type": "markdown",
   "id": "67c6f345-0789-48e8-ba5b-66378760abc1",
   "metadata": {},
   "source": [
    "Lastly, we can consider how the multi-layer model behaves when absorptivity is less than 1. To keep things simple, let's use only two layers and assume they have the same absorptivity, which could vary between 0 and 1. Show how the temperature of each layer depends on absorptivity."
   ]
  },
  {
   "cell_type": "code",
   "execution_count": null,
   "id": "4ba7dcf7-81bb-4a99-98fa-e363b660ab54",
   "metadata": {},
   "outputs": [],
   "source": [
    "# TO-DO: Plot surface temperature, lower atmospheric temperature, and upper atmospheric temperature against absorptivity\n"
   ]
  },
  {
   "cell_type": "markdown",
   "id": "8dfca60c-3154-4870-a893-dda51294e30f",
   "metadata": {
    "jp-MarkdownHeadingCollapsed": true
   },
   "source": [
    "## Full Energy Balance (Qual.)"
   ]
  },
  {
   "cell_type": "markdown",
   "id": "99eda209-9905-475b-8bfd-ccdb3e04e2ec",
   "metadata": {},
   "source": [
    "<figure>\n",
    "    <img src=\"Lab1Images/fig2.png\" width=\"500\"/>\n",
    "    <figcaption>\n",
    "        <a href=\"https://www.ipcc.ch/report/ar6/wg1/figures/chapter-7/figure-7-2\"> Fig. 2: Global mean energy budget </a>\n",
    "    </figcaption>\n",
    "</figure>\n",
    "\n",
    "In around 250 words, answer the following questions about Figure 2.\n",
    "\n",
    "- Describe the different components of the energy budget. What are the important parts, and what are the smaller details?\n",
    "- The numbers in parentheses give a range of uncertainty. How and why does the uncertainty differ between the components?\n",
    "- Which components of the energy budget are represented in our model?\n",
    "- How do albedo and transmissivity correspond to the components in the figure?\n",
    "- What effect do the components *not* included in our model have on our model's accuracy?\n",
    "- What does the \"imbalance\" mean? How could it be included in our model?"
   ]
  },
  {
   "cell_type": "markdown",
   "id": "638d15ba-f599-4bf8-bbfb-81b9a91aeeb7",
   "metadata": {},
   "source": []
  },
  {
   "cell_type": "markdown",
   "id": "1bafdc95-0bc1-48b5-94ff-30741ae4d7ce",
   "metadata": {},
   "source": [
    "<figure>\n",
    "    <img src=\"Lab1Images/fig3.png\" width=\"500\"/>\n",
    "    <figcaption>\n",
    "        <a href=\"https://www.ipcc.ch/report/ar6/wg1/figures/chapter-7/figure-7-2\"> Fig. 3: Energy budget with no clouds </a>\n",
    "    </figcaption>\n",
    "</figure>\n",
    "\n",
    "In around 50 words, answer the following questions about Figure 3.\n",
    "\n",
    "- How does Figure 3 differ from Figure 2?\n",
    "- What, approximately, is the energy imbalance in Figure 3? What are the physical implications?"
   ]
  },
  {
   "cell_type": "markdown",
   "id": "ebc2d92a-fa86-4f3a-bc47-7eae358edafd",
   "metadata": {},
   "source": []
  }
 ],
 "metadata": {
  "kernelspec": {
   "display_name": "Python 3 (ipykernel)",
   "language": "python",
   "name": "python3"
  },
  "language_info": {
   "codemirror_mode": {
    "name": "ipython",
    "version": 3
   },
   "file_extension": ".py",
   "mimetype": "text/x-python",
   "name": "python",
   "nbconvert_exporter": "python",
   "pygments_lexer": "ipython3",
   "version": "3.12.3"
  }
 },
 "nbformat": 4,
 "nbformat_minor": 5
}
